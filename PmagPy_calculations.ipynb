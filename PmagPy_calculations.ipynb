{
 "cells": [
  {
   "cell_type": "markdown",
   "metadata": {},
   "source": [
    "# Calculations with PmagPy\n",
    "\n",
    "This notebook demonstrates many of the PmagPy calculation functions such as those that rotate directions, return statistical parameters, and simulate data from specified distributions.\n",
    "\n",
    "## Guide to PmagPy\n",
    "\n",
    "The notebook is one of a series of notebooks that demonstrate the functionality of PmagPy. The other notebooks are:\n",
    "\n",
    "- [PmagPy_introduction.ipynb](PmagPy_introduction.ipynb) This notebook introduces PmagPy and lists the functions that are demonstrated in the other notebooks. \n",
    "- [PmagPy_plots_analysis.ipynb](PmagPy_plots_analysis.ipynb) This notebook demonstrates PmagPy functions that can be used to visualize data as well as those that conduct statistical tests that have associated visualizations.\n",
    "- [PmagPy_MagIC.ipynb](PmagPy_MagIC.ipynb) This notebook demonstrates how PmagPy can be used to read and write data to and from the MagIC database format including conversion from many individual lab measurement file formats.\n",
    "\n",
    "## Customizing this notebook\n",
    "\n",
    "If you want to make changes to this notebook, you should make a copy (see File menu).  Otherwise each time you update **PmagPy**, your changes will be overwritten.\n",
    "\n",
    "## Get started\n",
    "\n",
    "To use the functions in this notebook, we have to   import the **PmagPy** modules **pmagplotlib**, **pmag** and **ipmag** and some other handy functions for use in the notebook.  This is done in the following code block which must be executed before running any other code block. To execute, click on the code block and then click on the \"Run\" button in the menu.  \n",
    "\n",
    "In order to access the example data, this notebook is meant to be run in the PmagPy-data directory (PmagPy directory for developers).\n",
    "\n",
    "Try it!  Run the code block below (click on the cell and then click 'Run'):"
   ]
  },
  {
   "cell_type": "code",
   "execution_count": null,
   "metadata": {},
   "outputs": [],
   "source": [
    "import pmagpy.pmag as pmag\n",
    "import pmagpy.pmagplotlib as pmagplotlib\n",
    "import pmagpy.ipmag as ipmag\n",
    "import matplotlib.pyplot as plt # our plotting buddy\n",
    "from pmagpy import convert_2_magic as convert\n",
    "import numpy as np # the fabulous NumPy package\n",
    "import pandas as pd # and of course Pandas\n",
    "has_cartopy, Cartopy = pmag.import_cartopy()\n",
    "from IPython.display import Image\n",
    "%matplotlib inline "
   ]
  },
  {
   "cell_type": "markdown",
   "metadata": {},
   "source": [
    "## Functions demonstrated within this notebook:\n",
    "\n",
    "- Functions in **PmagPy_calculations.ipynb**:\n",
    "    - [aarm_magic](#aarm_magic) : calculate AARM tensors\n",
    "    - [atrm_magic](#aarm_magic) : calculate ATRM tensors\n",
    "    - [angle](#angle) : calculates the angle between two vectors\n",
    "    - [apwp](#apwp) : returns predicted paleolatitudes, directions and pole latitude/longitude from apparent polar wander paths of Besse and Courtillot (2002).\n",
    "    - [b_vdm](#b_vdm) : converts B (in microT) and (magnetic) latitude to V(A)DM (see [vdm_b](#vdm_b))\n",
    "    - [bootams](#bootams) : calculates bootstrap statistics for tensor data\n",
    "    - [cart_dir](#cart_dir) : converts cartesian coordinates (x,y,z) to declination, inclination, intensity (see [dir_cart](#dir_cart))\n",
    "    - [di_eq](#di_eq) : maps declination, inclinatitions to X,Y for plotting in equal area projections\n",
    "    - [di_geo](#di_geo) : rotates declination, inclination in specimen coordinates to geographic coordinates\n",
    "    - [di_rot](#di_rot) : rotates directions to a  coordinate system with D,I as center\n",
    "    - [di_tilt](#di_tilt) : rotates directions to stratigraphic coordinates\n",
    "    - [di_vgp](#di_vgp) : converts direction to Virtual Geomagnetic Pole (see [vgp_di](#vgp_di))\n",
    "    - [dia_vgp](#dia_vgp) : converts direction and $\\alpha_{95}$ to Virtual Geomagnetic Pole and dp,dm\n",
    "    - [dipole_pinc](#dipole_pinc) : calculates inclination given latitude assuming geocentric axial dipole\n",
    "    - [dipole_plat](#dipole_plat) : calculates latitude given inclination assuming geocentric axial dipole\n",
    "    - [dir_cart](#dir_cart) : converts declination, inclination, intensity to cartesian coordinates (see [cart_dir](#cart_dir))\n",
    "    - [eigs_s](#eigs_s) : converts eigenparameters to equivalent 6 element tensor (see [s_eigs](#s_eigs))\n",
    "    - [eq_di](#eq_di) : takes X,Y from equal area projection (e.g., from digitized coordinates) and  converts to declination, inclination\n",
    "    - [fcalc](#fcalc) : returns the value from an F table, given the degrees of freedom.\n",
    "    - [fisher](#fisher) : generates sets of directions drawn from Fisher distributions with vertical true mean\n",
    "    - [fishrot](#fishrot) : generates sets of directions drawn from Fisher distributions with arbitrary true mean\n",
    "    - [flip](#flip) : flips a second mode (reverse directions) to their antipodes\n",
    "    - [gaussian](#gaussian) : generates data drawn from a normal distribution\n",
    "    - [gobing](#gobing) : calculates Bingham statistics from a set of directions\n",
    "    - [gofish](#gofish) : calculates Fisher statistics from a set of directions\n",
    "    - [gokent](#gokent) : calculates Kent statistics from a set of directions\n",
    "    - [goprinc](#goprinc) : calculates principal directions statistics\n",
    "    - [igrf](#igrf) : calculates geomagnetic field vectors for location, age given a field model (e.g., IGRF) including paleofield models (e.g., cals10k)\n",
    "    - [incfish](#incfish) : estimates the true mean inclination from inclination only data\n",
    "    - [pca](#pca) : calculates the best-fit line or plane for demagnetization data and associated statistics\n",
    "    - [pt_rot](#pt_rot) : rotates point given finite rotation pole\n",
    "    - [s_eigs](#s_eigs) : takes a 6 element tensor and calculates eigen parameters (see [eigs_s](#eigs_s))\n",
    "    - [s_geo](#s_geo) : rotates 6 element tensors to geographic coordinates\n",
    "    - [s_hext](#s_hext) : calculates Hext statistics from 6 element tensors\n",
    "    - [s_tilt](#s_tilt) : rotates 6 element tensors to stratigraphic coordinates\n",
    "    - [s_magic](#s_tilt) :\n",
    "    - [scalc](#scalc) : calculates  VGP scatter\n",
    "    - [scalc_magic](#scalc) : calculates  VGP scatter\n",
    "    - [separate_directions](#separate_directions) : separates a set of directions into two modes (normal and reverse)\n",
    "    - [squish](#squish): flattens inclination data given flattening factor (see [unsquish](#unsquish))\n",
    "    - [sundec](#sundec) : calulates direction to sun for location, date, time and sun azimuth\n",
    "    - [tk03](#tk03) : generates sets of directions consistent with the TK03 field model\n",
    "    - [uniform](#uniform) : generates sets of uniformly distributed directions\n",
    "    - [unsquish](#unsquish) : unsquishes flattened inclinations, given flattening factor (see [squish](#squish))\n",
    "    - [vdm_b](#vdm_b) : calculates intensity at given location from specified virtual dipole moment (see [b_vdm](#b_vdm))\n",
    "    - [vector_mean](#vector_mean) : calculates vector mean for sets of vectors (declination, inclination, intensity)\n",
    "    - [vgp_di](#vgp_di) : calculates direction at given location from virtual geomagnetic pole (see [di_vgp](#di_vgp))\n",
    "    - [watsons_f](#watsons_f) : calculates Watson's F statistic for testing for common mean"
   ]
  },
  {
   "cell_type": "markdown",
   "metadata": {},
   "source": [
    "## aarm_magic\n",
    "\n",
    "[\\[command line version\\]](https://pmagpy.github.io/PmagPy-cli.html#aarm_magic.py)\n",
    "\n",
    "Anisotropy of anhysteretic or other remanence can be converted to a tensor and used to correct natural remanence data for the effects of anisotropy remanence acquisition. For example, directions may be deflected from the geomagnetic field direction or intensities may be biased by strong anisotropies in the magnetic fabric of the specimen. By imparting an anhysteretic or thermal remanence in many specific orientations, the anisotropy of remanence acquisition can be characterized and used for correction. We do this for anisotropy of anhysteretic remanence (AARM) by imparting an ARM in 9, 12 or 15 positions. Each ARM must be preceded by an AF demagnetization step. The 15 positions are shown in the [k15_magic](#k15_magic) example.\n",
    "\n",
    "For the 9 position scheme, **aarm_magic** assumes that the AARMs are imparted in positions 1,2,3, 6,7,8, 11,12,13. Someone (a.k.a. Josh Feinberg) has kindly made the measurements and saved them an SIO formatted measurement file named aarm_magic_example.dat in the datafile directory called aarm_magic. Note the special format of these files - the treatment column (column #2) has the position number (1,2,3,6, etc.) followed by either a “00” for the obligatory zero field baseline step or a “10” for the in-field step. These could also be ‘0‘ and ‘1’.\n",
    "\n",
    "We need to first import these into the measurements format and then calculate the anisotropy tensors. These can then be plotted or used to correct paleointensity or directional data for anisotropy of remanence.\n",
    "\n",
    "So, first follow the instructions in  [sio_magic](#sio_magic) to import the AARM data into the MagIC format. The DC field was 50 μT, the peak AC field was 180 mT, the location was \"Bushveld\" and the lab protocol was AF and Anisotropy. The naming convention used Option # 3 (see help menu).\n",
    "\n",
    "Then we need  to calculate the best-fit tensor and write them out to the specimens.txt MagIC tables which can be used to correct remanence data for anisotropy. \n",
    "\n",
    "The **aarm_magic** program takes a measurements.txt formatted file with anisotropy of ARM data in it and calculates the tensors, rotates it into the desired coordinate system and stores the data in a specimens.txt format file.  To do this in a notebook, use **ipmag.aarm_magic()**.  "
   ]
  },
  {
   "cell_type": "code",
   "execution_count": 2,
   "metadata": {},
   "outputs": [
    {
     "name": "stdout",
     "output_type": "stream",
     "text": [
      "-I- Using online data model\n",
      "-I- Getting method codes from earthref.org\n",
      "-I- Importing controlled vocabularies from https://earthref.org\n",
      "-I- overwriting /Users/unimos/0000_Github/PmagPy/data_files/aarm_magic/specimens.txt\n",
      "-I- 7 records written to specimens file\n",
      "-I- overwriting /Users/unimos/0000_Github/PmagPy/data_files/aarm_magic/samples.txt\n",
      "-I- 1 records written to samples file\n",
      "-I- overwriting /Users/unimos/0000_Github/PmagPy/data_files/aarm_magic/sites.txt\n",
      "-I- 1 records written to sites file\n",
      "-I- overwriting /Users/unimos/0000_Github/PmagPy/data_files/aarm_magic/locations.txt\n",
      "-I- 1 records written to locations file\n",
      "-I- overwriting /Users/unimos/0000_Github/PmagPy/data_files/aarm_magic/aarm_measurements.txt\n",
      "-I- 126 records written to measurements file\n"
     ]
    },
    {
     "data": {
      "text/plain": [
       "(True,\n",
       " '/Users/unimos/0000_Github/PmagPy/data_files/aarm_magic/aarm_measurements.txt')"
      ]
     },
     "execution_count": 2,
     "metadata": {},
     "output_type": "execute_result"
    }
   ],
   "source": [
    "convert.sio('arm_magic_example.dat',dir_path='data_files/aarm_magic/',specnum=3,\n",
    "           location='Bushveld',codelist='AF:ANI',samp_con='3',\n",
    "           meas_file='aarm_measurements.txt',peakfield=180,labfield=50, phi=-1, theta=-1)"
   ]
  },
  {
   "cell_type": "code",
   "execution_count": 3,
   "metadata": {},
   "outputs": [
    {
     "name": "stdout",
     "output_type": "stream",
     "text": [
      "Help on function aarm_magic in module pmagpy.ipmag:\n",
      "\n",
      "aarm_magic(meas_file, dir_path='.', input_dir_path='', input_spec_file='specimens.txt', output_spec_file='specimens.txt')\n",
      "    Converts AARM  data to best-fit tensor (6 elements plus sigma)\n",
      "    \n",
      "    Parameters:\n",
      "        meas_file (str): \n",
      "            input measurement file\n",
      "        dir_path (str): \n",
      "            output directory, default \".\"\n",
      "        input_dir_path (str): \n",
      "            input file directory IF different from dir_path, default \"\"\n",
      "        input_spec_file (str): \n",
      "            input specimen file name, default \"specimens.txt\"\n",
      "        output_spec_file (str): \n",
      "            output specimen file name, default \"specimens.txt\"\n",
      "    \n",
      "    Returns:\n",
      "            True or False indicating if conversion was successful and output file name written\n",
      "    \n",
      "    Info:\n",
      "        Input for is a series of baseline, ARM pairs.\n",
      "        The baseline should be the AF demagnetized state (3 axis demag is\n",
      "        preferable) for the following ARM acquisition. The order of the\n",
      "        measurements is:\n",
      "            for 6 positions (AF demag before each step):\n",
      "                1) labfield parallel to X\n",
      "                2) labfield parallel to Y\n",
      "                3) labfield parallel to Z\n",
      "                4) labfield anti-parallel to X\n",
      "                5) labfield anti-parallel to Y\n",
      "                6) labfield anti-parallel to Z\n",
      "            for 9 positions (AF demag before each step):\n",
      "                positions 1,2,3,6,7,8,11,12,13 (from Figure D.2 in Essentials, earthref.org/MagIC/books/Tauxe/Essentials, Appendix D)\n",
      "            for 15  positions (AF demag before each step):\n",
      "                positions 1-15 (for 15 positions)\n",
      "\n"
     ]
    }
   ],
   "source": [
    "help(ipmag.aarm_magic)"
   ]
  },
  {
   "cell_type": "code",
   "execution_count": 4,
   "metadata": {},
   "outputs": [
    {
     "name": "stdout",
     "output_type": "stream",
     "text": [
      "adding AARM data for  bg2.01\n",
      "adding AARM data for  bg2.03\n",
      "adding AARM data for  bg2.06\n",
      "adding AARM data for  bg2.07\n",
      "adding AARM data for  bg2.08\n",
      "adding AARM data for  bg2.09\n",
      "adding AARM data for  bg2.12\n",
      "7  records written to file  /Users/unimos/0000_Github/PmagPy/data_files/aarm_magic/specimens.txt\n"
     ]
    }
   ],
   "source": [
    "ipmag.aarm_magic('aarm_measurements.txt',dir_path='data_files/aarm_magic/')"
   ]
  },
  {
   "cell_type": "code",
   "execution_count": 5,
   "metadata": {},
   "outputs": [
    {
     "data": {
      "text/plain": [
       "(True, [])"
      ]
     },
     "execution_count": 5,
     "metadata": {},
     "output_type": "execute_result"
    },
    {
     "data": {
      "image/png": "[encoded data removed]",
      "text/plain": [
       "<Figure size 432x288 with 1 Axes>"
      ]
     },
     "metadata": {
      "needs_background": "light"
     },
     "output_type": "display_data"
    },
    {
     "data": {
      "image/png": "[encoded data removed]",
      "text/plain": [
       "<Figure size 432x288 with 1 Axes>"
      ]
     },
     "metadata": {
      "needs_background": "light"
     },
     "output_type": "display_data"
    }
   ],
   "source": [
    "# plot the data generated by aarm_magic:\n",
    "ipmag.aniso_magic_nb(infile='data_files/aarm_magic/specimens.txt', save_plots=False)"
   ]
  },
  {
   "cell_type": "markdown",
   "metadata": {},
   "source": [
    "## atrm_magic\n",
    "\n",
    "[\\[command line version\\]](https://pmagpy.github.io/PmagPy-cli.html#atrm_magic.py)\n",
    "\n",
    "Anisotropy of thermal remanence (ATRM) is similar to anisotropy of anhysteretic remanence (AARM) and the procedure for obtaining the tensor is also similar. Therefore, the **atrm_magic** is quite similar to [aarm_magic](#aarm_magic). However, the SIO lab procedures for the two experiments are somewhat different. In the ATRM experiment, there is a single, zero field step at the chosen temperature which is used as a baseline. We use only six positions (as opposed to nine for AARM) because of the additional risk of alteration at each temperature step. The positions are also different:\n",
    "\n"
   ]
  },
  {
   "cell_type": "code",
   "execution_count": 6,
   "metadata": {},
   "outputs": [
    {
     "data": {
      "image/png": "[encoded data removed]",
      "text/plain": [
       "<IPython.core.display.Image object>"
      ]
     },
     "execution_count": 6,
     "metadata": {
      "image/png": {
       "width": 500
      }
     },
     "output_type": "execute_result"
    }
   ],
   "source": [
    "Image('data_files/Figures/atrm_meas.png',width=500)"
   ]
  },
  {
   "cell_type": "markdown",
   "metadata": {},
   "source": [
    "The file atrm_magic_example.dat in the data_files/atrm_magic directory is an SIO formatted data file containing ATRM measurement data done in a temperature of 520∘C. Note the special format of these files - the treatment column (column 2) has the temperature in centigrade followed by either a “00” for the obligatory zero field baseline step or a “10” for the first postion, and so on. These could also be ‘0‘ and ‘1’, etc..\n",
    "\n",
    "Follow the instructions for  [sio_magic](#sio_magic) to import the ATRM data into the MagIC format. The DC field was 40 μT. The sample/site naming convention used option # 1 (see help menu) and the specimen and sample name are the same (specnum=0). \n",
    "\n",
    "We will use **ipmag.atrm_magic()** to calculate the best-fit tensor and write out the MagIC tables which can be used to correct remanence data  for the effects of remanent anisotropy.\n",
    "\n"
   ]
  },
  {
   "cell_type": "code",
   "execution_count": 7,
   "metadata": {},
   "outputs": [
    {
     "name": "stdout",
     "output_type": "stream",
     "text": [
      "-I- overwriting /Users/unimos/0000_Github/PmagPy/data_files/atrm_magic/specimens.txt\n",
      "-I- 30 records written to specimens file\n",
      "-I- overwriting /Users/unimos/0000_Github/PmagPy/data_files/atrm_magic/samples.txt\n",
      "-I- 30 records written to samples file\n",
      "-I- overwriting /Users/unimos/0000_Github/PmagPy/data_files/atrm_magic/sites.txt\n",
      "-I- 10 records written to sites file\n",
      "-I- overwriting /Users/unimos/0000_Github/PmagPy/data_files/atrm_magic/locations.txt\n",
      "-I- 1 records written to locations file\n",
      "-I- overwriting /Users/unimos/0000_Github/PmagPy/data_files/atrm_magic/measurements.txt\n",
      "-I- 210 records written to measurements file\n"
     ]
    },
    {
     "data": {
      "text/plain": [
       "(True,\n",
       " '/Users/unimos/0000_Github/PmagPy/data_files/atrm_magic/measurements.txt')"
      ]
     },
     "execution_count": 7,
     "metadata": {},
     "output_type": "execute_result"
    }
   ],
   "source": [
    "convert.sio('atrm_magic_example.dat',dir_path='data_files/atrm_magic/',specnum=0,\n",
    "           location='unknown',codelist='T:ANI',samp_con='1',\n",
    "           meas_file='measurements.txt',labfield=40, phi=-1, theta=-1)"
   ]
  },
  {
   "cell_type": "code",
   "execution_count": 8,
   "metadata": {},
   "outputs": [
    {
     "name": "stdout",
     "output_type": "stream",
     "text": [
      "Help on function atrm_magic in module pmagpy.ipmag:\n",
      "\n",
      "atrm_magic(meas_file, dir_path='.', input_dir_path='', input_spec_file='specimens.txt', output_spec_file='specimens.txt')\n",
      "    Converts ATRM  data to best-fit tensor (6 elements plus sigma)\n",
      "    \n",
      "    Parameters:\n",
      "        meas_file (str): \n",
      "            input measurement file\n",
      "        dir_path (str): \n",
      "            output directory, default \".\"\n",
      "        input_dir_path (str): \n",
      "            input file directory IF different from dir_path, default \"\"\n",
      "        input_spec_file (str): \n",
      "            input specimen file name, default \"specimens.txt\"\n",
      "        output_spec_file (str): \n",
      "            output specimen file name, default \"specimens.txt\"\n",
      "    \n",
      "    \n",
      "    Returns:\n",
      "        Tuple : (True or False indicating if conversion was successful, output file name written)\n",
      "    \n",
      "    Info:\n",
      "        Input for is a series of ATRM measurements with optional alteration check\n",
      "        The order of the measurements is:\n",
      "    \n",
      "           positions:\n",
      "               - labfield parallel to X\n",
      "               - labfield parallel to Y\n",
      "               - labfield parallel to Z\n",
      "               - labfield anti-parallel to X\n",
      "               - labfield anti-parallel to Y\n",
      "               - labfield anti-parallel to Z\n",
      "               - optional: labfield parallel to X\n",
      "\n"
     ]
    }
   ],
   "source": [
    "help(ipmag.atrm_magic)"
   ]
  },
  {
   "cell_type": "code",
   "execution_count": 9,
   "metadata": {},
   "outputs": [
    {
     "name": "stdout",
     "output_type": "stream",
     "text": [
      "adding ATRM data for  ak01a\n",
      "adding ATRM data for  ak01b\n",
      "adding ATRM data for  ak01c\n",
      "adding ATRM data for  ak01d\n",
      "adding ATRM data for  ak03a\n",
      "adding ATRM data for  ak03b\n",
      "adding ATRM data for  ak03c\n",
      "adding ATRM data for  ak04a\n",
      "adding ATRM data for  ak04b\n",
      "adding ATRM data for  ak04c\n",
      "adding ATRM data for  ak04d\n",
      "adding ATRM data for  cb01a\n",
      "adding ATRM data for  cb01b\n",
      "adding ATRM data for  cb01c\n",
      "adding ATRM data for  cb02a\n",
      "adding ATRM data for  cb02c\n",
      "adding ATRM data for  cb05a\n",
      "adding ATRM data for  cb05b\n",
      "adding ATRM data for  cb06a\n",
      "adding ATRM data for  cb06b\n",
      "adding ATRM data for  cb09a\n",
      "adding ATRM data for  cb09b\n",
      "adding ATRM data for  cb09w\n",
      "adding ATRM data for  cb09x\n",
      "adding ATRM data for  cb11a\n",
      "adding ATRM data for  cb11b\n",
      "adding ATRM data for  cb12a\n",
      "adding ATRM data for  cb12b\n",
      "adding ATRM data for  cb12w\n",
      "adding ATRM data for  cb12x\n",
      "30  records written to file  /Users/unimos/0000_Github/PmagPy/data_files/atrm_magic/specimens.txt\n"
     ]
    }
   ],
   "source": [
    "ipmag.atrm_magic('measurements.txt',dir_path='data_files/atrm_magic')"
   ]
  },
  {
   "cell_type": "markdown",
   "metadata": {},
   "source": [
    "## angle\n",
    "\n",
    "[\\[Essentials Appendix A.3.4\\]](https://earthref.org/MagIC/books/Tauxe/Essentials/WebBook3ap1.html#x20-215000A.3.4) [\\[command line version\\]](https://pmagpy.github.io/PmagPy-cli.html#angle.py)\n",
    "\n",
    "**angle** calculates the angle $\\alpha$ between two declination,inclination pairs.\n",
    "\n",
    "There are several ways to use this function from the notebook - one loading the data into a Pandas dataframe, then converting to the desired arrays, or load directly into a **Numpy** array of desired shape.  "
   ]
  },
  {
   "cell_type": "code",
   "execution_count": 10,
   "metadata": {},
   "outputs": [
    {
     "name": "stdout",
     "output_type": "stream",
     "text": [
      "Help on function angle in module pmagpy.pmag:\n",
      "\n",
      "angle(D1, D2)\n",
      "    Calculate the angle between two directions.\n",
      "    \n",
      "    Parameters\n",
      "    ----------\n",
      "    D1 : Direction 1 as an array of [declination, inclination] pair or pairs\n",
      "    D2 : Direction 2 as an array of [declination, inclination] pair or pairs\n",
      "    \n",
      "    Returns\n",
      "    -------\n",
      "    angle : single-element array \n",
      "        angle between the input directions\n",
      "    \n",
      "    Examples\n",
      "    --------\n",
      "    >>> pmag.angle([350.0,10.0],[320.0,20.0])\n",
      "    array([ 30.59060998])\n",
      "    \n",
      "    >>> pmag.angle([[350.0,10.0],[320.0,20.0]],[[345,13],[340,14]])\n",
      "    array([ 5.744522410794302, 20.026413431433475])\n",
      "\n"
     ]
    }
   ],
   "source": [
    "help(pmag.angle)"
   ]
  },
  {
   "cell_type": "code",
   "execution_count": 11,
   "metadata": {},
   "outputs": [],
   "source": [
    "# Pandas way:\n",
    "di=pd.read_csv('data_files/angle/angle.dat',delim_whitespace=True,header=None)\n",
    "#rename column headers\n",
    "di.columns=['Dec1','Inc1','Dec2','Inc2']"
   ]
  },
  {
   "cell_type": "markdown",
   "metadata": {},
   "source": [
    "Here's the sort of data  in the file: "
   ]
  },
  {
   "cell_type": "code",
   "execution_count": 12,
   "metadata": {},
   "outputs": [
    {
     "data": {
      "text/html": [
       "<div>\n",
       "<style scoped>\n",
       "    .dataframe tbody tr th:only-of-type {\n",
       "        vertical-align: middle;\n",
       "    }\n",
       "\n",
       "    .dataframe tbody tr th {\n",
       "        vertical-align: top;\n",
       "    }\n",
       "\n",
       "    .dataframe thead th {\n",
       "        text-align: right;\n",
       "    }\n",
       "</style>\n",
       "<table border=\"1\" class=\"dataframe\">\n",
       "  <thead>\n",
       "    <tr style=\"text-align: right;\">\n",
       "      <th></th>\n",
       "      <th>Dec1</th>\n",
       "      <th>Inc1</th>\n",
       "      <th>Dec2</th>\n",
       "      <th>Inc2</th>\n",
       "    </tr>\n",
       "  </thead>\n",
       "  <tbody>\n",
       "    <tr>\n",
       "      <th>0</th>\n",
       "      <td>11.2</td>\n",
       "      <td>32.9</td>\n",
       "      <td>6.4</td>\n",
       "      <td>-42.9</td>\n",
       "    </tr>\n",
       "    <tr>\n",
       "      <th>1</th>\n",
       "      <td>11.5</td>\n",
       "      <td>63.7</td>\n",
       "      <td>10.5</td>\n",
       "      <td>-55.4</td>\n",
       "    </tr>\n",
       "    <tr>\n",
       "      <th>2</th>\n",
       "      <td>11.9</td>\n",
       "      <td>31.4</td>\n",
       "      <td>358.1</td>\n",
       "      <td>-71.8</td>\n",
       "    </tr>\n",
       "    <tr>\n",
       "      <th>3</th>\n",
       "      <td>349.6</td>\n",
       "      <td>36.2</td>\n",
       "      <td>356.3</td>\n",
       "      <td>-45.0</td>\n",
       "    </tr>\n",
       "    <tr>\n",
       "      <th>4</th>\n",
       "      <td>60.3</td>\n",
       "      <td>63.5</td>\n",
       "      <td>58.9</td>\n",
       "      <td>-56.6</td>\n",
       "    </tr>\n",
       "  </tbody>\n",
       "</table>\n",
       "</div>"
      ],
      "text/plain": [
       "    Dec1  Inc1   Dec2  Inc2\n",
       "0   11.2  32.9    6.4 -42.9\n",
       "1   11.5  63.7   10.5 -55.4\n",
       "2   11.9  31.4  358.1 -71.8\n",
       "3  349.6  36.2  356.3 -45.0\n",
       "4   60.3  63.5   58.9 -56.6"
      ]
     },
     "execution_count": 12,
     "metadata": {},
     "output_type": "execute_result"
    }
   ],
   "source": [
    "di.head()"
   ]
  },
  {
   "cell_type": "markdown",
   "metadata": {},
   "source": [
    "Now we will use **pmag.angle()** to calculate the angles.  "
   ]
  },
  {
   "cell_type": "code",
   "execution_count": 13,
   "metadata": {},
   "outputs": [
    {
     "data": {
      "text/plain": [
       "array([ 75.92745192891205 , 119.1025127296956  , 103.65330599212074 ,\n",
       "        81.42586581987345 , 120.10485590235263 , 100.8579261997827  ,\n",
       "        95.07347774390598 ,  74.10981614210885 ,  78.41266977284762 ,\n",
       "       120.05285684329023 , 114.36156913809734 ,  66.30664334660268 ,\n",
       "        85.38356936427427 ,  95.07546203260317 ,  93.84174000012182 ,\n",
       "        93.11663099831665 , 105.39087298983257 ,  71.78167882899753 ,\n",
       "       104.04746652568936 ,  93.84450444739515 ,  93.29827337445559 ,\n",
       "        96.3437795371629  ,  90.14271928648063 , 112.17559328487158 ,\n",
       "        90.06592091175148 , 120.0049301633127  ,  75.316041231499   ,\n",
       "        86.19902245845219 ,  85.85667798916327 ,  82.64834933601456 ,\n",
       "       115.51261895583767 ,  99.28623007373801 ,  65.94667660195377 ,\n",
       "        90.55185268879333 ,  90.5041885903135  ,  84.49253198460524 ,\n",
       "        93.00731364883667 ,  67.47153732610548 ,  76.84279617134958 ,\n",
       "        83.80354000487057 , 128.3068144982206  ,  91.69095399561142 ,\n",
       "        46.874412409911805, 110.66917836008615 , 103.69699188222262 ,\n",
       "        64.35444340804362 ,  81.94448358712249 ,  94.0181799838766  ,\n",
       "       121.19588845312292 ,  83.64445512077185 , 113.72812351979076 ,\n",
       "        76.38276774059446 , 113.38742873753196 ,  74.09024232460119 ,\n",
       "        79.42493098369492 ,  74.92842387182175 ,  90.55566309572258 ,\n",
       "        91.44844860819673 , 112.71773111267977 ,  77.26775911648576 ,\n",
       "        77.06338144061584 ,  62.41361128263387 ,  88.42053202793153 ,\n",
       "       106.29965884408928 , 100.55759277868363 , 143.79308212332327 ,\n",
       "       104.94537374981279 ,  91.83604986551077 ,  96.21780531522532 ,\n",
       "        85.5894147896796  ,  65.61977585680283 ,  88.64226463894141 ,\n",
       "        75.64540867686254 ,  93.36044833943946 , 101.25961804356123 ,\n",
       "       115.14897177748821 ,  86.70974596701846 ,  92.3299872832181  ,\n",
       "        91.8934743148163  , 102.39692203943784 ,  78.93051946146736 ,\n",
       "        93.41996659446909 ,  88.0899845743428  ,  94.50358254789398 ,\n",
       "        76.96036419274866 , 110.40068515827002 ,  89.2317978455828  ,\n",
       "        80.90505186698843 , 100.40590063202706 ,  91.88885370883919 ,\n",
       "       107.05953781415998 , 115.81850229582638 , 111.29193119758595 ,\n",
       "       124.61718069231195 ,  88.12341444694572 ,  66.94129883744137 ,\n",
       "        99.90439898135509 ,  76.73639991524554 ,  71.37398957659131 ,\n",
       "       100.77896060389322 ])"
      ]
     },
     "execution_count": 13,
     "metadata": {},
     "output_type": "execute_result"
    }
   ],
   "source": [
    "# call pmag.angle\n",
    "pmag.angle(di[['Dec1','Inc1']].values,di[['Dec2','Inc2']].values)"
   ]
  },
  {
   "cell_type": "markdown",
   "metadata": {},
   "source": [
    "Here is the other (equally valid) way using **np.loadtext()**."
   ]
  },
  {
   "cell_type": "code",
   "execution_count": 14,
   "metadata": {},
   "outputs": [
    {
     "data": {
      "text/plain": [
       "array([ 75.92745192891205 , 119.1025127296956  , 103.65330599212074 ,\n",
       "        81.42586581987345 , 120.10485590235263 , 100.8579261997827  ,\n",
       "        95.07347774390598 ,  74.10981614210885 ,  78.41266977284762 ,\n",
       "       120.05285684329023 , 114.36156913809734 ,  66.30664334660268 ,\n",
       "        85.38356936427427 ,  95.07546203260317 ,  93.84174000012182 ,\n",
       "        93.11663099831665 , 105.39087298983257 ,  71.78167882899753 ,\n",
       "       104.04746652568936 ,  93.84450444739515 ,  93.29827337445559 ,\n",
       "        96.3437795371629  ,  90.14271928648063 , 112.17559328487158 ,\n",
       "        90.06592091175148 , 120.0049301633127  ,  75.316041231499   ,\n",
       "        86.19902245845219 ,  85.85667798916327 ,  82.64834933601456 ,\n",
       "       115.51261895583767 ,  99.28623007373801 ,  65.94667660195377 ,\n",
       "        90.55185268879333 ,  90.5041885903135  ,  84.49253198460524 ,\n",
       "        93.00731364883667 ,  67.47153732610548 ,  76.84279617134958 ,\n",
       "        83.80354000487057 , 128.3068144982206  ,  91.69095399561142 ,\n",
       "        46.874412409911805, 110.66917836008615 , 103.69699188222262 ,\n",
       "        64.35444340804362 ,  81.94448358712249 ,  94.0181799838766  ,\n",
       "       121.19588845312292 ,  83.64445512077185 , 113.72812351979076 ,\n",
       "        76.38276774059446 , 113.38742873753196 ,  74.09024232460119 ,\n",
       "        79.42493098369492 ,  74.92842387182175 ,  90.55566309572258 ,\n",
       "        91.44844860819673 , 112.71773111267977 ,  77.26775911648576 ,\n",
       "        77.06338144061584 ,  62.41361128263387 ,  88.42053202793153 ,\n",
       "       106.29965884408928 , 100.55759277868363 , 143.79308212332327 ,\n",
       "       104.94537374981279 ,  91.83604986551077 ,  96.21780531522532 ,\n",
       "        85.5894147896796  ,  65.61977585680283 ,  88.64226463894141 ,\n",
       "        75.64540867686254 ,  93.36044833943946 , 101.25961804356123 ,\n",
       "       115.14897177748821 ,  86.70974596701846 ,  92.3299872832181  ,\n",
       "        91.8934743148163  , 102.39692203943784 ,  78.93051946146736 ,\n",
       "        93.41996659446909 ,  88.0899845743428  ,  94.50358254789398 ,\n",
       "        76.96036419274866 , 110.40068515827002 ,  89.2317978455828  ,\n",
       "        80.90505186698843 , 100.40590063202706 ,  91.88885370883919 ,\n",
       "       107.05953781415998 , 115.81850229582638 , 111.29193119758595 ,\n",
       "       124.61718069231195 ,  88.12341444694572 ,  66.94129883744137 ,\n",
       "        99.90439898135509 ,  76.73639991524554 ,  71.37398957659131 ,\n",
       "       100.77896060389322 ])"
      ]
     },
     "execution_count": 14,
     "metadata": {},
     "output_type": "execute_result"
    }
   ],
   "source": [
    "# Numpy way:\n",
    "di=np.loadtxt('data_files/angle/angle.dat').transpose() # read in file\n",
    "D1=di[0:2].transpose() # assign to first array\n",
    "D2=di[2:].transpose() # assign to second array\n",
    "pmag.angle(D1,D2) # call pmag.angle"
   ]
  },
  {
   "cell_type": "markdown",
   "metadata": {},
   "source": [
    "You can always save your output using **np.savetxt()**.   "
   ]
  },
  {
   "cell_type": "code",
   "execution_count": 15,
   "metadata": {},
   "outputs": [],
   "source": [
    "angles=pmag.angle(D1,D2) # assign the returned array to angles"
   ]
  },
  {
   "cell_type": "markdown",
   "metadata": {},
   "source": [
    "## apwp\n",
    "\n",
    "[\\[Essentials Chapter 16\\]](https://earthref.org/MagIC/books/Tauxe/Essentials/WebBook3ch16.html#x15-15600016)  [\\[command line version\\]](https://pmagpy.github.io/PmagPy-cli.html#apwp.py)\n",
    "\n",
    "The program **apwp** calculates paleolatitude, declination, inclination from a pole latitude and longitude based on the paper Besse and Courtillot (2002; see [Essentials Chapter 16](https://earthref.org/MagIC/books/Tauxe/Essentials/WebBook3ch16.html#x15-15600016)   for complete discussion). Here we will  calculate the expected direction for 100 million year old rocks at a locality in La Jolla Cove (Latitude: 33$^{\\circ}$N, Longitude 117$^{\\circ}$W). Assume that we are on the North American Plate! (Note that there IS no option for the Pacific plate in the program **apwp**, and that La Jolla was on the North American plate until a few million years ago (6?). \n",
    "\n",
    "\n",
    "Within the notebook we will call **pmag.apwp**.\n"
   ]
  },
  {
   "cell_type": "code",
   "execution_count": 16,
   "metadata": {},
   "outputs": [
    {
     "name": "stdout",
     "output_type": "stream",
     "text": [
      "Help on function apwp in module pmagpy.pmag:\n",
      "\n",
      "apwp(data, print_results=False)\n",
      "    Calculates expected pole positions and directions for given plate, location and age.\n",
      "    \n",
      "    Parameters\n",
      "    ----------\n",
      "    data : [plate,lat,lon,age]\n",
      "        plate : [NA, SA, AF, IN, EU, AU, ANT, GL]\n",
      "            NA : North America\n",
      "            SA : South America\n",
      "            AF : Africa\n",
      "            IN : India\n",
      "            EU : Eurasia\n",
      "            AU : Australia\n",
      "            ANT: Antarctica\n",
      "            GL : Greenland\n",
      "            lat/lon : latitude/longitude in degrees N/E\n",
      "            age : age in millions of years\n",
      "    print_results : if True will print out nicely formatted results\n",
      "    \n",
      "    Returns\n",
      "    -------\n",
      "    if print_results is False, [Age,Paleolat, Dec, Inc, Pole_lat, Pole_lon]\n",
      "\n"
     ]
    }
   ],
   "source": [
    "help(pmag.apwp)"
   ]
  },
  {
   "cell_type": "code",
   "execution_count": 17,
   "metadata": {},
   "outputs": [
    {
     "name": "stdout",
     "output_type": "stream",
     "text": [
      " Age   Paleolat.   Dec.   Inc.   Pole_lat.  Pole_Long.\n",
      "  100.0    38.8   352.4    58.1    81.5    198.3\n",
      "\n"
     ]
    }
   ],
   "source": [
    "# here are the desired plate, latitude, longitude and age:\n",
    "data=['NA',33,-117,100] # North American plate, lat and lon of San Diego at 100 Ma\n",
    "pmag.apwp(data,print_results=True)"
   ]
  },
  {
   "cell_type": "markdown",
   "metadata": {},
   "source": [
    "## b_vdm\n",
    "\n",
    "[\\[Essentials Chapter 2\\]](https://earthref.org/MagIC/books/Tauxe/Essentials/WebBook3ch2.html#x15-1560002)  [\\[command line version\\]](https://pmagpy.github.io/PmagPy-cli.html#b_vdm.py)\n",
    "\n",
    "\n",
    "\n",
    "**b_vdm** converts geomagnetic field intensity observed at the earth's surface at a particular (paleo)latitude and calculates the Virtual \\[Axial\\] Dipole Moment (vdm or vadm).  We will call **pmag.b_vdm()** directly from within the notebook. \\[See also [**vdm_b**](#vdm_b).\\]\n",
    "\n",
    "Here we use the function  **pmag.b_vdm()** to convert an estimated paleofield value of 33 $\\mu$T obtained from a lava flow at 22$^{\\circ}$ N latitude to the equivalent Virtual Dipole Moment (VDM) in Am$^2$. "
   ]
  },
  {
   "cell_type": "code",
   "execution_count": 18,
   "metadata": {},
   "outputs": [
    {
     "name": "stdout",
     "output_type": "stream",
     "text": [
      "Help on function b_vdm in module pmagpy.pmag:\n",
      "\n",
      "b_vdm(B, lat)\n",
      "    Converts a magnetic field value of list of values to  virtual dipole moment (VDM)\n",
      "    or a virtual axial dipole moment (VADM).\n",
      "    \n",
      "    Parameters\n",
      "    B: local magnetic field strength in tesla, as a value or list of values\n",
      "    lat: latitude of site in degrees\n",
      "    \n",
      "    Returns\n",
      "    VDM or V(A)DM in units of Am^2\n",
      "    \n",
      "    Examples\n",
      "    --------\n",
      "    >>> pmag.b_vdm(33e-6,22)*1e-21\n",
      "    71.58815974511788\n",
      "\n"
     ]
    }
   ],
   "source": [
    "help(pmag.b_vdm)"
   ]
  },
  {
   "cell_type": "code",
   "execution_count": 19,
   "metadata": {},
   "outputs": [
    {
     "name": "stdout",
     "output_type": "stream",
     "text": [
      "   71.6  ZAm^2\n"
     ]
    }
   ],
   "source": [
    "print ('%7.1f'%(pmag.b_vdm(33e-6,22)*1e-21),' ZAm^2')"
   ]
  },
  {
   "cell_type": "code",
   "execution_count": 20,
   "metadata": {},
   "outputs": [
    {
     "data": {
      "text/plain": [
       "71.58815974511788"
      ]
     },
     "execution_count": 20,
     "metadata": {},
     "output_type": "execute_result"
    }
   ],
   "source": [
    "pmag.b_vdm(33e-6,22)*1e-21"
   ]
  },
  {
   "cell_type": "markdown",
   "metadata": {},
   "source": [
    "## bootams\n",
    "\n",
    "[\\[Essentials Chapter 13\\]](https://earthref.org/MagIC/books/Tauxe/Essentials/WebBook3ch13.html#x15-15600013)  [\\[command line version\\]](https://pmagpy.github.io/PmagPy-cli.html#bootams.py)\n",
    "\n",
    " **bootams** calculates bootstrap statistics for anisotropy tensor data in the form of:\n",
    "\n",
    "x11 x22 x33 x12 x23 x13\n",
    "\n",
    "It does this by selecting para-data sets and calculating the Hext average eigenparameters. It has an optional parametric bootstrap whereby the $\\sigma$ for the data set as a whole is used to draw new para data sets. The bootstrapped eigenparameters are assumed to be Kent distributed and the program calculates Kent error ellipses for each set of eigenvectors. It also estimates the standard deviations of the bootstrapped eigenvalues.\n",
    "\n",
    "**bootams**   reads in a file with data for the six tensor elements (x11 x22 x33 x12 x23 x13) for specimens, calls **pmag.s_boot()**  using a parametric or non-parametric bootstrap as desired. If all that is desired is the bootstrapped eigenparameters, **pmag.s_boot()** has all we need, but if the Kent ellipses are required, and we can call **pmag.sbootpars()** to calculated these more derived products and  print them out.\n",
    "\n",
    "Note that every time the bootstrap program gets called, the output will be slightly different because this depends on calls to random number generators. If the answers are different by a lot, then the number of bootstrap calculations is too low. The number of bootstraps can be changed with the nb option below. \n",
    "\n",
    "\n",
    "We can do all this from within the notebook as follows: "
   ]
  },
  {
   "cell_type": "code",
   "execution_count": 21,
   "metadata": {},
   "outputs": [
    {
     "name": "stdout",
     "output_type": "stream",
     "text": [
      "Help on function s_boot in module pmagpy.pmag:\n",
      "\n",
      "s_boot(Ss, ipar=0, nb=1000)\n",
      "    Returns bootstrap parameters for S data.\n",
      "    \n",
      "    Parameters\n",
      "    ----------\n",
      "    Ss : nested array of [[x11 x22 x33 x12 x23 x13],....] data\n",
      "    ipar : if True, do a parametric bootstrap\n",
      "    nb : number of bootstraps\n",
      "    \n",
      "    Returns\n",
      "    -------\n",
      "    Tmean : average eigenvalues\n",
      "    Vmean : average eigvectors\n",
      "    Taus : bootstrapped eigenvalues\n",
      "    Vs :  bootstrapped eigenvectors\n",
      "    \n",
      "    Examples\n",
      "    --------\n",
      "    >>> Ss = [[0.33586472,0.32757074,0.33656454,0.0056526,0.00449771,-0.00036542], [0.33815295,0.32601482,0.33583224,0.00754076,0.00405271,-0.0001627],\n",
      "        [0.33806428,0.32925552,0.33268023,0.00480824,-0.00168595,0.0009308], [0.33939844,0.32750368,0.33309788,0.00763409,0.00264978,0.00070303],\n",
      "        [0.3348785,0.32816416,0.33695734,0.00574405,0.00278172,-0.00073475], [0.33485019,0.32948497,0.33566481,0.00597801,0.00426423,-0.00040056]]\n",
      "    >>> pmag.s_boot(Ss,0,2)\n",
      "    ([0.34040287, 0.3353659, 0.32423124],\n",
      "     [[29.594002551414974, 14.457521581993113],\n",
      "      [166.31028417625646, 70.4972100801602],\n",
      "      [296.2343306258123, 12.805665338949966]],\n",
      "     [[0.34002233, 0.33413905, 0.32583863], [0.34043044, 0.33551994, 0.32404962]],\n",
      "     [[[26.298051965057486, 5.235004519419732],\n",
      "       [183.15464080261913, 84.30971842978398],\n",
      "       [296.0941733228108, 2.224044816930646]],\n",
      "      [[28.798353815000212, 14.686330248560294],\n",
      "       [166.21187481069492, 70.40546729047502],\n",
      "       [295.4174263407004, 12.681162985818712]]])\n",
      "\n"
     ]
    }
   ],
   "source": [
    "help(pmag.s_boot)"
   ]
  },
  {
   "cell_type": "markdown",
   "metadata": {},
   "source": [
    "So we will:\n",
    "- read in the AMS tensor data\n",
    "- get the bootstrapped eigenparameters\n",
    "- print out the formatted results"
   ]
  },
  {
   "cell_type": "code",
   "execution_count": 22,
   "metadata": {},
   "outputs": [
    {
     "name": "stdout",
     "output_type": "stream",
     "text": [
      "tau tau_sigma V_dec V_inc V_eta V_eta_dec V_eta_inc V_zeta V_zeta_dec V_zeta_inc\n",
      "\n",
      "0.33505 0.00021     5.3    14.7    13.8   111.9    47.3    10.2   261.0    38.4\n",
      "0.33334 0.00020   124.5    61.7    17.7   317.7    28.6     6.1   224.7     5.6\n",
      "0.33161 0.00014   268.8    23.6    12.9   100.0    65.6    10.6   358.6     5.1\n"
     ]
    }
   ],
   "source": [
    "Ss=np.loadtxt('data_files/bootams/bootams_example.dat')\n",
    "Tmean,Vmean,Taus,Vs=pmag.s_boot(Ss) # get the bootstrapped eigenparameters\n",
    "bpars=pmag.sbootpars(Taus,Vs) # calculate kent parameters for bootstrap\n",
    "print(\"\"\"tau tau_sigma V_dec V_inc V_eta V_eta_dec V_eta_inc V_zeta V_zeta_dec V_zeta_inc\n",
    "\"\"\")\n",
    "outstring='%7.5f %7.5f %7.1f %7.1f %7.1f %7.1f %7.1f %7.1f %7.1f %7.1f'%(\\\n",
    "          Tmean[0],bpars[\"t1_sigma\"],Vmean[0][0],Vmean[0][1],\\\n",
    "          bpars[\"v1_zeta\"],bpars[\"v1_zeta_dec\"],bpars[\"v1_zeta_inc\"],\\\n",
    "          bpars[\"v1_eta\"],bpars[\"v1_eta_dec\"],bpars[\"v1_eta_inc\"])\n",
    "print(outstring)\n",
    "outstring='%7.5f %7.5f %7.1f %7.1f %7.1f %7.1f %7.1f %7.1f %7.1f %7.1f'%(\\\n",
    "          Tmean[1],bpars[\"t2_sigma\"],Vmean[1][0],Vmean[1][1],\\\n",
    "          bpars[\"v2_zeta\"],bpars[\"v2_zeta_dec\"],bpars[\"v2_zeta_inc\"],\\\n",
    "          bpars[\"v2_eta\"],bpars[\"v2_eta_dec\"],bpars[\"v2_eta_inc\"])\n",
    "print(outstring)\n",
    "outstring='%7.5f %7.5f %7.1f %7.1f %7.1f %7.1f %7.1f %7.1f %7.1f %7.1f'%(\\\n",
    "          Tmean[2],bpars[\"t3_sigma\"],Vmean[2][0],Vmean[2][1],\\\n",
    "          bpars[\"v3_zeta\"],bpars[\"v3_zeta_dec\"],bpars[\"v3_zeta_inc\"],\\\n",
    "          bpars[\"v3_eta\"],bpars[\"v3_eta_dec\"],bpars[\"v3_eta_inc\"])\n",
    "print(outstring)"
   ]
  },
  {
   "cell_type": "code",
   "execution_count": 23,
   "metadata": {},
   "outputs": [
    {
     "name": "stdout",
     "output_type": "stream",
     "text": [
      "tau tau_sigma V_dec V_inc V_eta V_eta_dec V_eta_inc V_zeta V_zeta_dec V_zeta_inc\n",
      "\n",
      "0.33505 0.00021     5.3    14.7    22.6   117.7    57.2    10.2   267.1    29.1\n",
      "0.33334 0.00023   124.5    61.7    23.4   336.9    23.2    19.2   241.1    13.2\n",
      "0.33161 0.00027   268.8    23.6    20.0   135.1    58.5    10.4     7.8    20.3\n"
     ]
    }
   ],
   "source": [
    "# with parametric bootstrap: \n",
    "Ss=np.loadtxt('data_files/bootams/bootams_example.dat')\n",
    "Tmean,Vmean,Taus,Vs=pmag.s_boot(Ss,ipar=1,nb=5000) # get the bootstrapped eigenparameters\n",
    "bpars=pmag.sbootpars(Taus,Vs) # calculate kent parameters for bootstrap\n",
    "print(\"\"\"tau tau_sigma V_dec V_inc V_eta V_eta_dec V_eta_inc V_zeta V_zeta_dec V_zeta_inc\n",
    "\"\"\")\n",
    "outstring='%7.5f %7.5f %7.1f %7.1f %7.1f %7.1f %7.1f %7.1f %7.1f %7.1f'%(\\\n",
    "          Tmean[0],bpars[\"t1_sigma\"],Vmean[0][0],Vmean[0][1],\\\n",
    "          bpars[\"v1_zeta\"],bpars[\"v1_zeta_dec\"],bpars[\"v1_zeta_inc\"],\\\n",
    "          bpars[\"v1_eta\"],bpars[\"v1_eta_dec\"],bpars[\"v1_eta_inc\"])\n",
    "print(outstring)\n",
    "outstring='%7.5f %7.5f %7.1f %7.1f %7.1f %7.1f %7.1f %7.1f %7.1f %7.1f'%(\\\n",
    "          Tmean[1],bpars[\"t2_sigma\"],Vmean[1][0],Vmean[1][1],\\\n",
    "          bpars[\"v2_zeta\"],bpars[\"v2_zeta_dec\"],bpars[\"v2_zeta_inc\"],\\\n",
    "          bpars[\"v2_eta\"],bpars[\"v2_eta_dec\"],bpars[\"v2_eta_inc\"])\n",
    "print(outstring)\n",
    "outstring='%7.5f %7.5f %7.1f %7.1f %7.1f %7.1f %7.1f %7.1f %7.1f %7.1f'%(\\\n",
    "          Tmean[2],bpars[\"t3_sigma\"],Vmean[2][0],Vmean[2][1],\\\n",
    "          bpars[\"v3_zeta\"],bpars[\"v3_zeta_dec\"],bpars[\"v3_zeta_inc\"],\\\n",
    "          bpars[\"v3_eta\"],bpars[\"v3_eta_dec\"],bpars[\"v3_eta_inc\"])\n",
    "print(outstring)"
   ]
  },
  {
   "cell_type": "markdown",
   "metadata": {},
   "source": [
    "## cart_dir\n",
    "\n",
    "[\\[Essentials Chapter 2\\]](https://earthref.org/MagIC/books/Tauxe/Essentials/WebBook3ch2.html#x15-1560002)  [\\[command line version\\]](https://pmagpy.github.io/PmagPy-cli.html#cart_dir.py)\n",
    "\n",
    "**cart_dir** converts cartesian coordinates (X,Y,Z) to polar coordinates (Declination, Inclination, Intensity).  We will call **pmag.cart2dir()**."
   ]
  },
  {
   "cell_type": "code",
   "execution_count": 24,
   "metadata": {},
   "outputs": [
    {
     "name": "stdout",
     "output_type": "stream",
     "text": [
      "Help on function cart2dir in module pmagpy.pmag:\n",
      "\n",
      "cart2dir(cart)\n",
      "    Converts a direction in cartesian coordinates into declinations and inclination.\n",
      "    \n",
      "    Parameters\n",
      "    ----------\n",
      "    cart : list of [x,y,z] or list of lists [[x1,y1,z1],[x2,y2,z2]...]\n",
      "    \n",
      "    Returns\n",
      "    -------\n",
      "    direction_array : array of [declination, inclination, intensity]\n",
      "    \n",
      "    Examples\n",
      "    --------\n",
      "    >>> pmag.cart2dir([0,1,0])\n",
      "    array([ 90.,   0.,   1.])\n",
      "\n"
     ]
    }
   ],
   "source": [
    "help(pmag.cart2dir)"
   ]
  },
  {
   "cell_type": "code",
   "execution_count": 25,
   "metadata": {},
   "outputs": [
    {
     "name": "stdout",
     "output_type": "stream",
     "text": [
      "Input: \n",
      " [[ 0.3971 -0.1445  0.9063]\n",
      " [-0.5722  0.04   -0.8192]]\n",
      "Output: \n",
      "  340.0    65.0 1.000e+00\n",
      "  176.0   -55.0 1.000e+00\n"
     ]
    }
   ],
   "source": [
    "# read in data file from example file\n",
    "cart=np.loadtxt('data_files/cart_dir/cart_dir_example.dat')\n",
    "print ('Input: \\n',cart) # print out the cartesian coordinates\n",
    "# print out the  results\n",
    "dirs = pmag.cart2dir(cart)\n",
    "print (\"Output: \")\n",
    "for d in dirs:\n",
    "    print ('%7.1f %7.1f %8.3e'%(d[0],d[1],d[2]))"
   ]
  },
  {
   "cell_type": "markdown",
   "metadata": {},
   "source": [
    "## di_eq\n",
    "\n",
    "[\\[Essentials Appendix B\\]](https://earthref.org/MagIC/books/Tauxe/Essentials/WebBook3ap2.html#equal_area) \n",
    "[\\[command line version\\]](https://pmagpy.github.io/PmagPy-cli.html#di_eq.py)\n",
    "\n",
    "Paleomagnetic data are frequently plotted in equal area projection. PmagPy has several plotting options which do this (e.g., [**eqarea**](#eqarea), but occasionally it is handy to be able to convert the directions to X,Y coordinates directly, without plotting them at all.  Here is an example transcript of a session using the datafile di_eq_example.dat: \n",
    "\n",
    "The program **di_eq**  program calls **pmag.dimap()** which we can do from within a Jupyter notebook."
   ]
  },
  {
   "cell_type": "code",
   "execution_count": 26,
   "metadata": {},
   "outputs": [
    {
     "name": "stdout",
     "output_type": "stream",
     "text": [
      "Help on function dimap in module pmagpy.pmag:\n",
      "\n",
      "dimap(D, I)\n",
      "    Function to map directions  to x,y pairs in equal area projection.\n",
      "    \n",
      "    Parameters\n",
      "    ----------\n",
      "    D : list or array of declinations (as float)\n",
      "    I : list or array or inclinations (as float)\n",
      "    \n",
      "    Returns\n",
      "    -------\n",
      "    XY : x, y values of directions for equal area projection [x,y]\n",
      "\n"
     ]
    }
   ],
   "source": [
    "help(pmag.dimap)"
   ]
  },
  {
   "cell_type": "code",
   "execution_count": 27,
   "metadata": {},
   "outputs": [
    {
     "name": "stdout",
     "output_type": "stream",
     "text": [
      "[[-0.239410246726454 -0.893491204635728]\n",
      " [ 0.43641303103711   0.712161340982897]\n",
      " [ 0.063844216333699  0.760300494699076]\n",
      " [ 0.321447089985745  0.686216056919847]\n",
      " [ 0.322719926465939  0.670562477292019]\n",
      " [ 0.40741223141123   0.540654291959088]\n",
      " [ 0.580156197965772  0.340375619675307]\n",
      " [ 0.105350890091248  0.657727583773614]\n",
      " [ 0.247173076245911  0.599686833302561]\n",
      " [ 0.182349076131709  0.615600164182434]\n",
      " [ 0.174815070186047  0.601717418322389]\n",
      " [ 0.282746000006373  0.545472330043217]\n",
      " [ 0.264863147796004  0.538272991570854]\n",
      " [ 0.235758380478676  0.534535804147291]\n",
      " [ 0.290665090097181  0.505482084190786]\n",
      " [ 0.260629054517158  0.511513320435249]\n",
      " [ 0.232089826300174  0.516423284008805]\n",
      " [ 0.244448388352784  0.505665778457508]\n",
      " [ 0.277926522878077  0.464381380649951]\n",
      " [ 0.250510302009082  0.477151812372957]\n",
      " [ 0.291770036871037  0.440816440147079]\n",
      " [ 0.108769487035437  0.516148206033583]\n",
      " [ 0.196706458393983  0.482014462236026]\n",
      " [ 0.349389953278067  0.38129222620055 ]\n",
      " [ 0.168406801194016  0.475566135914593]\n",
      " [ 0.206285861983076  0.446443509246407]\n",
      " [ 0.175700815230645  0.450649287593256]\n",
      " [ 0.301103809085031  0.378539367880683]\n",
      " [ 0.204954965076977  0.423969708545639]\n",
      " [ 0.199754730751726  0.42258440000015 ]\n",
      " [ 0.346919991690539  0.308009981708959]\n",
      " [ 0.119029885607341  0.441144367939582]\n",
      " [ 0.239847938725944  0.376485850119473]\n",
      " [ 0.269528430306644  0.342509539736692]\n",
      " [ 0.085450914279173  0.423789311099072]\n",
      " [ 0.192223989805583  0.387232716458973]\n",
      " [ 0.172607773570199  0.395083583747566]\n",
      " [ 0.272008463720247  0.320741371092207]\n",
      " [ 0.393980770633061  0.117450768822735]\n",
      " [-0.017726445513358  0.406002352044979]\n",
      " [ 0.154272684418201  0.3670002137562  ]\n",
      " [ 0.213902758532676  0.335760074974387]\n",
      " [ 0.103220763284864  0.372202048090602]\n",
      " [ 0.231833489652839  0.283245175229779]\n",
      " [ 0.072160416685248  0.35153813896023 ]\n",
      " [ 0.00780195711033   0.319235890376745]\n",
      " [ 0.152583028215554  0.265350018775054]\n",
      " [ 0.248133323834759  0.136412449142214]]\n"
     ]
    }
   ],
   "source": [
    "DIs=np.loadtxt('data_files/di_eq/di_eq_example.dat').transpose() # load in the data\n",
    "print (pmag.dimap(DIs[0],DIs[1])) # call the function"
   ]
  },
  {
   "cell_type": "markdown",
   "metadata": {},
   "source": [
    "## di_geo\n",
    "\n",
    "[\\[Essentials Chapter 9\\]](https://earthref.org/MagIC/books/Tauxe/Essentials/WebBook3ch9.html) \n",
    "and [Changing coordinate systems](http://earthref.org/MAGIC/books/Tauxe/Essentials/WebBook3ap1.html#Changing_coordinate_systems)\n",
    "[\\[command line version\\]](https://pmagpy.github.io/PmagPy-cli.html#di_geo.py)\n",
    "\n",
    "Here we will convert D = 8.1,I = 45.2 from specimen coordinates to geographic-adjusted coordinates. The orientation of laboratory arrow on the specimen was: azimuth = 347; plunge = 27. To do this we will call **pmag.dogeo()**. There is also **pmag.dogeo_V** for arrays of data. \n",
    "\n",
    "So let's start with **pmag.dogeo()**."
   ]
  },
  {
   "cell_type": "code",
   "execution_count": 28,
   "metadata": {},
   "outputs": [
    {
     "name": "stdout",
     "output_type": "stream",
     "text": [
      "Help on function dogeo in module pmagpy.pmag:\n",
      "\n",
      "dogeo(dec, inc, az, pl)\n",
      "    Rotates declination and inclination into geographic coordinates using the\n",
      "    azimuth and plunge of the X direction (lab arrow) of a specimen.\n",
      "    \n",
      "    Parameters\n",
      "    ----------\n",
      "    dec : declination in specimen coordinates\n",
      "    inc : inclination in specimen coordinates\n",
      "    \n",
      "    Returns\n",
      "    -------\n",
      "    rotated_direction : tuple of declination, inclination in geographic coordinates\n",
      "    \n",
      "    Examples\n",
      "    --------\n",
      "    >>> pmag.dogeo(0.0,90.0,0.0,45.5)\n",
      "    (180.0, 44.5)\n",
      "\n"
     ]
    }
   ],
   "source": [
    "help(pmag.dogeo)"
   ]
  },
  {
   "cell_type": "code",
   "execution_count": 29,
   "metadata": {},
   "outputs": [
    {
     "data": {
      "text/plain": [
       "(94.83548541337562, 43.02168490109632)"
      ]
     },
     "execution_count": 29,
     "metadata": {},
     "output_type": "execute_result"
    }
   ],
   "source": [
    "pmag.dogeo(dec=81,inc=45.2,az=347,pl=27)"
   ]
  },
  {
   "cell_type": "markdown",
   "metadata": {},
   "source": [
    "Now let's check out the version that takes many data points at once. "
   ]
  },
  {
   "cell_type": "code",
   "execution_count": 30,
   "metadata": {},
   "outputs": [
    {
     "name": "stdout",
     "output_type": "stream",
     "text": [
      "Help on function dogeo_V in module pmagpy.pmag:\n",
      "\n",
      "dogeo_V(indat)\n",
      "    Rotates declination and inclination into geographic coordinates using the\n",
      "    azimuth and plunge of the X direction (lab arrow) of a specimen.\n",
      "    \n",
      "    Parameters\n",
      "    ----------\n",
      "    indat : array of lists \n",
      "        data format: [dec, inc, az, pl] \n",
      "    \n",
      "    Returns\n",
      "    -------\n",
      "    two arrays : \n",
      "        an array of declinations\n",
      "        an array of inclinations\n",
      "        \n",
      "    Examples\n",
      "    --------\n",
      "    >>> pmag.dogeo_V(np.array([[0.0,90.0,0.0,45.5],[0.0,90.0,0.0,45.5]]))\n",
      "    (array([180., 180.]), array([44.5, 44.5]))\n",
      "\n"
     ]
    }
   ],
   "source": [
    "help(pmag.dogeo_V)"
   ]
  },
  {
   "cell_type": "code",
   "execution_count": 31,
   "metadata": {},
   "outputs": [
    {
     "name": "stdout",
     "output_type": "stream",
     "text": [
      "[[ 288.1   35.8   67.   -36. ]\n",
      " [ 256.8   22.5   84.   -81. ]\n",
      " [ 262.4   19.1   91.   -48. ]\n",
      " [ 258.6   19.6   89.   -61. ]\n",
      " [ 259.9   54.7   49.   -76. ]\n",
      " [ 279.1   27.9   62.   -41. ]\n",
      " [ 228.3  -47.5  141.   -84. ]\n",
      " [ 249.8   25.    60.   -82. ]\n",
      " [ 239.8  -33.9  108.   -91. ]\n",
      " [ 271.7   50.8   28.   -52. ]\n",
      " [ 266.8   67.1   16.   -67. ]\n",
      " [ 238.9   51.9   27.   -76. ]\n",
      " [ 238.9   55.3   17.   -90. ]\n",
      " [ 252.6   41.    43.   -73. ]\n",
      " [ 112.7   17.1  282.6  -78. ]\n",
      " [ 134.9   -8.9  234.   -56. ]\n",
      " [ 138.6   -1.1  244.6  -73. ]\n",
      " [  83.5   31.1  292.   -28. ]\n",
      " [ 151.1  -35.2  196.6  -69. ]\n",
      " [ 146.8  -14.5  217.   -51. ]\n",
      " [  13.8   35.   332.6  -44. ]\n",
      " [ 293.1    3.9   53.5  -25.5]\n",
      " [  99.5  -11.   243.6  -30. ]\n",
      " [ 267.8  -12.7   91.5  -49. ]\n",
      " [  47.    12.8  298.6  -28. ]\n",
      " [  45.8   -9.   297.   -33.5]\n",
      " [  81.7  -26.8  254.6  -51. ]\n",
      " [  79.7  -25.7  256.   -60. ]\n",
      " [  84.7  -20.9  256.6  -60. ]\n",
      " [ 303.3   66.7    3.6  -71.5]\n",
      " [ 104.6   32.2  297.  -100.5]\n",
      " [ 262.8   77.9  357.1  -87. ]\n",
      " [  63.3   53.2  316.   -63. ]\n",
      " [  37.7   60.1  331.6  -57. ]\n",
      " [ 109.3    5.4  255.6  -58.5]\n",
      " [ 119.3    5.5  252.6  -52. ]\n",
      " [ 108.7   23.6  287.6  -79. ]]\n"
     ]
    }
   ],
   "source": [
    "indata=np.loadtxt('data_files/di_geo/di_geo_example.dat')\n",
    "print (indata)"
   ]
  },
  {
   "cell_type": "markdown",
   "metadata": {},
   "source": [
    "Let's take a look at these data in equal area projection: (see [eqarea](#eqarea) for details)"
   ]
  },
  {
   "cell_type": "code",
   "execution_count": 32,
   "metadata": {},
   "outputs": [
    {
     "data": {
      "image/png": "[encoded data removed]",
      "text/plain": [
       "<Figure size 432x288 with 1 Axes>"
      ]
     },
     "metadata": {
      "needs_background": "light"
     },
     "output_type": "display_data"
    }
   ],
   "source": [
    "ipmag.plot_net(1)\n",
    "ipmag.plot_di(dec=indata.transpose()[0],inc=indata.transpose()[1],color='red',edge='black')"
   ]
  },
  {
   "cell_type": "markdown",
   "metadata": {},
   "source": [
    "The data are highly scattered and we hope that the geographic coordinate system looks better! To find out try: "
   ]
  },
  {
   "cell_type": "code",
   "execution_count": 33,
   "metadata": {},
   "outputs": [
    {
     "data": {
      "image/png": "[encoded data removed]",
      "text/plain": [
       "<Figure size 432x288 with 1 Axes>"
      ]
     },
     "metadata": {
      "needs_background": "light"
     },
     "output_type": "display_data"
    }
   ],
   "source": [
    "decs,incs=pmag.dogeo_V(indata)\n",
    "ipmag.plot_net(1)\n",
    "ipmag.plot_di(dec=decs,inc=incs,color='red',edge='black')"
   ]
  },
  {
   "cell_type": "markdown",
   "metadata": {},
   "source": [
    "These data are clearly much better grouped. \n",
    "\n",
    "And here they are printed out."
   ]
  },
  {
   "cell_type": "code",
   "execution_count": 34,
   "metadata": {},
   "outputs": [
    {
     "name": "stdout",
     "output_type": "stream",
     "text": [
      "[[ 1.239079660009729e+01  1.897354242111950e+01]\n",
      " [ 1.498307324661659e+01  1.555933730147452e+01]\n",
      " [ 1.066678186282469e+01  1.816933423652769e+01]\n",
      " [ 1.140475530326100e+01  1.899516324365169e+01]\n",
      " [ 1.244831627581986e+01  1.720362034792245e+01]\n",
      " [ 3.572990711276224e+02  1.515615798465250e+01]\n",
      " [ 3.538832806455590e+02  2.170912081356116e+01]\n",
      " [ 3.537891957478963e+02  2.163657271719044e+01]\n",
      " [ 3.405037772385433e+02  2.528892752812575e+01]\n",
      " [ 3.425639744051680e+02  2.753745185003489e+01]\n",
      " [ 3.511646680722434e+02  2.232938052219719e+01]\n",
      " [ 3.494153846729620e+02  2.997546268430149e+01]\n",
      " [ 3.463359829213437e+02  1.710069070047924e+01]\n",
      " [ 3.509379702995217e+02  2.405670149485947e+01]\n",
      " [ 3.591469095646697e+02  2.495589897617652e+01]\n",
      " [ 5.208120640190769e-01  2.944812111745484e+01]\n",
      " [ 3.543682651331042e+02  4.536441333868400e+01]\n",
      " [ 9.116263010883203e-01  2.424032930581017e+01]\n",
      " [ 3.501704585666012e+02  2.747045635919626e+01]\n",
      " [ 3.542493623278697e-02  2.816456054867226e+01]\n",
      " [ 3.439813887924971e+02 -8.048365912881662e+00]\n",
      " [ 3.461309065934317e+02 -6.149596009252536e+00]\n",
      " [ 3.472832778059016e+02 -4.832198500414619e+00]\n",
      " [ 3.504431701927762e+02 -6.659532741384513e+00]\n",
      " [ 3.444959969004329e+02 -6.696292600602042e+00]\n",
      " [ 3.524338922632455e+02 -3.069729144393546e+01]\n",
      " [ 1.557097344915957e+00 -2.257434594054589e+01]\n",
      " [ 4.404917086765674e+00 -2.087674819546375e+01]\n",
      " [ 2.546719447069432e+00 -1.466108624132701e+01]\n",
      " [ 3.442210551169844e+02  4.903973678153707e+00]\n",
      " [ 3.524985295723664e+02  6.466292121087897e+00]\n",
      " [ 3.450601731999597e+02  4.439672683412344e+00]\n",
      " [ 3.486355239608441e+02  7.106129653159338e+00]\n",
      " [ 3.495345844190660e+02  8.126630132405783e+00]\n",
      " [ 3.511732158101934e+02  1.925242620629703e+01]\n",
      " [ 3.570928973912054e+02  2.628725530614494e+01]\n",
      " [ 3.563848654642317e+02  2.139466560502134e+01]]\n"
     ]
    }
   ],
   "source": [
    "print(np.column_stack([decs,incs]))"
   ]
  },
  {
   "cell_type": "markdown",
   "metadata": {},
   "source": [
    "## di_rot \n",
    "\n",
    "[\\[Essentials Chapter 11\\]](https://earthref.org/MagIC/books/Tauxe/Essentials/WebBook3ch11.html) \n",
    "[\\[command line version\\]](https://pmagpy.github.io/PmagPy-cli.html#di_rot.py)\n",
    "\n",
    "\n",
    "**di_rot**   rotates dec inc pairs to a new origin.  We can call **pmag.dodirot()** for single [dec,inc,Dbar,Ibar] data or **pmag.dodirot_V()** for an array of Dec, Inc pairs.  We can use the data from the [di_geo](#di_geo) example and rotate the geographic coordinate data such that the center of the distribution is the principal direction.   "
   ]
  },
  {
   "cell_type": "markdown",
   "metadata": {},
   "source": [
    "We do it like this: \n",
    "- read in a data set with dec inc pairs\n",
    "- make an equal area projection of the data to remind us what they look like\n",
    "- calculate the principal component with **pmag.doprinc())**\n",
    "- rotate the data to the principal direction\n",
    "- plot the rotated data in an equal area projection. "
   ]
  },
  {
   "cell_type": "code",
   "execution_count": 35,
   "metadata": {},
   "outputs": [
    {
     "data": {
      "image/png": "[encoded data removed]",
      "text/plain": [
       "<Figure size 432x288 with 1 Axes>"
      ]
     },
     "metadata": {
      "needs_background": "light"
     },
     "output_type": "display_data"
    }
   ],
   "source": [
    "di_block=np.loadtxt('data_files/di_rot/di_rot_example.txt') # read in some data\n",
    "ipmag.plot_net(1) # make the plot\n",
    "ipmag.plot_di(di_block=di_block,title='geographic',color='red',edge='black')"
   ]
  },
  {
   "cell_type": "markdown",
   "metadata": {},
   "source": [
    "Now we calculate the principal direction using the method described inthe [goprinc](#goprinc) section."
   ]
  },
  {
   "cell_type": "code",
   "execution_count": 36,
   "metadata": {},
   "outputs": [],
   "source": [
    "princ=pmag.doprinc(di_block)"
   ]
  },
  {
   "cell_type": "markdown",
   "metadata": {},
   "source": [
    "And note we use **pmag.dodirot_V** to do the rotation.  "
   ]
  },
  {
   "cell_type": "code",
   "execution_count": 37,
   "metadata": {},
   "outputs": [
    {
     "name": "stdout",
     "output_type": "stream",
     "text": [
      "Help on function dodirot_V in module pmagpy.pmag:\n",
      "\n",
      "dodirot_V(di_array, Dbar, Ibar)\n",
      "    Rotate an array of declination, inclination pairs by the difference between\n",
      "    dec = 0 and inc = 90 and the provided desired mean direction\n",
      "    \n",
      "    Parameters\n",
      "    ----------\n",
      "    di_array : numpy array of [[Dec1,Inc1],[Dec2,Inc2],....]\n",
      "    Dbar : declination of desired mean\n",
      "    Ibar : declination of desired mean\n",
      "    \n",
      "    Returns\n",
      "    -------\n",
      "    array \n",
      "        Rotated decs and incs: [[rot_Dec1,rot_Inc1],[rot_Dec2,rot_Inc2],....]\n",
      "    \n",
      "    Examples\n",
      "    --------\n",
      "    >>> di_array = np.array([[0,90],[0,90],[0,90]])\n",
      "    >>> pmag.dodirot_V(di_array,5,15)\n",
      "    array([[ 5.               , 15.000000000000002],\n",
      "        [ 5.               , 15.000000000000002],\n",
      "        [ 5.               , 15.000000000000002]])\n",
      "\n"
     ]
    }
   ],
   "source": [
    "help(pmag.dodirot_V)"
   ]
  },
  {
   "cell_type": "code",
   "execution_count": 38,
   "metadata": {},
   "outputs": [
    {
     "data": {
      "text/plain": [
       "array([[354.75645821939304 ,  85.48653153602561 ],\n",
       "       [  7.996325028841369,  76.34238986058352 ],\n",
       "       [218.5930945649905  ,  71.32523703910688 ],\n",
       "       [256.72254093688673 ,  81.27575860325726 ],\n",
       "       [ 36.92916126610703 ,  71.27696635573852 ],\n",
       "       [107.06274810301437 ,  74.65934146800458 ],\n",
       "       [149.72796903485533 ,  84.48123414864426 ],\n",
       "       [ 98.10291565896432 ,  69.64631259998298 ],\n",
       "       [348.2916129500338  ,  72.10250018331234 ],\n",
       "       [285.08151847346653 ,  74.70297917553054 ],\n",
       "       [273.35642945859587 ,  68.89864851548164 ],\n",
       "       [330.2891082414393  ,  88.29039388218094 ],\n",
       "       [280.73571259154653 ,  70.61791031996144 ],\n",
       "       [  3.711243870612208,  76.11478559726586 ],\n",
       "       [ 42.78313341175328 ,  81.09119603852804 ],\n",
       "       [264.9203746178965  ,  82.3673404685105  ],\n",
       "       [228.29288414865724 ,  88.01160809140454 ],\n",
       "       [ 55.75081264851161 ,  80.37175049620849 ],\n",
       "       [ 43.32707636797795 ,  84.27753112231453 ],\n",
       "       [271.79063107651484 ,  77.21159273624666 ],\n",
       "       [104.8489977583381  ,  83.0887792255852  ],\n",
       "       [139.82061836611183 ,  76.3993490997727  ],\n",
       "       [228.41478454067112 ,  68.21812033245911 ],\n",
       "       [184.94964644285702 ,  85.8780572975651  ],\n",
       "       [290.1210027482958  ,  80.82170974067176 ],\n",
       "       [164.81453236149315 ,  80.16691248786324 ],\n",
       "       [ 40.09107583722127 ,  66.25110527121078 ],\n",
       "       [298.4449268807663  ,  70.85449531698555 ],\n",
       "       [229.95810882452537 ,  87.16480710812498 ],\n",
       "       [341.3620913135976  ,  56.495045573148374],\n",
       "       [161.4027805997556  ,  55.85892510658795 ],\n",
       "       [243.4557684543658  ,  80.16805823340704 ],\n",
       "       [ 92.95291456386707 ,  87.97685439598281 ],\n",
       "       [277.0303939010871  ,  57.70952077206086 ],\n",
       "       [236.25509447512627 ,  77.3333120118741  ],\n",
       "       [217.34511494459414 ,  61.355453068467035],\n",
       "       [ 79.43533762088134 ,  70.47284374034713 ],\n",
       "       [128.52228098345978 ,  52.95597767114727 ],\n",
       "       [305.3580388009756  ,  79.90489952465713 ],\n",
       "       [ 74.18496799717906 ,  78.12469469085295 ],\n",
       "       [ 21.274669266693564,  68.81257393353877 ],\n",
       "       [ 23.496563058028272,  59.06513099461031 ],\n",
       "       [ 44.65570708622448 ,  87.79057524363576 ],\n",
       "       [ 57.602605443663464,  74.02521329994752 ],\n",
       "       [120.82174991260183 ,  58.86801900710946 ],\n",
       "       [149.68771685446677 ,  67.14842720400075 ],\n",
       "       [121.72422638549648 ,  75.2791812472184  ],\n",
       "       [181.82291633194342 ,  53.555936677710434],\n",
       "       [ 33.34840452306929 ,  82.71868636819391 ],\n",
       "       [135.24107165626918 ,  88.10701921706708 ],\n",
       "       [312.71205471778444 ,  82.96349887795108 ],\n",
       "       [245.36645021766134 ,  73.64842748448285 ],\n",
       "       [ 36.71037036165424 ,  83.69777543532396 ],\n",
       "       [ 88.92589841563097 ,  71.82553940904472 ],\n",
       "       [303.7629234771758  ,  82.95952847397729 ],\n",
       "       [ 46.325272180993096,  73.32388993641693 ],\n",
       "       [  8.735343522453576,  70.19628754186267 ],\n",
       "       [131.53682149960684 ,  72.47500848351858 ],\n",
       "       [272.34524655039434 ,  65.75867311340127 ],\n",
       "       [257.66968141631367 ,  80.83680899242562 ],\n",
       "       [ 77.32702941137569 ,  80.5605072949047  ],\n",
       "       [121.94427364936706 ,  63.58296413110848 ],\n",
       "       [330.03559662955513 ,  66.0833750591884  ],\n",
       "       [ 51.004478037623386,  75.78428319548763 ],\n",
       "       [202.41794483205925 ,  68.43613924613744 ],\n",
       "       [132.25871641548747 ,  71.76054597908482 ],\n",
       "       [291.4527802722031  ,  48.82252799073911 ],\n",
       "       [ 93.69827492762727 ,  71.57753859504861 ],\n",
       "       [351.6954522950097  ,  79.3096286768353  ],\n",
       "       [337.44083997078724 ,  65.69494318172546 ],\n",
       "       [266.9594875280754  ,  68.62351083692984 ],\n",
       "       [ 83.63011899609319 ,  79.65111205803018 ],\n",
       "       [350.24134591940657 ,  78.0484729985674  ],\n",
       "       [197.963506346118   ,  83.98150407079558 ],\n",
       "       [197.71481284017014 ,  76.14348772683442 ],\n",
       "       [310.55033704545906 ,  78.23192585490966 ],\n",
       "       [ 78.77356326878538 ,  58.02447288772322 ],\n",
       "       [259.60162483532565 ,  79.15809286714797 ],\n",
       "       [286.7710646738233  ,  60.86301321667649 ],\n",
       "       [205.76280361418037 ,  76.95727379747062 ],\n",
       "       [156.1329808482638  ,  85.59867107186719 ],\n",
       "       [164.45839371020577 ,  78.82453194965498 ],\n",
       "       [ 56.73345516633151 ,  68.17101813911009 ],\n",
       "       [333.84210333166703 ,  86.5713552721209  ],\n",
       "       [148.52724727398385 ,  85.55221936408121 ],\n",
       "       [222.19677177385245 ,  88.3541553504907  ],\n",
       "       [260.3277213665519  ,  77.73774990441703 ],\n",
       "       [112.97103002138522 ,  77.71005598912365 ],\n",
       "       [ 20.05703624312349 ,  86.20899093394524 ],\n",
       "       [322.975676456988   ,  75.06538152536162 ],\n",
       "       [222.26720753183264 ,  55.7333080390167  ],\n",
       "       [139.90526593929013 ,  72.40397415579847 ],\n",
       "       [312.4892604821986  ,  79.6564749109274  ],\n",
       "       [200.9750306553203  ,  60.43114046544246 ],\n",
       "       [ 82.81519452419002 ,  80.55563806670666 ],\n",
       "       [  4.478910631839454,  78.31133276346624 ],\n",
       "       [152.93461274838006 ,  86.9201173015137  ],\n",
       "       [130.61844695081186 ,  86.22975549409624 ],\n",
       "       [ 73.38056923717943 ,  83.81526148585854 ],\n",
       "       [183.81900155532608 ,  71.53579093232432 ]])"
      ]
     },
     "execution_count": 38,
     "metadata": {},
     "output_type": "execute_result"
    }
   ],
   "source": [
    "rot_block=pmag.dodirot_V(di_block,princ['dec'],princ['inc'])\n",
    "rot_block"
   ]
  },
  {
   "cell_type": "markdown",
   "metadata": {},
   "source": [
    "And of course look at what we have done!"
   ]
  },
  {
   "cell_type": "code",
   "execution_count": 39,
   "metadata": {},
   "outputs": [
    {
     "data": {
      "image/png": "[encoded data removed]",
      "text/plain": [
       "<Figure size 432x288 with 1 Axes>"
      ]
     },
     "metadata": {
      "needs_background": "light"
     },
     "output_type": "display_data"
    }
   ],
   "source": [
    "ipmag.plot_net(1) # make the plot\n",
    "ipmag.plot_di(di_block=rot_block,color='red',title='rotated',edge='black')"
   ]
  },
  {
   "cell_type": "markdown",
   "metadata": {},
   "source": [
    "## di_tilt\n",
    "\n",
    "[\\[Essentials Chapter 9\\]](https://earthref.org/MagIC/books/Tauxe/Essentials/WebBook3ch9.html) [\\[Changing coordinate systems\\]](http://earthref.org/MAGIC/books/Tauxe/Essentials/WebBook3ap1.html#Changing_coordinate_systems)\n",
    "[\\[command line version\\]](https://pmagpy.github.io/PmagPy-cli.html#di_tilt.py)\n",
    "\n",
    "**di_tilt** can rotate a direction of Declination = 5.3 and Inclination = 71.6 to “stratigraphic” coordinates, assuming the  strike was 135 and the dip was 21. The convention in this program is to use the dip direction, which is to the “right” of this strike. \n",
    "\n",
    "We can perform this calculation by calling  **pmag.dotilt** or **pmag.dotilt_V()** depending on if we have a single point or an array to rotate."
   ]
  },
  {
   "cell_type": "code",
   "execution_count": 40,
   "metadata": {},
   "outputs": [
    {
     "name": "stdout",
     "output_type": "stream",
     "text": [
      "Help on function dotilt in module pmagpy.pmag:\n",
      "\n",
      "dotilt(dec, inc, bed_az, bed_dip)\n",
      "    Does a tilt correction on a direction (dec,inc) using bedding dip direction\n",
      "    and bedding dip.\n",
      "    \n",
      "    Parameters\n",
      "    ----------\n",
      "    dec : declination directions in degrees\n",
      "    inc : inclination direction in degrees\n",
      "    bed_az : bedding dip direction\n",
      "    bed_dip : bedding dip\n",
      "    \n",
      "    Returns\n",
      "    -------\n",
      "    dec,inc : a tuple of rotated dec, inc values\n",
      "    \n",
      "    Examples\n",
      "    --------\n",
      "    >>> pmag.dotilt(91.2,43.1,90.0,20.0)\n",
      "    (90.952568837153436, 23.103411670066617)\n",
      "\n"
     ]
    }
   ],
   "source": [
    "help(pmag.dotilt)"
   ]
  },
  {
   "cell_type": "code",
   "execution_count": 41,
   "metadata": {},
   "outputs": [
    {
     "name": "stdout",
     "output_type": "stream",
     "text": [
      "Help on function dotilt_V in module pmagpy.pmag:\n",
      "\n",
      "dotilt_V(indat)\n",
      "    Does a tilt correction on an array with rows of [dec, inc, bedding dip direction, bedding dip].\n",
      "    \n",
      "    Parameters\n",
      "    ----------\n",
      "    indat : nested array of [[dec1, inc1, bed_az1, bed_dip1],[dec2,inc2,bed_az2,bed_dip2]...]\n",
      "        declination, inclination, bedding dip direction and bedding dip\n",
      "    \n",
      "    Returns\n",
      "    -------\n",
      "    dec, inc : arrays of rotated declination, inclination\n",
      "        \n",
      "    Examples\n",
      "    --------\n",
      "    >>> pmag.dotilt_V(np.array([[91.2,43.1,90.0,20.0],[92.0,40.4,90.5,21.3]]))\n",
      "    (array([90.95256883715344, 91.70884991139725]),\n",
      "     array([23.103411670066613, 19.105747819853423]))\n",
      "\n"
     ]
    }
   ],
   "source": [
    "help(pmag.dotilt_V)"
   ]
  },
  {
   "cell_type": "code",
   "execution_count": 42,
   "metadata": {},
   "outputs": [
    {
     "data": {
      "image/png": "[encoded data removed]",
      "text/plain": [
       "<Figure size 432x288 with 1 Axes>"
      ]
     },
     "metadata": {
      "needs_background": "light"
     },
     "output_type": "display_data"
    }
   ],
   "source": [
    "# read in some data\n",
    "data=np.loadtxt('data_files/di_tilt/di_tilt_example.dat') # load up the data\n",
    "di_block=data[:,[0,1]] # let's look at the data first! \n",
    "ipmag.plot_net(1)\n",
    "ipmag.plot_di(di_block=di_block)"
   ]
  },
  {
   "cell_type": "markdown",
   "metadata": {},
   "source": [
    "Now we can rotate them"
   ]
  },
  {
   "cell_type": "code",
   "execution_count": 43,
   "metadata": {},
   "outputs": [
    {
     "data": {
      "text/plain": [
       "array([[ 9.700e+00,  5.300e+01,  1.050e+02,  2.200e+01],\n",
       "       [ 3.170e+02,  4.420e+01,  1.050e+02,  2.200e+01],\n",
       "       [ 3.331e+02,  8.900e+00,  1.050e+02,  2.200e+01],\n",
       "       [ 3.543e+02, -1.000e-01,  1.050e+02,  2.200e+01],\n",
       "       [ 3.389e+02,  5.020e+01,  1.050e+02,  2.200e+01],\n",
       "       [ 3.552e+02,  2.430e+01,  1.050e+02,  2.200e+01],\n",
       "       [ 3.374e+02,  3.950e+01,  1.050e+02,  2.200e+01],\n",
       "       [ 3.224e+02,  4.340e+01,  1.050e+02,  2.200e+01],\n",
       "       [ 3.412e+02, -1.230e+01,  1.050e+02,  2.200e+01],\n",
       "       [ 3.565e+02,  1.600e+01,  1.050e+02,  2.200e+01],\n",
       "       [ 3.360e+02,  3.780e+01,  1.050e+02,  2.200e+01],\n",
       "       [ 3.407e+02,  3.920e+01,  1.050e+02,  2.200e+01],\n",
       "       [ 3.148e+02,  4.680e+01,  1.050e+02,  2.200e+01],\n",
       "       [ 4.200e+00,  3.130e+01,  1.050e+02,  2.200e+01],\n",
       "       [ 3.440e+02,  2.150e+01,  1.050e+02,  2.200e+01],\n",
       "       [ 5.300e+00,  4.930e+01,  1.050e+02,  2.200e+01],\n",
       "       [ 7.100e+00,  4.360e+01,  1.050e+02,  2.200e+01],\n",
       "       [ 3.400e+02,  2.790e+01,  1.050e+02,  2.200e+01],\n",
       "       [ 3.344e+02,  3.600e+01,  1.050e+02,  2.200e+01],\n",
       "       [ 1.280e+01,  5.400e+00,  1.050e+02,  2.200e+01],\n",
       "       [ 1.898e+02, -2.760e+01,  1.050e+02,  2.200e+01],\n",
       "       [ 1.614e+02, -5.350e+01,  1.050e+02,  2.200e+01],\n",
       "       [ 1.442e+02, -1.820e+01,  1.050e+02,  2.200e+01],\n",
       "       [ 1.727e+02, -5.160e+01,  1.050e+02,  2.200e+01],\n",
       "       [ 1.844e+02,  1.880e+01,  1.050e+02,  2.200e+01],\n",
       "       [ 1.612e+02, -2.810e+01,  1.050e+02,  2.200e+01],\n",
       "       [ 1.729e+02, -3.940e+01,  1.050e+02,  2.200e+01],\n",
       "       [ 1.796e+02, -4.700e+00,  1.050e+02,  2.200e+01],\n",
       "       [ 1.638e+02, -4.410e+01,  1.050e+02,  2.200e+01],\n",
       "       [ 1.603e+02,  1.350e+01,  1.050e+02,  2.200e+01],\n",
       "       [ 1.679e+02, -2.880e+01,  1.050e+02,  2.200e+01],\n",
       "       [ 1.724e+02, -4.240e+01,  1.050e+02,  2.200e+01],\n",
       "       [ 1.581e+02,  6.300e+00,  1.050e+02,  2.200e+01],\n",
       "       [ 1.938e+02, -2.550e+01,  1.050e+02,  2.200e+01],\n",
       "       [ 1.647e+02, -2.790e+01,  1.050e+02,  2.200e+01],\n",
       "       [ 1.567e+02, -4.340e+01,  1.050e+02,  2.200e+01],\n",
       "       [ 1.652e+02, -1.820e+01,  1.050e+02,  2.200e+01],\n",
       "       [ 1.926e+02,  1.700e+01,  1.050e+02,  2.200e+01],\n",
       "       [ 1.573e+02, -2.550e+01,  1.050e+02,  2.200e+01],\n",
       "       [ 1.619e+02, -1.240e+01,  1.050e+02,  2.200e+01],\n",
       "       [ 6.420e+01,  6.590e+01,  3.400e+02,  4.000e+01],\n",
       "       [ 1.225e+02,  8.230e+01,  3.400e+02,  4.000e+01],\n",
       "       [ 1.049e+02,  8.030e+01,  3.400e+02,  4.000e+01],\n",
       "       [ 5.280e+01,  6.710e+01,  3.400e+02,  4.000e+01],\n",
       "       [ 3.400e+02,  4.700e+01,  3.400e+02,  4.000e+01],\n",
       "       [ 2.886e+02,  8.670e+01,  3.400e+02,  4.000e+01],\n",
       "       [ 2.560e+01,  5.930e+01,  3.400e+02,  4.000e+01],\n",
       "       [ 3.130e+01,  4.590e+01,  3.400e+02,  4.000e+01],\n",
       "       [ 2.928e+02,  7.240e+01,  3.400e+02,  4.000e+01],\n",
       "       [ 1.008e+02,  6.960e+01,  3.400e+02,  4.000e+01],\n",
       "       [ 8.750e+01,  6.850e+01,  3.400e+02,  4.000e+01],\n",
       "       [ 3.536e+02,  5.070e+01,  3.400e+02,  4.000e+01],\n",
       "       [ 3.515e+02,  6.650e+01,  3.400e+02,  4.000e+01],\n",
       "       [ 5.320e+01,  8.270e+01,  3.400e+02,  4.000e+01],\n",
       "       [ 3.577e+02,  4.610e+01,  3.400e+02,  4.000e+01],\n",
       "       [ 3.390e+01,  6.490e+01,  3.400e+02,  4.000e+01],\n",
       "       [ 1.247e+02,  5.920e+01,  3.400e+02,  4.000e+01],\n",
       "       [ 7.220e+01,  7.130e+01,  3.400e+02,  4.000e+01],\n",
       "       [ 8.840e+01,  5.640e+01,  3.400e+02,  4.000e+01],\n",
       "       [ 2.730e+01,  3.130e+01,  3.400e+02,  4.000e+01],\n",
       "       [ 1.483e+02, -8.840e+01,  3.400e+02,  4.000e+01],\n",
       "       [ 1.661e+02, -4.870e+01,  3.400e+02,  4.000e+01],\n",
       "       [ 2.509e+02, -8.480e+01,  3.400e+02,  4.000e+01],\n",
       "       [ 2.036e+02, -7.470e+01,  3.400e+02,  4.000e+01],\n",
       "       [ 1.804e+02, -6.450e+01,  3.400e+02,  4.000e+01],\n",
       "       [ 2.444e+02, -5.890e+01,  3.400e+02,  4.000e+01],\n",
       "       [ 1.947e+02, -3.120e+01,  3.400e+02,  4.000e+01],\n",
       "       [ 1.763e+02, -6.210e+01,  3.400e+02,  4.000e+01],\n",
       "       [ 2.743e+02, -8.570e+01,  3.400e+02,  4.000e+01],\n",
       "       [ 1.981e+02, -6.260e+01,  3.400e+02,  4.000e+01],\n",
       "       [ 2.004e+02, -6.250e+01,  3.400e+02,  4.000e+01],\n",
       "       [ 2.034e+02, -6.410e+01,  3.400e+02,  4.000e+01],\n",
       "       [ 2.339e+02, -8.150e+01,  3.400e+02,  4.000e+01],\n",
       "       [ 1.993e+02, -7.640e+01,  3.400e+02,  4.000e+01],\n",
       "       [ 2.944e+02, -7.690e+01,  3.400e+02,  4.000e+01],\n",
       "       [ 2.210e+02, -5.380e+01,  3.400e+02,  4.000e+01],\n",
       "       [ 2.830e+02, -7.190e+01,  3.400e+02,  4.000e+01],\n",
       "       [ 1.742e+02, -6.650e+01,  3.400e+02,  4.000e+01],\n",
       "       [ 2.887e+02, -7.490e+01,  3.400e+02,  4.000e+01],\n",
       "       [ 2.253e+02, -7.170e+01,  3.400e+02,  4.000e+01]])"
      ]
     },
     "execution_count": 43,
     "metadata": {},
     "output_type": "execute_result"
    }
   ],
   "source": [
    "data"
   ]
  },
  {
   "cell_type": "code",
   "execution_count": 44,
   "metadata": {},
   "outputs": [
    {
     "data": {
      "image/png": "[encoded data removed]",
      "text/plain": [
       "<Figure size 432x288 with 1 Axes>"
      ]
     },
     "metadata": {
      "needs_background": "light"
     },
     "output_type": "display_data"
    }
   ],
   "source": [
    "Dt,It=pmag.dotilt_V(data) # rotate them\n",
    "ipmag.plot_net(1) # and take another look\n",
    "ipmag.plot_di(dec=Dt,inc=It)"
   ]
  },
  {
   "cell_type": "markdown",
   "metadata": {},
   "source": [
    "Use the handy function **np.column_stack** to pair the decs and incs together"
   ]
  },
  {
   "cell_type": "code",
   "execution_count": 45,
   "metadata": {},
   "outputs": [
    {
     "data": {
      "text/plain": [
       "array([[ 3.745246730099765e+01,  4.957949712575953e+01],\n",
       "       [ 3.364675200511666e+02,  6.094472029374624e+01],\n",
       "       [ 3.380165616749129e+02,  2.299229368853451e+01],\n",
       "       [ 3.556562478331330e+02,  7.515567388054662e+00],\n",
       "       [ 8.176956970670966e+00,  5.860794868547367e+01],\n",
       "       [ 6.243125433301562e+00,  2.981496424107194e+01],\n",
       "       [ 3.570337330966181e+02,  5.000739210914991e+01],\n",
       "       [ 3.428111070363000e+02,  5.857022740098239e+01],\n",
       "       [ 3.392844137567167e+02,  3.489421627411824e-01],\n",
       "       [ 3.857574313600920e+00,  2.170490617560062e+01],\n",
       "       [ 3.543476226628997e+02,  4.898647100343631e+01],\n",
       "       [ 2.839250128608836e-01,  4.855561856450103e+01],\n",
       "       [ 3.357764303107291e+02,  6.395038729609967e+01],\n",
       "       [ 1.814819208398795e+01,  3.279724905977730e+01],\n",
       "       [ 3.539453834376526e+02,  3.128703009888477e+01],\n",
       "       [ 3.082011199408524e+01,  4.808087298996946e+01],\n",
       "       [ 2.803401932343640e+01,  4.258552645861294e+01],\n",
       "       [ 3.528493597264898e+02,  3.859033278511580e+01],\n",
       "       [ 3.514315484354869e+02,  4.792007086993382e+01],\n",
       "       [ 1.498957548660896e+01,  5.829712783608061e+00],\n",
       "       [ 2.014056928353097e+02, -2.736443459743787e+01],\n",
       "       [ 1.945292221716692e+02, -6.030009301190454e+01],\n",
       "       [ 1.517116529876612e+02, -3.442785878293702e+01],\n",
       "       [ 2.024393688096853e+02, -5.457965776673883e+01],\n",
       "       [ 1.781296424194825e+02,  1.350713953929092e+01],\n",
       "       [ 1.741936354456061e+02, -3.835578332037064e+01],\n",
       "       [ 1.924586093769242e+02, -4.422020966978406e+01],\n",
       "       [ 1.824045156659189e+02, -1.008544504066058e+01],\n",
       "       [ 1.871923134966028e+02, -5.168333466782402e+01],\n",
       "       [ 1.580786734803110e+02,  5.204353666192209e-01],\n",
       "       [ 1.813351394115822e+02, -3.659937187303041e+01],\n",
       "       [ 1.941157195843757e+02, -4.701313199045114e+01],\n",
       "       [ 1.582084382722979e+02, -6.997104474533521e+00],\n",
       "       [ 2.040509232077649e+02, -2.396909806556790e+01],\n",
       "       [ 1.776680583608526e+02, -3.693353107721951e+01],\n",
       "       [ 1.793128177376720e+02, -5.368252609855866e+01],\n",
       "       [ 1.737404614446126e+02, -2.780396970685505e+01],\n",
       "       [ 1.862737845316192e+02,  1.483764126352337e+01],\n",
       "       [ 1.688589362576631e+02, -3.729572424812380e+01],\n",
       "       [ 1.681557626219619e+02, -2.350944842976375e+01],\n",
       "       [ 1.330308703017959e+01,  4.227946057131280e+01],\n",
       "       [ 3.483522843121590e+02,  5.583915094170603e+01],\n",
       "       [ 3.538674462312107e+02,  5.479133505742480e+01],\n",
       "       [ 8.653521112511372e+00,  3.917604623555432e+01],\n",
       "       [ 3.400000000000000e+02,  7.000000000000007e+00],\n",
       "       [ 3.361542229948378e+02,  4.787555642093493e+01],\n",
       "       [ 3.817975722447122e+00,  2.540893969852237e+01],\n",
       "       [ 1.434199093968161e+01,  1.568988790421390e+01],\n",
       "       [ 3.239284087092108e+02,  3.673611879415699e+01],\n",
       "       [ 1.273529718126782e+01,  5.637987934967065e+01],\n",
       "       [ 1.423599098710475e+01,  5.158974005593031e+01],\n",
       "       [ 3.487378624792472e+02,  1.136638073587758e+01],\n",
       "       [ 3.451111469480294e+02,  2.682990340933582e+01],\n",
       "       [ 3.503550816467513e+02,  4.741111588695254e+01],\n",
       "       [ 3.522717160632449e+02,  7.317255524671685e+00],\n",
       "       [ 3.897411687215233e+00,  3.221174311321314e+01],\n",
       "       [ 3.190059397540958e+01,  6.791403256884098e+01],\n",
       "       [ 8.123241856350260e+00,  4.718199885856551e+01],\n",
       "       [ 3.259232418603718e+01,  4.861942462131930e+01],\n",
       "       [ 1.891439869397610e+01,  1.461506259551986e+00],\n",
       "       [ 1.595110496980562e+02, -4.843219107458064e+01],\n",
       "       [ 1.640701300574710e+02, -8.839256835048845e+00],\n",
       "       [ 1.680710761782260e+02, -4.980095425711808e+01],\n",
       "       [ 1.733570146552182e+02, -3.802926789534845e+01],\n",
       "       [ 1.695783329160053e+02, -2.559766667437458e+01],\n",
       "       [ 2.011133522634226e+02, -3.857503763245759e+01],\n",
       "       [ 1.891885271103872e+02,  3.164192452489215e+00],\n",
       "       [ 1.681934602045106e+02, -2.284963258576484e+01],\n",
       "       [ 1.663165644083478e+02, -5.160256169015950e+01],\n",
       "       [ 1.785115588979288e+02, -2.657201018253521e+01],\n",
       "       [ 1.796196801933787e+02, -2.696591489069694e+01],\n",
       "       [ 1.800724364298146e+02, -2.901904416963465e+01],\n",
       "       [ 1.720172517929031e+02, -4.699401226963431e+01],\n",
       "       [ 1.710287291685976e+02, -3.887343299592936e+01],\n",
       "       [ 1.777931070842794e+02, -5.799932860721367e+01],\n",
       "       [ 1.949879944606702e+02, -2.572913609950599e+01],\n",
       "       [ 1.884262225809416e+02, -5.681432026438604e+01],\n",
       "       [ 1.663028644159482e+02, -2.700249537230893e+01],\n",
       "       [ 1.822954852978555e+02, -5.759607802699428e+01],\n",
       "       [ 1.818673218560601e+02, -4.001317986789174e+01]])"
      ]
     },
     "execution_count": 45,
     "metadata": {},
     "output_type": "execute_result"
    }
   ],
   "source": [
    "np.column_stack((Dt,It)) # if you want to see the output: "
   ]
  },
  {
   "cell_type": "markdown",
   "metadata": {},
   "source": [
    "## di_vgp\n",
    "\n",
    "[\\[Essentials Chapter 2\\]](https://earthref.org/MagIC/books/Tauxe/Essentials/WebBook3ch2.html) \n",
    "[\\[command line version\\]](https://pmagpy.github.io/PmagPy-cli.html#di_vgp.py)\n",
    "\n",
    "\n",
    "**di_vgp** converts directions (declination,inclination) to Virtual Geomagnetic Pole positions.   This is the inverse of [**vgp_di**](#vgp_di). \n",
    "To do so, we will call **pmag.dia_vgp()** from within the notebook."
   ]
  },
  {
   "cell_type": "code",
   "execution_count": 46,
   "metadata": {},
   "outputs": [
    {
     "name": "stdout",
     "output_type": "stream",
     "text": [
      "Help on function dia_vgp in module pmagpy.pmag:\n",
      "\n",
      "dia_vgp(*args)\n",
      "    Converts directional data (declination, inclination, alpha95) at a given\n",
      "    location (Site latitude, Site longitude) to pole position (pole longitude,\n",
      "    pole latitude, dp, dm).\n",
      "    \n",
      "    Parameters\n",
      "    ----------\n",
      "    Takes input as (Dec, Inc, a95, Site latitude, Site longitude)\n",
      "    Input can be as individual values (5 parameters)\n",
      "    or\n",
      "    as a list of lists: [[Dec, Inc, a95, lat, lon],[Dec, Inc, a95, lat, lon]]\n",
      "    \n",
      "    Returns\n",
      "    -------\n",
      "    if input is individual values for one pole the return is:\n",
      "    pole longitude, pole latitude, dp, dm\n",
      "    \n",
      "    if input is list of lists the return is:\n",
      "    list of pole longitudes, list of pole latitudes, list of dp, list of dm\n",
      "    \n",
      "    Examples\n",
      "    --------\n",
      "    >>> pmag.dia_vgp(4, 41, 0, 33, -117)\n",
      "    (41.68629415047637, 79.86259998889103, 0.0, 0.0)\n",
      "\n"
     ]
    }
   ],
   "source": [
    "help(pmag.dia_vgp)"
   ]
  },
  {
   "cell_type": "code",
   "execution_count": 47,
   "metadata": {},
   "outputs": [
    {
     "name": "stdout",
     "output_type": "stream",
     "text": [
      "[[ 11.   63.   55.   13. ]\n",
      " [154.  -58.   45.5 -73. ]]\n"
     ]
    }
   ],
   "source": [
    "data=np.loadtxt('data_files/di_vgp/di_vgp_example.dat') # read in some data\n",
    "print (data)"
   ]
  },
  {
   "cell_type": "markdown",
   "metadata": {},
   "source": [
    "The data are almost in the correct format, but there is no a95 field, so that will have to be inserted (as zeros). "
   ]
  },
  {
   "cell_type": "code",
   "execution_count": 48,
   "metadata": {},
   "outputs": [
    {
     "data": {
      "text/plain": [
       "array([0., 0.])"
      ]
     },
     "execution_count": 48,
     "metadata": {},
     "output_type": "execute_result"
    }
   ],
   "source": [
    "a95=np.zeros(len(data))\n",
    "a95"
   ]
  },
  {
   "cell_type": "code",
   "execution_count": 49,
   "metadata": {},
   "outputs": [
    {
     "name": "stdout",
     "output_type": "stream",
     "text": [
      "[[ 11.   63.    0.   55.   13. ]\n",
      " [154.  -58.    0.   45.5 -73. ]]\n"
     ]
    }
   ],
   "source": [
    "DIs=data.transpose()[0:2].transpose() # get the DIs\n",
    "LatLons=data.transpose()[2:].transpose() # get the Lat Lons\n",
    "newdata=np.column_stack((DIs,a95,LatLons)) # stitch them back together\n",
    "print (newdata)"
   ]
  },
  {
   "cell_type": "code",
   "execution_count": 50,
   "metadata": {},
   "outputs": [
    {
     "name": "stdout",
     "output_type": "stream",
     "text": [
      "[[154.65869783828245   77.31808850158909    0.\n",
      "    0.               ]\n",
      " [  6.629786658545018 -69.63701905594586    0.\n",
      "    0.               ]]\n"
     ]
    }
   ],
   "source": [
    "vgps=np.array(pmag.dia_vgp(newdata)) # get a tuple with lat,lon,dp,dm, convert to array\n",
    "print (vgps.transpose()) #  print out the vgps"
   ]
  },
  {
   "cell_type": "markdown",
   "metadata": {},
   "source": [
    "## dipole_pinc\n",
    "\n",
    "[\\[Essentials Chapter 2\\]](https://earthref.org/MagIC/books/Tauxe/Essentials/WebBook3ch2.html) \n",
    "[\\[command line version\\]](https://pmagpy.github.io/PmagPy-cli.html#dipole_pinc.py)\n",
    "\n",
    "If we assume a geocentric axial dipole, we can calculate an expected inclination at a given latitude and that is what **dipole_pinc** does.   It calls **pmag.pinc()** and so will we to find the expected inclination at a paleolatitude of 24$^{\\circ}$S! \n"
   ]
  },
  {
   "cell_type": "code",
   "execution_count": 51,
   "metadata": {},
   "outputs": [
    {
     "name": "stdout",
     "output_type": "stream",
     "text": [
      "Help on function pinc in module pmagpy.pmag:\n",
      "\n",
      "pinc(lat)\n",
      "    Calculate paleoinclination from latitude using dipole formula: tan(I) = 2tan(lat). \n",
      "    \n",
      "    Parameters\n",
      "    ----------\n",
      "    lat : either a single value or an array of latitudes\n",
      "    \n",
      "    Returns\n",
      "    -------\n",
      "    array of inclinations\n",
      "    \n",
      "    Examples\n",
      "    --------\n",
      "    >>> lats = [45,40,60,80, -30,55]\n",
      "    >>> np.round(pmag.pinc(lats),1)\n",
      "    array([ 63.4,  59.2,  73.9,  85. , -49.1,  70.7])\n",
      "\n"
     ]
    }
   ],
   "source": [
    "help(pmag.pinc)"
   ]
  },
  {
   "cell_type": "code",
   "execution_count": 52,
   "metadata": {},
   "outputs": [
    {
     "data": {
      "text/plain": [
       "-41.68370203503222"
      ]
     },
     "execution_count": 52,
     "metadata": {},
     "output_type": "execute_result"
    }
   ],
   "source": [
    "lat=-24\n",
    "pmag.pinc(-24)"
   ]
  },
  {
   "cell_type": "markdown",
   "metadata": {},
   "source": [
    "Or as an array"
   ]
  },
  {
   "cell_type": "code",
   "execution_count": 53,
   "metadata": {},
   "outputs": [
    {
     "data": {
      "image/png": "[encoded data removed]",
      "text/plain": [
       "<Figure size 432x288 with 1 Axes>"
      ]
     },
     "metadata": {
      "needs_background": "light"
     },
     "output_type": "display_data"
    }
   ],
   "source": [
    "lats=range(-90,100,10)\n",
    "incs=pmag.pinc(lats)\n",
    "plt.plot(incs,lats)\n",
    "plt.ylim(100,-100)\n",
    "plt.xlabel('Latitude')\n",
    "plt.ylabel('Inclination')\n",
    "plt.axhline(0,color='black')\n",
    "plt.axvline(0,color='black');"
   ]
  },
  {
   "cell_type": "markdown",
   "metadata": {},
   "source": [
    "## dipole_plat\n",
    "\n",
    "[\\[Essentials Chapter 2\\]](https://earthref.org/MagIC/books/Tauxe/Essentials/WebBook3ch2.html) \n",
    "[\\[command line version\\]](https://pmagpy.github.io/PmagPy-cli.html#dipole_plat.py)\n",
    "\n",
    "**dipole_plat** is similar to [dipole_pinc](#dipole_pinc) but calculates the paleolatitude from the inclination.  We will call **pmag.plat()**:"
   ]
  },
  {
   "cell_type": "code",
   "execution_count": 54,
   "metadata": {},
   "outputs": [
    {
     "name": "stdout",
     "output_type": "stream",
     "text": [
      "Help on function plat in module pmagpy.pmag:\n",
      "\n",
      "plat(inc)\n",
      "    Calculate paleolatitude from inclination using dipole formula: tan(I) = 2tan(lat).\n",
      "    \n",
      "    Parameters\n",
      "    ----------\n",
      "    inc : either a single value or an array of inclinations\n",
      "    \n",
      "    Returns\n",
      "    -------\n",
      "    array of latitudes\n",
      "    \n",
      "    Examples\n",
      "    --------\n",
      "    >>> incs = [63.4,59.2,73.9,85,-49.1,70.7]\n",
      "    >>> np.round(pmag.plat(incs))\n",
      "    array([ 45.,  40.,  60.,  80., -30.,  55.])\n",
      "\n"
     ]
    }
   ],
   "source": [
    "help(pmag.plat)"
   ]
  },
  {
   "cell_type": "code",
   "execution_count": 55,
   "metadata": {},
   "outputs": [
    {
     "data": {
      "text/plain": [
       "24.237370383549177"
      ]
     },
     "execution_count": 55,
     "metadata": {},
     "output_type": "execute_result"
    }
   ],
   "source": [
    "inc=42\n",
    "pmag.plat(inc)"
   ]
  },
  {
   "cell_type": "markdown",
   "metadata": {},
   "source": [
    "## dir_cart\n",
    "\n",
    "[\\[Essentials Chapter 2\\]](https://earthref.org/MagIC/books/Tauxe/Essentials/WebBook3ch2.html#x15-1560002)  [\\[command line version\\]](https://pmagpy.github.io/PmagPy-cli.html#dir_cart.py)\n",
    "\n",
    "**pmag.dir2cart()** converts directions (Declination, Inclination, Intensity) to cartesian coordinates (X,Y,Z). "
   ]
  },
  {
   "cell_type": "code",
   "execution_count": 56,
   "metadata": {},
   "outputs": [
    {
     "name": "stdout",
     "output_type": "stream",
     "text": [
      "Help on function dir2cart in module pmagpy.pmag:\n",
      "\n",
      "dir2cart(d)\n",
      "    Converts a list or array of vector directions in degrees (declination,\n",
      "    inclination) to an array of the direction in cartesian coordinates (x,y,z).\n",
      "    \n",
      "    Parameters\n",
      "    ----------\n",
      "    d : list or array of [dec,inc] or [dec,inc,intensity]\n",
      "    \n",
      "    Returns\n",
      "    -------\n",
      "    cart : array of [x,y,z]\n",
      "    \n",
      "    Examples\n",
      "    --------\n",
      "    >>> pmag.dir2cart([200,40,1])\n",
      "    array([-0.71984631, -0.26200263,  0.64278761])\n",
      "    \n",
      "    >>> pmag.dir2cart([200,40])\n",
      "    array([[-0.719846310392954, -0.262002630229385,  0.642787609686539]])\n",
      "    \n",
      "    >>> data = np.array([  [16.0,    43.0, 21620.33],\n",
      "           [30.5,    53.6, 12922.58],\n",
      "            [6.9,    33.2, 15780.08],\n",
      "          [352.5,    40.2, 33947.52], \n",
      "          [354.2,    45.1, 19725.45]])\n",
      "    >>> pmag.dir2cart(data)\n",
      "    array([[15199.574113612794 ,  4358.407742577491 , 14745.029604010038 ],\n",
      "       [ 6607.405832448041 ,  3892.0594770716   , 10401.304487835589 ],\n",
      "       [13108.574245285025 ,  1586.3117853121191,  8640.591471770322 ],\n",
      "       [25707.154931463603 , -3384.411152593326 , 21911.687763162565 ],\n",
      "       [13852.355235322588 , -1407.0709331498472, 13972.322052043308 ]])\n",
      "\n"
     ]
    }
   ],
   "source": [
    "help(pmag.dir2cart)"
   ]
  },
  {
   "cell_type": "code",
   "execution_count": 57,
   "metadata": {},
   "outputs": [
    {
     "name": "stdout",
     "output_type": "stream",
     "text": [
      "Input: \n",
      " [[ 20.   46.    1.3]\n",
      " [175.  -24.    4.2]]\n",
      "Output: \n",
      "8.4859e-01 3.0886e-01 9.3514e-01\n",
      "-3.8223e+00 3.3441e-01 -1.7083e+00\n"
     ]
    }
   ],
   "source": [
    "# read in data file from example file\n",
    "dirs=np.loadtxt('data_files/dir_cart/dir_cart_example.dat')\n",
    "print ('Input: \\n',dirs) # print out the cartesian coordinates\n",
    "# print out the  results\n",
    "carts = pmag.dir2cart(dirs)\n",
    "print (\"Output: \")\n",
    "for c in carts:\n",
    "    print ('%8.4e %8.4e %8.4e'%(c[0],c[1],c[2]))"
   ]
  },
  {
   "cell_type": "markdown",
   "metadata": {},
   "source": [
    "## eigs_s\n",
    "\n",
    "[\\[Essentials Chapter 13\\]](https://earthref.org/MagIC/books/Tauxe/Essentials/WebBook3ch13.html#x15-156000813) [\\[command line version\\]](https://pmagpy.github.io/PmagPy-cli.html#eigs_s.py)\n",
    "\n",
    "This program converts eigenparameters to the six tensor elements.  This is the inverse of [s_eigs](#s_eigs).\n",
    "There is a function **ipmag.eigs_s()** which will do this in a notebook:"
   ]
  },
  {
   "cell_type": "code",
   "execution_count": 58,
   "metadata": {},
   "outputs": [
    {
     "name": "stdout",
     "output_type": "stream",
     "text": [
      "Help on function eigs_s in module pmagpy.ipmag:\n",
      "\n",
      "eigs_s(infile='', dir_path='.')\n",
      "    Converts eigenparamters format data to s format\n",
      "    \n",
      "    Parameters:\n",
      "        Input:\n",
      "            file : input file name with eigenvalues (tau) and eigenvectors (V) with  format:\n",
      "                tau_1 V1_dec V1_inc tau_2 V2_dec V2_inc tau_3 V3_dec V3_inc\n",
      "    Returns:\n",
      "         the six tensor elements as a nested array\n",
      "          [[x11,x22,x33,x12,x23,x13],....]\n",
      "\n"
     ]
    }
   ],
   "source": [
    "help(ipmag.eigs_s)"
   ]
  },
  {
   "cell_type": "code",
   "execution_count": 59,
   "metadata": {},
   "outputs": [
    {
     "name": "stdout",
     "output_type": "stream",
     "text": [
      "[0.33416328, 0.33280227, 0.33303446, -0.00016631071, 0.0012316267, 0.0013552071]\n",
      "[0.33555713, 0.33197427, 0.3324687, 0.00085685047, 0.00025266458, 0.0009815096]\n",
      "[0.335853, 0.33140355, 0.3327435, 0.0013230764, 0.0011778723, 4.5534102e-06]\n",
      "[0.3347939, 0.33140817, 0.33379796, -0.0004308845, 0.0004885784, 0.00045610438]\n",
      "[0.33502916, 0.33117944, 0.3337915, -0.00106313, 0.00029828132, 0.00035882858]\n",
      "[0.33407047, 0.3322691, 0.33366045, -6.384468e-06, 0.0009844461, 5.9963346e-05]\n",
      "[0.33486328, 0.33215088, 0.3329859, -0.0003427944, 0.00038177703, 0.0002014497]\n",
      "[0.33509853, 0.33195898, 0.33294258, 0.000769761, 0.00056717254, 0.00011960149]\n"
     ]
    }
   ],
   "source": [
    "Ss=ipmag.eigs_s(infile=\"eigs_s_example.dat\", dir_path='data_files/eigs_s')\n",
    "for s in Ss:\n",
    "    print (s)"
   ]
  },
  {
   "cell_type": "markdown",
   "metadata": {},
   "source": [
    "## eq_di\n",
    "\n",
    "[\\[Essentials Appendix B\\]](https://earthref.org/MagIC/books/Tauxe/Essentials/WebBook3ap2.html#x21-227000B#x15-156000813) [\\[command line version\\]](https://pmagpy.github.io/PmagPy-cli.html#eq_di.py)\n",
    "\n",
    " Data are frequently published as equal area projections and not listed in data tables. These data can be digitized as x,y data (assuming the outer rim is unity) and converted to approximate directions with the program **eq_di**. To use this program, install a graph digitizer (GraphClick from http://www.arizona-software.ch/graphclick/ works on Macs).\n",
    "\n",
    "Digitize the data from the equal area projection saved in the file eqarea.png in the eq_di directory. You should only work on one hemisphere at a time (upper or lower) and save each hemisphere in its own file. Then you can convert the X,Y data to approximate dec and inc data - the quality of the data depends on your care in digitizing and the quality of the figure that you are digitizing.\n",
    "\n",
    "Here we will try this out on a datafile already prepared, which are the digitized data from the lower hemisphere of a plot.  You  check your work with [eqarea](#eqarea).  \n",
    "\n",
    "To do this in a notebook, we can use **pmag.doeqdi()**.  "
   ]
  },
  {
   "cell_type": "code",
   "execution_count": 60,
   "metadata": {},
   "outputs": [
    {
     "name": "stdout",
     "output_type": "stream",
     "text": [
      "Help on function doeqdi in module pmagpy.pmag:\n",
      "\n",
      "doeqdi(x, y, UP=False)\n",
      "    Takes digitized x,y, data and returns the dec,inc, assuming an\n",
      "    equal area projection.\n",
      "    \n",
      "    Parameters\n",
      "    ----------\n",
      "    x : array of digitized x from point on equal area projection\n",
      "    y : array of  igitized y from point on equal area projection\n",
      "    UP : if True, is an upper hemisphere projection\n",
      "    \n",
      "    Returns\n",
      "    -------\n",
      "    dec : declination\n",
      "    inc : inclination\n",
      "\n"
     ]
    }
   ],
   "source": [
    "help(pmag.doeqdi)"
   ]
  },
  {
   "cell_type": "code",
   "execution_count": 61,
   "metadata": {
    "scrolled": true
   },
   "outputs": [
    {
     "data": {
      "image/png": "[encoded data removed]",
      "text/plain": [
       "<Figure size 432x288 with 1 Axes>"
      ]
     },
     "metadata": {
      "needs_background": "light"
     },
     "output_type": "display_data"
    }
   ],
   "source": [
    "# read in the data into an array\n",
    "# x is assumed first column, y, second\n",
    "xy=np.loadtxt('data_files/eq_di/eq_di_example.dat').transpose()\n",
    "decs,incs=pmag.doeqdi(xy[0],xy[1])\n",
    "ipmag.plot_net(1)\n",
    "ipmag.plot_di(dec=decs,inc=incs,color='r',edge='black')"
   ]
  },
  {
   "cell_type": "markdown",
   "metadata": {},
   "source": [
    "## fcalc\n",
    "\n",
    "**pmag.fcalc()** returns the values of an F-test from  an F table."
   ]
  },
  {
   "cell_type": "code",
   "execution_count": 62,
   "metadata": {},
   "outputs": [
    {
     "name": "stdout",
     "output_type": "stream",
     "text": [
      "Help on function fcalc in module pmagpy.pmag:\n",
      "\n",
      "fcalc(col, row)\n",
      "    Looks up an F-test stastic from F tables F(col,row), where row is number of degrees of freedom - this is 95% confidence (p=0.05).\n",
      "    \n",
      "    Parameters\n",
      "    ----------\n",
      "    col : degrees of freedom column\n",
      "    row : degrees of freedom row\n",
      "    \n",
      "    Returns\n",
      "    -------\n",
      "    F : value for 95% confidence from the F-table\n",
      "    \n",
      "    Examples\n",
      "    --------\n",
      "    >>> pmag.fcalc(3,4.8)\n",
      "    6.5915\n",
      "\n"
     ]
    }
   ],
   "source": [
    "help(pmag.fcalc)"
   ]
  },
  {
   "cell_type": "markdown",
   "metadata": {},
   "source": [
    "## fisher\n",
    "\n",
    "[\\[Essentials Chapter 11\\]](https://earthref.org/MagIC/books/Tauxe/Essentials/WebBook3ch11.html) \n",
    "[\\[command line version\\]](https://pmagpy.github.io/PmagPy-cli.html#fisher.py)\n",
    "\n",
    "**fisher**  draws $N$  directions  from a Fisher distribution with specified $\\kappa$ and a vertical mean. (For other directions see [fishrot](#fishrot)).  To do this, we can just call the function **pmag.fshdev()** $N$ times."
   ]
  },
  {
   "cell_type": "code",
   "execution_count": 63,
   "metadata": {},
   "outputs": [
    {
     "name": "stdout",
     "output_type": "stream",
     "text": [
      "Help on function fshdev in module pmagpy.pmag:\n",
      "\n",
      "fshdev(k)\n",
      "    Generate a random draw from a Fisher distribution with mean declination\n",
      "    of 0 and inclination of 90 with a specified kappa.\n",
      "    \n",
      "    Parameters\n",
      "    ----------\n",
      "    k : single number or an array of values\n",
      "        kappa (precision parameter) of the distribution\n",
      "    \n",
      "    Returns\n",
      "    -------\n",
      "    dec, inc : declination and inclination of random Fisher distribution draw\n",
      "               if k is an array, dec, inc are returned as arrays, otherwise, single values\n",
      "    \n",
      "    Examples\n",
      "    --------\n",
      "    >>> pmag.fshdev(8)\n",
      "    (334.3434290469283, 61.06963783415771)\n",
      "\n"
     ]
    }
   ],
   "source": [
    "help(pmag.fshdev)"
   ]
  },
  {
   "cell_type": "code",
   "execution_count": 64,
   "metadata": {},
   "outputs": [
    {
     "data": {
      "image/png": "[encoded data removed]",
      "text/plain": [
       "<Figure size 432x288 with 1 Axes>"
      ]
     },
     "metadata": {
      "needs_background": "light"
     },
     "output_type": "display_data"
    }
   ],
   "source": [
    "# set the number, N, and kappa\n",
    "N,kappa=100,20\n",
    "# a basket to put our fish in\n",
    "fish=[]\n",
    "# get the Fisherian deviates\n",
    "for i in range(N):\n",
    "    d,i=pmag.fshdev(kappa)\n",
    "    fish.append([d,i])\n",
    "ipmag.plot_net(1)\n",
    "ipmag.plot_di(di_block=fish,color='r',edge='black')"
   ]
  },
  {
   "cell_type": "markdown",
   "metadata": {},
   "source": [
    "## fishrot\n",
    "\n",
    "\n",
    "[\\[Essentials Chapter 11\\]](https://earthref.org/MagIC/books/Tauxe/Essentials/WebBook3ch11.html) \n",
    "[\\[command line version\\]](https://pmagpy.github.io/PmagPy-cli.html#fishrot.py)\n",
    "\n",
    "This program is similar to [fisher](#fisher), but allows you to specify the mean direction. \n",
    "This has been implemented as **ipmag.fishrot()**. "
   ]
  },
  {
   "cell_type": "code",
   "execution_count": 65,
   "metadata": {},
   "outputs": [
    {
     "name": "stdout",
     "output_type": "stream",
     "text": [
      "Help on function fishrot in module pmagpy.ipmag:\n",
      "\n",
      "fishrot(k=20, n=100, dec=0, inc=90, di_block=True)\n",
      "    Generates Fisher distributed unit vectors from a specified distribution\n",
      "    using the pmag.py function pmag.fshdev() and pmag.dodirot_V() functions.\n",
      "    \n",
      "    Parameters:\n",
      "        k : kappa precision parameter (default is 20)\n",
      "        n : number of vectors to determine (default is 100)\n",
      "        dec : mean declination of distribution (default is 0)\n",
      "        inc : mean inclination of distribution (default is 90)\n",
      "        di_block : this function returns a nested list of [dec,inc,1.0] as the default\n",
      "        if di_block = False it will return a list of dec and a list of inc\n",
      "    \n",
      "    Returns:\n",
      "        - di_block, a nested list of [dec,inc,1.0] (default)\n",
      "        - dec, inc, a list of dec and a list of inc (if di_block = False)\n",
      "    \n",
      "    Examples:\n",
      "        >>> ipmag.fishrot(k=20, n=5, dec=40, inc=60)\n",
      "        array([[55.30451720381376 , 56.186057037482435,  1.               ],\n",
      "               [25.593998008087908, 63.544360587984784,  1.               ],\n",
      "               [29.263675539971246, 54.58964868129066 ,  1.               ],\n",
      "               [61.28572459596148 , 51.5004074156194  ,  1.               ],\n",
      "               [55.20784339888985 , 54.186746152272484,  1.               ]])\n",
      "\n"
     ]
    }
   ],
   "source": [
    "help(ipmag.fishrot)"
   ]
  },
  {
   "cell_type": "code",
   "execution_count": 66,
   "metadata": {},
   "outputs": [
    {
     "name": "stdout",
     "output_type": "stream",
     "text": [
      "   47.7    39.1\n",
      "   18.8    30.9\n",
      "   44.0    49.1\n",
      "   44.4    32.7\n",
      "   31.4    25.2\n"
     ]
    }
   ],
   "source": [
    "rotdi=ipmag.fishrot(k=50,n=5,dec=33,inc=41)\n",
    "for di in rotdi:\n",
    "    print ('%7.1f %7.1f'%(di[0],di[1]))"
   ]
  },
  {
   "cell_type": "code",
   "execution_count": 67,
   "metadata": {},
   "outputs": [
    {
     "data": {
      "image/png": "[encoded data removed]",
      "text/plain": [
       "<Figure size 432x288 with 1 Axes>"
      ]
     },
     "metadata": {
      "needs_background": "light"
     },
     "output_type": "display_data"
    }
   ],
   "source": [
    "ipmag.plot_net(1)\n",
    "ipmag.plot_di(di_block=rotdi)"
   ]
  },
  {
   "cell_type": "markdown",
   "metadata": {},
   "source": [
    "## flip\n",
    "\n",
    "Fisher statistics requires unimodal data (all in one direction with no reversals) but many paleomagnetic data sets are bimodal.  To flip bimodal data into a single mode, we can use **pmag.flip( )**.  This function calculates the principle direction and flips all the 'reverse' data to the 'normal' direction along the principle axis.  "
   ]
  },
  {
   "cell_type": "code",
   "execution_count": 68,
   "metadata": {},
   "outputs": [
    {
     "name": "stdout",
     "output_type": "stream",
     "text": [
      "Help on function flip in module pmagpy.pmag:\n",
      "\n",
      "flip(di_block, combine=False)\n",
      "    Determines 'normal' direction along the principle eigenvector, then flips \n",
      "    the reverse mode to the antipode.\n",
      "    \n",
      "    Parameters\n",
      "    ----------\n",
      "    di_block : nested list of directions\n",
      "    combine : whether to return directions as one di_block (default is False)\n",
      "        \n",
      "    Returns\n",
      "    -------\n",
      "    D1 : normal mode\n",
      "    D2 : flipped reverse mode as two DI blocks\n",
      "    If combine=True one combined D1 + D2 di_block will be returned\n",
      "\n"
     ]
    }
   ],
   "source": [
    "help(pmag.flip)"
   ]
  },
  {
   "cell_type": "code",
   "execution_count": 69,
   "metadata": {},
   "outputs": [
    {
     "data": {
      "image/png": "[encoded data removed]",
      "text/plain": [
       "<Figure size 432x288 with 1 Axes>"
      ]
     },
     "metadata": {
      "needs_background": "light"
     },
     "output_type": "display_data"
    }
   ],
   "source": [
    "#read in the data into an array\n",
    "vectors=np.loadtxt('data_files/eqarea_ell/tk03.out').transpose()\n",
    "di_block=vectors[0:2].transpose() # decs are di_block[0], incs are di_block[1]\n",
    "# flip the reverse directions to their normal antipodes\n",
    "normal,flipped=pmag.flip(di_block)\n",
    "# and plot them up\n",
    "ipmag.plot_net(1)\n",
    "ipmag.plot_di(di_block=di_block,color='red')\n",
    "ipmag.plot_di(di_block=flipped,color='b')"
   ]
  },
  {
   "cell_type": "markdown",
   "metadata": {},
   "source": [
    "## gaussian\n",
    "\n",
    "[\\[Essentials Chapter 11\\]](https://earthref.org/MagIC/books/Tauxe/Essentials/WebBook3ch11.html) \n",
    "[\\[command line version\\]](https://pmagpy.github.io/PmagPy-cli.html#gaussian.py)\n",
    "\n",
    "This program generates sets of data drawn from a normal distribution with a given mean and standard deviation.  It is just a wrapper for a call to  **pmag.gaussdev()** which just calls **numpy.random.normal()** which we could do, but we would have to import it, so it is easiest just to call the **pmag** version which we have already imported.  "
   ]
  },
  {
   "cell_type": "code",
   "execution_count": 70,
   "metadata": {},
   "outputs": [
    {
     "name": "stdout",
     "output_type": "stream",
     "text": [
      "Help on function gaussdev in module pmagpy.pmag:\n",
      "\n",
      "gaussdev(mean, sigma, N=1)\n",
      "    Returns a number randomly drawn from a gaussian distribution with the given mean, sigma\n",
      "    \n",
      "    Parmeters\n",
      "    ---------\n",
      "    mean : mean of the gaussian distribution from which to draw deviates\n",
      "    sigma : standard deviation of same\n",
      "    N : number of deviates desired\n",
      "    \n",
      "    Returns\n",
      "    -------\n",
      "    N deviates from the normal distribution\n",
      "    \n",
      "    Examples\n",
      "    --------\n",
      "    >>> pmag.gaussdev(5.5,1.2,6)\n",
      "    array([5.090856280215007, 3.305193918953536, 7.313490558588299,\n",
      "           5.412029315803913, 6.819820301799303, 7.632257251681613])\n",
      "\n"
     ]
    }
   ],
   "source": [
    "help(pmag.gaussdev)"
   ]
  },
  {
   "cell_type": "code",
   "execution_count": 71,
   "metadata": {},
   "outputs": [
    {
     "data": {
      "image/png": "[encoded data removed]",
      "text/plain": [
       "<Figure size 432x288 with 1 Axes>"
      ]
     },
     "metadata": {
      "needs_background": "light"
     },
     "output_type": "display_data"
    }
   ],
   "source": [
    "N=1000\n",
    "bins=100\n",
    "norm=pmag.gaussdev(10,3,N)\n",
    "plt.hist(norm,bins=bins,color='black',histtype='step',density=True)\n",
    "plt.xlabel('Gaussian Deviates')\n",
    "plt.ylabel('Frequency');"
   ]
  },
  {
   "cell_type": "code",
   "execution_count": 72,
   "metadata": {},
   "outputs": [
    {
     "ename": "NonGuiException",
     "evalue": "Matplotlib is currently using module://matplotlib_inline.backend_inline, which is a non-GUI backend, so cannot show the figure.",
     "output_type": "error",
     "traceback": [
      "\u001b[0;31m---------------------------------------------------------------------------\u001b[0m",
      "\u001b[0;31mNonGuiException\u001b[0m                           Traceback (most recent call last)",
      "Input \u001b[0;32mIn [72]\u001b[0m, in \u001b[0;36m<cell line: 2>\u001b[0;34m()\u001b[0m\n\u001b[1;32m      1\u001b[0m \u001b[38;5;66;03m# alternatively we can plot with ipmag.histplot:\u001b[39;00m\n\u001b[0;32m----> 2\u001b[0m \u001b[43mipmag\u001b[49m\u001b[38;5;241;43m.\u001b[39;49m\u001b[43mhistplot\u001b[49m\u001b[43m(\u001b[49m\u001b[43mdata\u001b[49m\u001b[38;5;241;43m=\u001b[39;49m\u001b[43mnorm\u001b[49m\u001b[43m,\u001b[49m\u001b[43m \u001b[49m\u001b[43mxlab\u001b[49m\u001b[38;5;241;43m=\u001b[39;49m\u001b[38;5;124;43m'\u001b[39;49m\u001b[38;5;124;43mGaussian Deviates\u001b[39;49m\u001b[38;5;124;43m'\u001b[39;49m\u001b[43m,\u001b[49m\u001b[43m \u001b[49m\u001b[43msave_plots\u001b[49m\u001b[38;5;241;43m=\u001b[39;49m\u001b[38;5;28;43;01mFalse\u001b[39;49;00m\u001b[43m,\u001b[49m\u001b[43m \u001b[49m\u001b[43mnorm\u001b[49m\u001b[38;5;241;43m=\u001b[39;49m\u001b[38;5;241;43m-\u001b[39;49m\u001b[38;5;241;43m1\u001b[39;49m\u001b[43m)\u001b[49m\n",
      "File \u001b[0;32m~/0000_Github/PmagPy/pmagpy/ipmag.py:15262\u001b[0m, in \u001b[0;36mhistplot\u001b[0;34m(infile, data, outfile, xlab, binsize, norm, fmt, save_plots, interactive)\u001b[0m\n\u001b[1;32m  15260\u001b[0m     \u001b[38;5;28mprint\u001b[39m(\u001b[38;5;124m'\u001b[39m\u001b[38;5;124m-W- Not enough data found\u001b[39m\u001b[38;5;124m'\u001b[39m)\n\u001b[1;32m  15261\u001b[0m     \u001b[38;5;28;01mreturn\u001b[39;00m \u001b[38;5;28;01mFalse\u001b[39;00m, []\n\u001b[0;32m> 15262\u001b[0m fig \u001b[38;5;241m=\u001b[39m \u001b[43mpmagplotlib\u001b[49m\u001b[38;5;241;43m.\u001b[39;49m\u001b[43mplot_init\u001b[49m\u001b[43m(\u001b[49m\u001b[38;5;241;43m1\u001b[39;49m\u001b[43m,\u001b[49m\u001b[43m \u001b[49m\u001b[38;5;241;43m8\u001b[39;49m\u001b[43m,\u001b[49m\u001b[43m \u001b[49m\u001b[38;5;241;43m7\u001b[39;49m\u001b[43m)\u001b[49m\n\u001b[1;32m  15263\u001b[0m \u001b[38;5;28;01mtry\u001b[39;00m:\n\u001b[1;32m  15264\u001b[0m     \u001b[38;5;28mlen\u001b[39m(D)\n",
      "File \u001b[0;32m~/0000_Github/PmagPy/pmagpy/pmagplotlib.py:140\u001b[0m, in \u001b[0;36mplot_init\u001b[0;34m(fignum, w, h)\u001b[0m\n\u001b[1;32m    138\u001b[0m fig \u001b[38;5;241m=\u001b[39m plt\u001b[38;5;241m.\u001b[39mfigure(num\u001b[38;5;241m=\u001b[39mfignum, figsize\u001b[38;5;241m=\u001b[39m(w, h), dpi\u001b[38;5;241m=\u001b[39mdpi, clear\u001b[38;5;241m=\u001b[39m\u001b[38;5;28;01mTrue\u001b[39;00m)\n\u001b[1;32m    139\u001b[0m \u001b[38;5;28;01mif\u001b[39;00m (\u001b[38;5;129;01mnot\u001b[39;00m isServer) \u001b[38;5;129;01mand\u001b[39;00m (\u001b[38;5;129;01mnot\u001b[39;00m set_env\u001b[38;5;241m.\u001b[39mIS_NOTEBOOK):\n\u001b[0;32m--> 140\u001b[0m     \u001b[43mplt\u001b[49m\u001b[38;5;241;43m.\u001b[39;49m\u001b[43mget_current_fig_manager\u001b[49m\u001b[43m(\u001b[49m\u001b[43m)\u001b[49m\u001b[38;5;241;43m.\u001b[39;49m\u001b[43mshow\u001b[49m\u001b[43m(\u001b[49m\u001b[43m)\u001b[49m\n\u001b[1;32m    141\u001b[0m     \u001b[38;5;66;03m# plt.get_current_fig_manager().window.wm_geometry('+%d+%d' %\u001b[39;00m\n\u001b[1;32m    142\u001b[0m     \u001b[38;5;66;03m# (fig_x_pos,fig_y_pos)) # this only works with matplotlib.use('TKAgg')\u001b[39;00m\n\u001b[1;32m    143\u001b[0m     fig_x_pos \u001b[38;5;241m=\u001b[39m fig_x_pos \u001b[38;5;241m+\u001b[39m dpi \u001b[38;5;241m*\u001b[39m (w) \u001b[38;5;241m+\u001b[39m \u001b[38;5;241m25\u001b[39m\n",
      "File \u001b[0;32m~/opt/anaconda3/lib/python3.9/site-packages/matplotlib/backend_bases.py:2815\u001b[0m, in \u001b[0;36mFigureManagerBase.show\u001b[0;34m(self)\u001b[0m\n\u001b[1;32m   2809\u001b[0m \u001b[38;5;28;01mif\u001b[39;00m sys\u001b[38;5;241m.\u001b[39mplatform \u001b[38;5;241m==\u001b[39m \u001b[38;5;124m\"\u001b[39m\u001b[38;5;124mlinux\u001b[39m\u001b[38;5;124m\"\u001b[39m \u001b[38;5;129;01mand\u001b[39;00m \u001b[38;5;129;01mnot\u001b[39;00m os\u001b[38;5;241m.\u001b[39menviron\u001b[38;5;241m.\u001b[39mget(\u001b[38;5;124m\"\u001b[39m\u001b[38;5;124mDISPLAY\u001b[39m\u001b[38;5;124m\"\u001b[39m):\n\u001b[1;32m   2810\u001b[0m     \u001b[38;5;66;03m# We cannot check _get_running_interactive_framework() ==\u001b[39;00m\n\u001b[1;32m   2811\u001b[0m     \u001b[38;5;66;03m# \"headless\" because that would also suppress the warning when\u001b[39;00m\n\u001b[1;32m   2812\u001b[0m     \u001b[38;5;66;03m# $DISPLAY exists but is invalid, which is more likely an error and\u001b[39;00m\n\u001b[1;32m   2813\u001b[0m     \u001b[38;5;66;03m# thus warrants a warning.\u001b[39;00m\n\u001b[1;32m   2814\u001b[0m     \u001b[38;5;28;01mreturn\u001b[39;00m\n\u001b[0;32m-> 2815\u001b[0m \u001b[38;5;28;01mraise\u001b[39;00m NonGuiException(\n\u001b[1;32m   2816\u001b[0m     \u001b[38;5;124mf\u001b[39m\u001b[38;5;124m\"\u001b[39m\u001b[38;5;124mMatplotlib is currently using \u001b[39m\u001b[38;5;132;01m{\u001b[39;00mget_backend()\u001b[38;5;132;01m}\u001b[39;00m\u001b[38;5;124m, which is a \u001b[39m\u001b[38;5;124m\"\u001b[39m\n\u001b[1;32m   2817\u001b[0m     \u001b[38;5;124mf\u001b[39m\u001b[38;5;124m\"\u001b[39m\u001b[38;5;124mnon-GUI backend, so cannot show the figure.\u001b[39m\u001b[38;5;124m\"\u001b[39m)\n",
      "\u001b[0;31mNonGuiException\u001b[0m: Matplotlib is currently using module://matplotlib_inline.backend_inline, which is a non-GUI backend, so cannot show the figure."
     ]
    },
    {
     "data": {
      "text/plain": [
       "<Figure size 640x560 with 0 Axes>"
      ]
     },
     "metadata": {},
     "output_type": "display_data"
    }
   ],
   "source": [
    "# alternatively we can plot with ipmag.histplot:\n",
    "ipmag.histplot(data=norm, xlab='Gaussian Deviates', save_plots=False, norm=-1)"
   ]
  },
  {
   "cell_type": "markdown",
   "metadata": {},
   "source": [
    "## gobing\n",
    "\n",
    " \n",
    "[\\[Essentials Chapter 12\\]](https://earthref.org/MagIC/books/Tauxe/Essentials/WebBook3ch12.html) \n",
    "[\\[command line version\\]](https://pmagpy.github.io/PmagPy-cli.html#gobing.py)\n",
    "\n",
    "**gobing** calculates Bingham statistics for sets of directional data (see the section for eqarea_ell in the PmagPy_plots_analysis documentation for nice examples).  We do this by calling **pmag.dobingham()**."
   ]
  },
  {
   "cell_type": "code",
   "execution_count": null,
   "metadata": {},
   "outputs": [
    {
     "name": "stdout",
     "output_type": "stream",
     "text": [
      "Help on function dobingham in module pmagpy.pmag:\n",
      "\n",
      "dobingham(di_block)\n",
      "    Calculates the Bingham mean and associated statistical parameters from\n",
      "    directions that are input as a di_block\n",
      "    \n",
      "    Parameters\n",
      "    ----------\n",
      "    di_block : a nested list of [dec,inc] or [dec,inc,intensity]\n",
      "    \n",
      "    Returns\n",
      "    -------\n",
      "    bpars : dictionary containing the Bingham mean and associated statistics\n",
      "    dictionary keys\n",
      "        dec : mean declination\n",
      "        inc : mean inclination\n",
      "        n : number of datapoints\n",
      "        Eta : major ellipse\n",
      "        Edec : declination of major ellipse axis\n",
      "        Einc : inclination of major ellipse axis\n",
      "        Zeta : minor ellipse\n",
      "        Zdec : declination of minor ellipse axis\n",
      "        Zinc : inclination of minor ellipse axis\n",
      "\n"
     ]
    }
   ],
   "source": [
    "help(pmag.dobingham)"
   ]
  },
  {
   "cell_type": "code",
   "execution_count": null,
   "metadata": {},
   "outputs": [
    {
     "data": {
      "text/plain": [
       "{'dec': 357.77952733337463,\n",
       " 'inc': 60.3168380083183,\n",
       " 'Edec': 105.71735145158095,\n",
       " 'Einc': 9.956900268236785,\n",
       " 'Zdec': 20.99389065755772,\n",
       " 'Zinc': -27.647853556651516,\n",
       " 'n': 20,\n",
       " 'Zeta': 4.480026907803641,\n",
       " 'Eta': 4.4907543191720025}"
      ]
     },
     "execution_count": 73,
     "metadata": {},
     "output_type": "execute_result"
    }
   ],
   "source": [
    "di_block=np.loadtxt('data_files/gobing/gobing_example.txt')\n",
    "pmag.dobingham(di_block)\n"
   ]
  },
  {
   "cell_type": "markdown",
   "metadata": {},
   "source": [
    "## gofish\n",
    "\n",
    "[\\[Essentials Chapter 11\\]](https://earthref.org/MagIC/books/Tauxe/Essentials/WebBook3ch11.html) \n",
    "[\\[command line version\\]](https://pmagpy.github.io/PmagPy-cli.html#gofish.py)\n",
    "\n",
    "**gofish** calculates Fisher statistics for sets of directional data.  (see the section for eqarea_ell in the PmagPy_plots_analysis documentation for nice examples).\n",
    "This can be done with **ipmag.fisher_mean()**."
   ]
  },
  {
   "cell_type": "code",
   "execution_count": null,
   "metadata": {},
   "outputs": [
    {
     "name": "stdout",
     "output_type": "stream",
     "text": [
      "Help on function fisher_mean in module pmagpy.ipmag:\n",
      "\n",
      "fisher_mean(dec=None, inc=None, di_block=None)\n",
      "    Calculates the Fisher mean and associated parameters from either a list of\n",
      "    declination values and a separate list of inclination values or from a\n",
      "    di_block (a nested list a nested list of [dec,inc,1.0]). Returns a\n",
      "    dictionary with the Fisher mean and statistical parameters.\n",
      "    \n",
      "    Parameters\n",
      "    ----------\n",
      "    dec : list of declinations or longitudes\n",
      "    inc : list of inclinations or latitudes\n",
      "    di_block : a nested list of [dec,inc,1.0]\n",
      "        A di_block can be provided instead of dec, inc lists in which case it\n",
      "        will be used. Either dec, inc lists or a di_block need to be provided.\n",
      "    \n",
      "    Returns\n",
      "    -------\n",
      "    fisher_mean : dictionary containing the Fisher mean parameters\n",
      "    \n",
      "    Examples\n",
      "    --------\n",
      "    Use lists of declination and inclination to calculate a Fisher mean:\n",
      "    \n",
      "    >>> ipmag.fisher_mean(dec=[140,127,142,136],inc=[21,23,19,22])\n",
      "    {'alpha95': 7.292891411309177,\n",
      "    'csd': 6.4097743211340896,\n",
      "    'dec': 136.30838974272072,\n",
      "    'inc': 21.347784026899987,\n",
      "    'k': 159.69251473636305,\n",
      "    'n': 4,\n",
      "    'r': 3.9812138971889026}\n",
      "    \n",
      "    Use a di_block to calculate a Fisher mean (will give the same output as the\n",
      "    example with the lists):\n",
      "    \n",
      "    >>> ipmag.fisher_mean(di_block=[[140,21],[127,23],[142,19],[136,22]])\n",
      "\n"
     ]
    }
   ],
   "source": [
    "help(ipmag.fisher_mean)"
   ]
  },
  {
   "cell_type": "code",
   "execution_count": null,
   "metadata": {},
   "outputs": [
    {
     "data": {
      "text/plain": [
       "{'dec': 10.783552984917437,\n",
       " 'inc': 39.602582993520244,\n",
       " 'n': 10,\n",
       " 'r': 9.848433230859508,\n",
       " 'k': 59.379770717798884,\n",
       " 'alpha95': 6.320446730051139,\n",
       " 'csd': 10.511525802823254}"
      ]
     },
     "execution_count": 75,
     "metadata": {},
     "output_type": "execute_result"
    }
   ],
   "source": [
    "di_block=np.loadtxt('data_files/gofish/fishrot.out')\n",
    "ipmag.fisher_mean(di_block=di_block)"
   ]
  },
  {
   "cell_type": "markdown",
   "metadata": {},
   "source": [
    "### fisher mean on pandas DataFrames\n",
    "There is also a function **pmag.dir_df_fisher_mean()** that calculates Fisher statistics on a Pandas DataFrame with directional data"
   ]
  },
  {
   "cell_type": "code",
   "execution_count": null,
   "metadata": {},
   "outputs": [
    {
     "name": "stdout",
     "output_type": "stream",
     "text": [
      "Help on function dir_df_fisher_mean in module pmagpy.pmag:\n",
      "\n",
      "dir_df_fisher_mean(dir_df)\n",
      "    calculates fisher mean for Pandas data frame\n",
      "    \n",
      "    Parameters\n",
      "    __________\n",
      "    dir_df: pandas data frame with columns:\n",
      "        dir_dec : declination\n",
      "        dir_inc : inclination\n",
      "    Returns\n",
      "    -------\n",
      "    fpars : dictionary containing the Fisher mean and statistics\n",
      "        dec : mean declination\n",
      "        inc : mean inclination\n",
      "        r : resultant vector length\n",
      "        n : number of data points\n",
      "        k : Fisher k value\n",
      "        csd : Fisher circular standard deviation\n",
      "        alpha95 : Fisher circle of 95% confidence\n",
      "\n"
     ]
    }
   ],
   "source": [
    "help(pmag.dir_df_fisher_mean)"
   ]
  },
  {
   "cell_type": "code",
   "execution_count": null,
   "metadata": {},
   "outputs": [
    {
     "data": {
      "text/plain": [
       "{'dec': 10.78355298491744,\n",
       " 'inc': 39.60258299352024,\n",
       " 'n': 10,\n",
       " 'r': 9.848433230859508,\n",
       " 'k': 59.379770717798884,\n",
       " 'alpha95': 6.320446730051139,\n",
       " 'csd': 10.511525802823254}"
      ]
     },
     "execution_count": 77,
     "metadata": {},
     "output_type": "execute_result"
    }
   ],
   "source": [
    "# make the data frame\n",
    "dir_df=pd.read_csv('data_files/gofish/fishrot.out',delim_whitespace=True, header=None)\n",
    "dir_df.columns=['dir_dec','dir_inc']\n",
    "pmag.dir_df_fisher_mean(dir_df)"
   ]
  },
  {
   "cell_type": "markdown",
   "metadata": {},
   "source": [
    "## gokent\n",
    "\n",
    "[\\[Essentials Chapter 12\\]](https://earthref.org/MagIC/books/Tauxe/Essentials/WebBook3ch12.html) \n",
    "[\\[command line version\\]](https://pmagpy.github.io/PmagPy-cli.html#gokent.py)\n",
    "\n",
    "With **gokent** we can calculate Kent statistics on sets of directional data (see the section for eqarea_ell in the PmagPy_plots_analysis documentation for nice examples).  \n",
    "\n",
    "This calls **pmag.dokent()** (see also **eqarea_ell** example)"
   ]
  },
  {
   "cell_type": "code",
   "execution_count": null,
   "metadata": {
    "scrolled": true
   },
   "outputs": [
    {
     "name": "stdout",
     "output_type": "stream",
     "text": [
      "Help on function dokent in module pmagpy.pmag:\n",
      "\n",
      "dokent(data, NN)\n",
      "    gets Kent  parameters for data\n",
      "    Parameters\n",
      "    ___________________\n",
      "    data :  nested pairs of [Dec,Inc]\n",
      "    NN  : normalization\n",
      "        NN is the number of data for Kent ellipse\n",
      "        NN is 1 for Kent ellipses of bootstrapped mean directions\n",
      "    \n",
      "    Return\n",
      "    kpars dictionary keys\n",
      "        dec : mean declination\n",
      "        inc : mean inclination\n",
      "        n : number of datapoints\n",
      "        Eta : major ellipse\n",
      "        Edec : declination of major ellipse axis\n",
      "        Einc : inclination of major ellipse axis\n",
      "        Zeta : minor ellipse\n",
      "        Zdec : declination of minor ellipse axis\n",
      "        Zinc : inclination of minor ellipse axis\n",
      "\n"
     ]
    }
   ],
   "source": [
    "help(pmag.dokent)"
   ]
  },
  {
   "cell_type": "code",
   "execution_count": null,
   "metadata": {},
   "outputs": [
    {
     "data": {
      "text/plain": [
       "{'dec': 359.1530456710398,\n",
       " 'inc': 55.03341554254794,\n",
       " 'n': 20,\n",
       " 'Zdec': 246.82080930796928,\n",
       " 'Zinc': 14.881429411175574,\n",
       " 'Edec': 147.69921287231705,\n",
       " 'Einc': 30.819395154843157,\n",
       " 'Zeta': 7.805151237185049,\n",
       " 'Eta': 9.304659303299626}"
      ]
     },
     "execution_count": 79,
     "metadata": {},
     "output_type": "execute_result"
    }
   ],
   "source": [
    "di_block=np.loadtxt('data_files/gokent/gokent_example.txt')\n",
    "pmag.dokent(di_block,di_block.shape[0])"
   ]
  },
  {
   "cell_type": "markdown",
   "metadata": {},
   "source": [
    "## goprinc\n",
    "\n",
    "[\\[Essentials Chapter 12\\]](https://earthref.org/MagIC/books/Tauxe/Essentials/WebBook3ch12.html) \n",
    "[\\[command line version\\]](https://pmagpy.github.io/PmagPy-cli.html#goprinc.py)\n",
    "\n",
    "**goprinc** calculates the principal directions (and their eigenvalues) for sets of paleomagnetic vectors.  It doesn't do any statistics on them, unlike the other programs. \n",
    "We will call **pmag.doprinc()**:"
   ]
  },
  {
   "cell_type": "code",
   "execution_count": null,
   "metadata": {},
   "outputs": [
    {
     "name": "stdout",
     "output_type": "stream",
     "text": [
      "Help on function doprinc in module pmagpy.pmag:\n",
      "\n",
      "doprinc(data)\n",
      "    Gets principal components from data in form of a list of [dec,inc] data.\n",
      "    \n",
      "    Parameters\n",
      "    ----------\n",
      "    data : nested list of dec, inc directions\n",
      "    \n",
      "    Returns\n",
      "    -------\n",
      "    ppars : dictionary with the principal components\n",
      "        dec : principal directiion declination\n",
      "        inc : principal direction inclination\n",
      "        V2dec : intermediate eigenvector declination\n",
      "        V2inc : intermediate eigenvector inclination\n",
      "        V3dec : minor eigenvector declination\n",
      "        V3inc : minor eigenvector inclination\n",
      "        tau1 : major eigenvalue\n",
      "        tau2 : intermediate eigenvalue\n",
      "        tau3 : minor eigenvalue\n",
      "        N  : number of points\n",
      "        Edir : elongation direction [dec, inc, length]\n",
      "\n"
     ]
    }
   ],
   "source": [
    "help(pmag.doprinc)"
   ]
  },
  {
   "cell_type": "code",
   "execution_count": null,
   "metadata": {},
   "outputs": [
    {
     "data": {
      "text/plain": [
       "{'Edir': array([151.85261736,  29.07891169,   1.        ]),\n",
       " 'dec': 3.869443846664467,\n",
       " 'inc': 56.740159941913355,\n",
       " 'N': 20,\n",
       " 'tau1': 0.8778314142896239,\n",
       " 'tau2': 0.07124540042876253,\n",
       " 'tau3': 0.05092318528161358,\n",
       " 'V2dec': 151.85261735984162,\n",
       " 'V2inc': 29.078911691227447,\n",
       " 'V3dec': 250.25426093396385,\n",
       " 'V3inc': 14.721055437689328}"
      ]
     },
     "execution_count": 81,
     "metadata": {},
     "output_type": "execute_result"
    }
   ],
   "source": [
    "di_block=np.loadtxt('data_files/goprinc/goprinc_example.txt')\n",
    "pmag.doprinc(di_block)"
   ]
  },
  {
   "cell_type": "markdown",
   "metadata": {},
   "source": [
    "## igrf\n",
    "\n",
    "[\\[Essentials Chapter 2\\]](https://earthref.org/MagIC/books/Tauxe/Essentials/WebBook3ch2.html) \n",
    "[\\[command line version\\]](https://pmagpy.github.io/PmagPy-cli.html#igrf.py)\n",
    "\n",
    "\n",
    "This program gives geomagnetic field vector data for a specified place at a specified time.  It has many built in models including  IGRFs, GUFM and several archeomagnetic models.   It calls the  function **ipmag.igrf()** for this so that is what we will do.  "
   ]
  },
  {
   "cell_type": "code",
   "execution_count": null,
   "metadata": {},
   "outputs": [
    {
     "name": "stdout",
     "output_type": "stream",
     "text": [
      "Help on function igrf in module pmagpy.ipmag:\n",
      "\n",
      "igrf(input_list, mod='', ghfile='')\n",
      "    Determine Declination, Inclination and Intensity from the IGRF model.\n",
      "    (http://www.ngdc.noaa.gov/IAGA/vmod/igrf.html)\n",
      "    \n",
      "    Parameters\n",
      "    ----------\n",
      "    input_list : list with format [Date, Altitude, Latitude, Longitude]\n",
      "        date must be in decimal year format XXXX.XXXX (Common Era)\n",
      "        altitude is in kilometers\n",
      "    mod :  desired model\n",
      "        \"\" : Use the IGRF\n",
      "        custom : use values supplied in ghfile\n",
      "        or choose from this list\n",
      "        ['arch3k','cals3k','pfm9k','hfm10k','cals10k.2','cals10k.1b']\n",
      "        where:\n",
      "            arch3k (Korte et al., 2009)\n",
      "            cals3k (Korte and Constable, 2011)\n",
      "            cals10k.1b (Korte et al., 2011)\n",
      "            pfm9k  (Nilsson et al., 2014)\n",
      "            hfm10k is the hfm.OL1.A1 of Constable et al. (2016)\n",
      "            cals10k.2 (Constable et al., 2016)\n",
      "            the first four of these models, are constrained to agree\n",
      "            with gufm1 (Jackson et al., 2000) for the past four centuries\n",
      "    \n",
      "    \n",
      "    gh : path to file with l m g h data\n",
      "    \n",
      "    Returns\n",
      "    -------\n",
      "    igrf_array : array of IGRF values (0: dec; 1: inc; 2: intensity (in nT))\n",
      "    \n",
      "    Examples\n",
      "    --------\n",
      "    >>> local_field = ipmag.igrf([2013.6544, .052, 37.87, -122.27])\n",
      "    >>> local_field\n",
      "    array([  1.39489916e+01,   6.13532008e+01,   4.87452644e+04])\n",
      "    >>> ipmag.igrf_print(local_field)\n",
      "    Declination: 13.949\n",
      "    Inclination: 61.353\n",
      "    Intensity: 48745.264 nT\n",
      "\n"
     ]
    }
   ],
   "source": [
    "help(ipmag.igrf)"
   ]
  },
  {
   "cell_type": "markdown",
   "metadata": {},
   "source": [
    "We will calculate the field for San Diego from 3000 BCE to 1950 in 50 year increments using the hfm.OL1.A1 model of Constable et al. (2016, doi: 10.1016/j.epsl.2016.08.015).  "
   ]
  },
  {
   "cell_type": "code",
   "execution_count": null,
   "metadata": {},
   "outputs": [
    {
     "data": {
      "image/png": "[encoded data removed]",
      "text/plain": [
       "<Figure size 504x648 with 4 Axes>"
      ]
     },
     "metadata": {
      "needs_background": "light"
     },
     "output_type": "display_data"
    }
   ],
   "source": [
    "# make a list of desired dates\n",
    "dates=range(-3000,1950,50) # list of dates in +/- Common Era\n",
    "mod = 'hfm10k' # choose the desired model\n",
    "lat,lon,alt=33,-117,0 # desired latitude, longitude and alitude\n",
    "Vecs=[] # list for Dec,Inc,Int outputs\n",
    "for date in dates: # step through the dates\n",
    "    Vecs.append(ipmag.igrf([date,alt,lat,lon],mod=mod)) # append to list\n",
    "vector_df = pd.DataFrame(Vecs)   # make it into a Pandas dataframe\n",
    "vector_df.columns=['dec','inc','int']\n",
    "vector_df['vadms']=pmag.b_vdm(vector_df.int.values*1e-9, lat) # calculate the VADMs\n",
    "vector_df['dec_adj']=vector_df['dec'] \n",
    "vector_df.loc[vector_df.dec>180,['dec_adj']]=vector_df.dec-360 # adjust declinations to be -180 => 180\n",
    "fig=plt.figure(1,figsize=(7,9)) # set up the figure\n",
    "fig.add_subplot(411) # make 4 rows of plots, this is the first\n",
    "plt.plot(dates,vector_df.dec_adj) # plot the adjusted declinations\n",
    "plt.ylabel('Declination ($^{\\circ}$)')\n",
    "plt.title('Geomagnetic field evaluated at Lat: '+str(lat)+' / Lon: '+str(lon))\n",
    "fig.add_subplot(412) # this is the second\n",
    "plt.plot(dates,vector_df.inc) # plot  the inclinations\n",
    "plt.ylabel('Inclination ($^{\\circ}$)')\n",
    "fig.add_subplot(413)\n",
    "plt.plot(dates,vector_df.int*1e-3) # plot the intensites (in uT instead of nT)\n",
    "plt.ylabel('Intensity ($\\mu$T)')\n",
    "fig.add_subplot(414) # plot the VADMs \n",
    "plt.plot(dates,vector_df.vadms*1e-21) # plot as ZAm^2\n",
    "plt.ylabel('VADM (ZAm$^2$)')\n",
    "plt.xlabel('Dates (CE)');"
   ]
  },
  {
   "cell_type": "markdown",
   "metadata": {},
   "source": [
    "## incfish\n",
    "\n",
    "[\\[Essentials Chapter 11\\]](https://earthref.org/MagIC/books/Tauxe/Essentials/WebBook3ch11.html) \n",
    "[\\[command line version\\]](https://pmagpy.github.io/PmagPy-cli.html#incfish.py)\n",
    "\n",
    "You can't get a meaningful average inclination from inclination only data because of the exponential relationship between inclinations and the true mean inclination for Fisher distributions (except exactly at the pole and the equator).  So, McFadden and Reid (1982, doi:  10.1111/j.1365-246X.1982.tb04950.x) developed a maximum liklihood estimate for getting an estimate for true mean absent declination.   **pmag.doincfish()** is an implementation of that concept. "
   ]
  },
  {
   "cell_type": "code",
   "execution_count": null,
   "metadata": {},
   "outputs": [
    {
     "name": "stdout",
     "output_type": "stream",
     "text": [
      "Help on function doincfish in module pmagpy.pmag:\n",
      "\n",
      "doincfish(inc)\n",
      "    gets fisher mean inc from inc only data\n",
      "    input: list of inclination values\n",
      "    output: dictionary of\n",
      "        'n' : number of inclination values supplied\n",
      "        'ginc' : gaussian mean of inclinations\n",
      "        'inc' : estimated Fisher mean\n",
      "        'r' : estimated Fisher R value\n",
      "        'k' : estimated Fisher kappa\n",
      "        'alpha95' : estimated fisher alpha_95\n",
      "        'csd' : estimated circular standard deviation\n",
      "\n"
     ]
    }
   ],
   "source": [
    "help(pmag.doincfish)"
   ]
  },
  {
   "cell_type": "code",
   "execution_count": null,
   "metadata": {},
   "outputs": [
    {
     "data": {
      "text/plain": [
       "{'n': 100,\n",
       " 'ginc': 57.135000000000005,\n",
       " 'inc': 61.024999999999764,\n",
       " 'r': 92.8908144677846,\n",
       " 'k': 13.925645849497057,\n",
       " 'alpha95': 0.9966295962964244,\n",
       " 'csd': 21.70587740469687}"
      ]
     },
     "execution_count": 85,
     "metadata": {},
     "output_type": "execute_result"
    }
   ],
   "source": [
    "incs=np.loadtxt('data_files/incfish/incfish_example_inc.dat')\n",
    "pmag.doincfish(incs)"
   ]
  },
  {
   "cell_type": "markdown",
   "metadata": {},
   "source": [
    "## pca\n",
    "\n",
    "[\\[Essentials Chapter 11\\]](https://earthref.org/MagIC/books/Tauxe/Essentials/WebBook3ch11.html) [\\[command line version\\]](https://pmagpy.github.io/PmagPy-cli.html#pca.py)\n",
    "\n",
    "**pca**  calculates best-fit lines, planes or Fisher means through selected treatment steps along with Kirschvink (1980, doi:  10.1111/j.1365-246X.1980.tb02601.x) MAD values. The file format is a simple space delimited file with specimen name, treatment step, intensity, declination and inclination. **pca.py**  calls **pmag.domean()**, so that is what we will do here. "
   ]
  },
  {
   "cell_type": "code",
   "execution_count": null,
   "metadata": {},
   "outputs": [
    {
     "name": "stdout",
     "output_type": "stream",
     "text": [
      "Help on function domean in module pmagpy.pmag:\n",
      "\n",
      "domean(data, start, end, calculation_type)\n",
      "    Gets average direction using Fisher or principal component analysis (line\n",
      "    or plane) methods\n",
      "    \n",
      "    Parameters\n",
      "    ----------\n",
      "    data : nest list of data: [[treatment,dec,inc,int,quality],...]\n",
      "    start : step being used as start of fit (often temperature minimum)\n",
      "    end : step being used as end of fit (often temperature maximum)\n",
      "    calculation_type : string describing type of calculation to be made\n",
      "    'DE-BFL' (line), 'DE-BFL-A' (line-anchored), 'DE-BFL-O' (line-with-origin),\n",
      "    'DE-BFP' (plane), 'DE-FM' (Fisher mean)\n",
      "    \n",
      "    Returns\n",
      "    -------\n",
      "    mpars : dictionary with the keys \"specimen_n\",\"measurement_step_min\",\n",
      "    \"measurement_step_max\",\"specimen_mad\",\"specimen_dec\",\"specimen_inc\"\n",
      "\n"
     ]
    }
   ],
   "source": [
    "help(pmag.domean)"
   ]
  },
  {
   "cell_type": "code",
   "execution_count": null,
   "metadata": {},
   "outputs": [
    {
     "data": {
      "text/plain": [
       "{'calculation_type': 'DE-BFL',\n",
       " 'center_of_mass': [1.9347888195464598e-05,\n",
       "  -2.1736620227095438e-05,\n",
       "  2.5042313896882542e-05],\n",
       " 'specimen_direction_type': 'l',\n",
       " 'specimen_dec': 334.9058336155927,\n",
       " 'specimen_inc': 51.50973235790523,\n",
       " 'specimen_mad': 8.75370050160012,\n",
       " 'specimen_n': 10,\n",
       " 'specimen_dang': 19.257783100769142,\n",
       " 'measurement_step_min': 2.5,\n",
       " 'measurement_step_max': 70.0}"
      ]
     },
     "execution_count": 87,
     "metadata": {},
     "output_type": "execute_result"
    }
   ],
   "source": [
    "# read in data as space delimited file\n",
    "data=pd.read_csv('data_files/pca/pca_example.txt',\\\n",
    "                 delim_whitespace=True,header=None)\n",
    "# we need to add a column for quality\n",
    "data['quality']='g'\n",
    "# strip off the specimen name and reorder records \n",
    "#  from:  int,dec,inc to: dec,inc,int \n",
    "data=data[[1,3,4,2,'quality']].values.tolist()\n",
    "pmag.domean(data,1,10,'DE-BFL')"
   ]
  },
  {
   "cell_type": "markdown",
   "metadata": {},
   "source": [
    "## pt_rot\n",
    "\n",
    "\n",
    "[\\[Essentials Chapter 16\\]](https://earthref.org/MagIC/books/Tauxe/Essentials/WebBook3ch16.html) \n",
    "[\\[Essentials Appendix A.3.5\\]](https://earthref.org/MagIC/books/Tauxe/Essentials/WebBook3ap1.html)\n",
    "[\\[command line version\\]](https://pmagpy.github.io/PmagPy-cli.html#pt_rot.py)\n",
    "\n",
    "\n",
    "\n",
    "This program finds rotation poles  for a specified location, age and destination plate, then rotates the point into the destination plate coordinates using the roations and methods described in Essentials Appendix A.3.5.  \n",
    "This can be done for you using the function **frp.get_pole()** in the finite rotation pole module called **pmagpy.frp**. You then call **pmag.pt_rot()** to do the rotation.  Let's do this for to rotate the Cretaceous poles from Europe (sane data as in the polemap_magic example) and rotate them to South African coordinates.  \n"
   ]
  },
  {
   "cell_type": "code",
   "execution_count": null,
   "metadata": {},
   "outputs": [
    {
     "name": "stdout",
     "output_type": "stream",
     "text": [
      "Help on function get_pole in module pmagpy.frp:\n",
      "\n",
      "get_pole(continent, age)\n",
      "    returns rotation poles and angles for specified continents and ages\n",
      "    assumes fixed Africa.  \n",
      "    Parameters\n",
      "    __________\n",
      "        continent : \n",
      "            aus : Australia\n",
      "            eur : Eurasia\n",
      "            mad : Madacascar\n",
      "            [nwaf,congo] : NW Africa  [choose one]\n",
      "            col :  Colombia\n",
      "            grn : Greenland\n",
      "            nam : North America\n",
      "            par : Paraguay\n",
      "            eant :  East Antarctica\n",
      "            ind : India\n",
      "            [neaf,kala] : NE Africa [choose one]\n",
      "            [sac,sam] :  South America [choose one]\n",
      "            ib : Iberia\n",
      "            saf : South Africa\n",
      "      Returns\n",
      "      _______\n",
      "          [pole longitude, pole latitude, rotation angle] : for the continent at specified age\n",
      "\n"
     ]
    }
   ],
   "source": [
    "# need to load this special module\n",
    "import pmagpy.frp as frp\n",
    "help(frp.get_pole)"
   ]
  },
  {
   "cell_type": "code",
   "execution_count": null,
   "metadata": {},
   "outputs": [
    {
     "data": {
      "text/plain": [
       "[40.2, -12.5, 28.5]"
      ]
     },
     "execution_count": 89,
     "metadata": {},
     "output_type": "execute_result"
    }
   ],
   "source": [
    "Prot=frp.get_pole('eur',100)\n",
    "Prot"
   ]
  },
  {
   "cell_type": "code",
   "execution_count": null,
   "metadata": {
    "scrolled": true
   },
   "outputs": [
    {
     "name": "stdout",
     "output_type": "stream",
     "text": [
      "Help on function pt_rot in module pmagpy.pmag:\n",
      "\n",
      "pt_rot(EP, Lats, Lons)\n",
      "    Rotates points on a globe by an Euler pole rotation using method of\n",
      "    Cox and Hart 1986, box 7-3.\n",
      "    \n",
      "    Parameters\n",
      "    ----------\n",
      "    EP : Euler pole list [lat,lon,angle]\n",
      "    Lats : list of latitudes of points to be rotated\n",
      "    Lons : list of longitudes of points to be rotated\n",
      "    \n",
      "    Returns\n",
      "    _________\n",
      "    RLats : rotated latitudes\n",
      "    RLons : rotated longitudes\n",
      "\n"
     ]
    }
   ],
   "source": [
    "help(pmag.pt_rot)"
   ]
  },
  {
   "cell_type": "code",
   "execution_count": null,
   "metadata": {},
   "outputs": [],
   "source": [
    "data=pd.read_csv('data_files/polemap_magic/locations.txt',sep='\\t',header=1)\n",
    "lats=data['pole_lat'].values\n",
    "lons=data['pole_lon'].values\n",
    "RLats,RLons=rot_pts=pmag.pt_rot(Prot,lats,lons)"
   ]
  },
  {
   "cell_type": "markdown",
   "metadata": {},
   "source": [
    "And now we can plot them using **pmagplotlib.plot_map()**"
   ]
  },
  {
   "cell_type": "code",
   "execution_count": null,
   "metadata": {},
   "outputs": [
    {
     "name": "stdout",
     "output_type": "stream",
     "text": [
      "gridlines only supported for PlateCarree, Lambert Conformal, and Mercator plots currently\n"
     ]
    },
    {
     "data": {
      "image/png": "[encoded data removed]",
      "text/plain": [
       "<Figure size 432x432 with 2 Axes>"
      ]
     },
     "metadata": {
      "needs_background": "light"
     },
     "output_type": "display_data"
    }
   ],
   "source": [
    "Opts={}\n",
    "Opts['sym']='wo' # sets the symbol\n",
    "Opts['symsize']=10\n",
    "Opts['proj']='ortho'\n",
    "Opts['edge']='black'\n",
    "Opts['lat_0']=90\n",
    "Opts['details']={}\n",
    "Opts['details']['fancy']=True # warning : this option takes a few minutes\n",
    "if has_cartopy:\n",
    "    plt.figure(1,(6,6)) # optional - make a map\n",
    "    pmagplotlib.plot_map(1, RLats, RLons, Opts)"
   ]
  },
  {
   "cell_type": "markdown",
   "metadata": {},
   "source": [
    "## s_eigs\n",
    "\n",
    "\n",
    "[\\[Essentials Chapter 13\\]](https://earthref.org/MagIC/books/Tauxe/Essentials/WebBook3ch13.html#x15-156000813) [\\[command line version\\]](https://pmagpy.github.io/PmagPy-cli.html#s_eigs.py)\n",
    "\n",
    "This program converts  the six tensor elements to eigenparameters - the inverse of [eigs_s](#eigs_s).  \n",
    "We can call the function **pmag.doseigs()** from the notebook.  \n"
   ]
  },
  {
   "cell_type": "code",
   "execution_count": null,
   "metadata": {},
   "outputs": [
    {
     "name": "stdout",
     "output_type": "stream",
     "text": [
      "Help on function doseigs in module pmagpy.pmag:\n",
      "\n",
      "doseigs(s)\n",
      "    convert s format for eigenvalues and eigenvectors\n",
      "    \n",
      "    Parameters\n",
      "    __________\n",
      "    s=[x11,x22,x33,x12,x23,x13] : the six tensor elements\n",
      "    \n",
      "    Return\n",
      "    __________\n",
      "        tau : [t1,t2,t3]\n",
      "           tau is an list of eigenvalues in decreasing order:\n",
      "        V : [[V1_dec,V1_inc],[V2_dec,V2_inc],[V3_dec,V3_inc]]\n",
      "            is an list of the eigenvector directions\n",
      "\n"
     ]
    }
   ],
   "source": [
    "help(pmag.doseigs)"
   ]
  },
  {
   "cell_type": "code",
   "execution_count": null,
   "metadata": {},
   "outputs": [
    {
     "name": "stdout",
     "output_type": "stream",
     "text": [
      "0.331272   239.53    44.70 0.333513   126.62    21.47 0.335215    19.03    37.54\n",
      "0.331779   281.12     6.18 0.332183   169.79    73.43 0.336039    12.82    15.32\n",
      "0.330470   283.57    27.30 0.333283   118.37    61.91 0.336247    16.75     6.13\n",
      "0.331238   261.36    12.07 0.333776   141.40    66.82 0.334986   355.70    19.48\n",
      "0.330857   255.71     7.13 0.333792   130.85    77.65 0.335352   346.97    10.03\n",
      "0.331759   268.51    26.79 0.334050   169.66    16.95 0.334190    51.04    57.53\n",
      "0.331950   261.59    20.68 0.333133    92.18    68.99 0.334917   352.93     3.54\n",
      "0.331576   281.42    21.32 0.333121   117.04    67.94 0.335303    13.54     5.41\n"
     ]
    }
   ],
   "source": [
    "Ss=np.loadtxt('data_files/s_eigs/s_eigs_example.dat')\n",
    "for s in Ss:\n",
    "    tau,V=pmag.doseigs(s)\n",
    "    print ('%f %8.2f %8.2f %f %8.2f %8.2f %f %8.2f %8.2f'%\\\n",
    "           (tau[2],V[2][0],V[2][1],tau[1],V[1][0],V[1][1],tau[0],V[0][0],V[0][1]))"
   ]
  },
  {
   "cell_type": "markdown",
   "metadata": {},
   "source": [
    "## s_geo\n",
    "\n",
    "[\\[Essentials Chapter 13\\]](https://earthref.org/MagIC/books/Tauxe/Essentials/WebBook3ch13.html#x15-156000813) [\\[command line version\\]](https://pmagpy.github.io/PmagPy-cli.html#s_geo.py)\n",
    "\n",
    "**s_geo** takes the 6 tensor elements in specimen coordinates and applies the rotation similar to [**di_geo**](#di_geo).  To do this we will call **pmag.dosgeo()** from within the notebook.   \n"
   ]
  },
  {
   "cell_type": "code",
   "execution_count": null,
   "metadata": {},
   "outputs": [
    {
     "name": "stdout",
     "output_type": "stream",
     "text": [
      "Help on function dosgeo in module pmagpy.pmag:\n",
      "\n",
      "dosgeo(s, az, pl)\n",
      "    rotates  matrix a to az,pl returns  s\n",
      "    Parameters\n",
      "    __________\n",
      "    s : [x11,x22,x33,x12,x23,x13] - the six tensor elements\n",
      "    az : the azimuth of the specimen X direction\n",
      "    pl : the plunge (inclination) of the specimen X direction\n",
      "    \n",
      "    Return\n",
      "    s_rot : [x11,x22,x33,x12,x23,x13] - after rotation\n",
      "\n"
     ]
    }
   ],
   "source": [
    "help(pmag.dosgeo)"
   ]
  },
  {
   "cell_type": "code",
   "execution_count": null,
   "metadata": {},
   "outputs": [
    {
     "name": "stdout",
     "output_type": "stream",
     "text": [
      "[ 3.3412680e-01  3.3282733e-01  3.3304587e-01 -1.5288725e-04\n",
      "  1.2484333e-03  1.3572115e-03]\n",
      "[3.3556300e-01 3.3198264e-01 3.3245432e-01 8.7258930e-04 2.4140846e-04\n",
      " 9.6166186e-04]\n",
      "[3.3584908e-01 3.3140627e-01 3.3274469e-01 1.3184461e-03 1.1881561e-03\n",
      " 2.9863901e-05]\n",
      "[ 0.33479756  0.3314253   0.3337772  -0.00047493  0.00049539  0.00044303]\n",
      "[ 3.3505613e-01  3.3114848e-01  3.3379540e-01 -1.0137478e-03\n",
      "  2.8535718e-04  3.4851654e-04]\n",
      "[ 3.3406156e-01  3.3226916e-01  3.3366925e-01 -2.2665596e-05\n",
      "  9.8547747e-04  5.5531069e-05]\n",
      "[ 3.3486596e-01  3.3216032e-01  3.3297369e-01 -3.5492037e-04\n",
      "  3.9253550e-04  1.5402706e-04]\n",
      "[3.3510646e-01 3.3196402e-01 3.3292958e-01 7.5965287e-04 5.7242444e-04\n",
      " 1.0112141e-04]\n"
     ]
    }
   ],
   "source": [
    "Ss=np.loadtxt('data_files/s_geo/s_geo_example.dat')\n",
    "for s in Ss:\n",
    "    print(pmag.dosgeo(s[0:6],s[6],s[7]))"
   ]
  },
  {
   "cell_type": "markdown",
   "metadata": {},
   "source": [
    "## s_hext\n",
    "\n",
    "[\\[Essentials Chapter 13\\]](https://earthref.org/MagIC/books/Tauxe/Essentials/WebBook3ch13.html#x15-156000813) [\\[command line version\\]](https://pmagpy.github.io/PmagPy-cli.html#s_hext.py)\n",
    "\n",
    "**s_hext** calculates Hext (1963, doi: 10.2307/2333905) statistics for anisotropy data in the six tensor element format.  \n",
    "It  calls **pmag.dohext()**.   "
   ]
  },
  {
   "cell_type": "code",
   "execution_count": null,
   "metadata": {},
   "outputs": [
    {
     "name": "stdout",
     "output_type": "stream",
     "text": [
      "Help on function dohext in module pmagpy.pmag:\n",
      "\n",
      "dohext(nf, sigma, s)\n",
      "    calculates hext parameters for nf, sigma and s\n",
      "    \n",
      "    Parameters\n",
      "    __________\n",
      "    nf :  number of degrees of freedom (measurements - 6)\n",
      "    sigma : the sigma of the measurements\n",
      "    s : [x11,x22,x33,x12,x23,x13] - the six tensor elements\n",
      "    \n",
      "    Return\n",
      "    hpars : dictionary of Hext statistics with keys:\n",
      "        'F_crit' : critical value for anisotropy\n",
      "        'F12_crit' : critical value for tau1>tau2, tau2>3\n",
      "        'F' : value of F\n",
      "        'F12' : value of F12\n",
      "        'F23' : value of F23\n",
      "        'v1_dec': declination of principal eigenvector\n",
      "        'v1_inc': inclination of principal eigenvector\n",
      "        'v2_dec': declination of major eigenvector\n",
      "        'v2_inc': inclination of major eigenvector\n",
      "        'v3_dec': declination of minor eigenvector\n",
      "        'v3_inc': inclination of minor eigenvector\n",
      "        't1': principal eigenvalue\n",
      "        't2': major eigenvalue\n",
      "        't3': minor eigenvalue\n",
      "        'e12': angle of confidence ellipse of principal eigenvector in direction of major eigenvector\n",
      "        'e23': angle of confidence ellipse of major eigenvector in direction of minor eigenvector\n",
      "        'e13': angle of confidence ellipse of principal eigenvector in direction of minor eigenvector\n",
      "    \n",
      "    If working with data set with no sigmas and the average is desired, use nf,sigma,avs=pmag.sbar(Ss) as input\n",
      "\n"
     ]
    }
   ],
   "source": [
    "help(pmag.dohext)"
   ]
  },
  {
   "cell_type": "markdown",
   "metadata": {},
   "source": [
    "We are working with data that have no sigmas attached to them and want to average all the values in the file together.  Let's look at the rotated data from the [**s_geo**](#s_geo) example.  "
   ]
  },
  {
   "cell_type": "code",
   "execution_count": null,
   "metadata": {},
   "outputs": [
    {
     "name": "stdout",
     "output_type": "stream",
     "text": [
      "{'F_crit': '2.4377', 'F12_crit': '3.2199', 'F': 5.752167064666719, 'F12': 3.5510601243464004, 'F23': 3.663557566868797, 'v1_dec': 5.330894345303252, 'v1_inc': 14.682483596068828, 'v2_dec': 124.47233106679136, 'v2_inc': 61.71700837018042, 'v3_dec': 268.75792759495505, 'v3_inc': 23.599173682479822, 't1': 0.3350527, 't2': 0.33334228, 't3': 0.331605, 'e12': 25.45983619637674, 'e23': 25.114754046379378, 'e13': 13.28977437428862}\n"
     ]
    }
   ],
   "source": [
    "# read in the data\n",
    "Ss=np.loadtxt('data_files/s_geo/s_geo_example.dat')\n",
    "# make a container for the rotated S values\n",
    "SGeos=[]\n",
    "for s in Ss:\n",
    "    SGeos.append(pmag.dosgeo(s[0:6],s[6],s[7]))\n",
    "nf,sigma,avs=pmag.sbar(SGeos)  # get the average over all the data\n",
    "hpars=pmag.dohext(nf,sigma,avs)\n",
    "print(hpars)"
   ]
  },
  {
   "cell_type": "markdown",
   "metadata": {},
   "source": [
    "## s_magic\n",
    "\n",
    "[\\[command line version\\]](https://pmagpy.github.io/PmagPy-cli.html#s_magic.py)\n",
    "\n",
    "NEED TO ADD THIS ONE....  "
   ]
  },
  {
   "cell_type": "markdown",
   "metadata": {},
   "source": [
    "## s_tilt\n",
    "\n",
    "[\\[Essentials Chapter 13\\]](https://earthref.org/MagIC/books/Tauxe/Essentials/WebBook3ch13.html#x15-156000813) [\\[command line version\\]](https://pmagpy.github.io/PmagPy-cli.html#s_tilt.py)\n",
    "\n",
    "**s_tilt** takes the 6 tensor elements in geographic coordinates and applies the rotation similar to [**di_tilt**](#di_tilt) into stratigraphic coordinates.  It  calls **pmag.dostilt()**.  But be careful!  **s_tilt.py** (the command line program) assumes that the bedding info is the strike, with the dip to the right of strike unlike **pmag.dostilt** which assumes that the azimuth is the dip direction.     "
   ]
  },
  {
   "cell_type": "code",
   "execution_count": null,
   "metadata": {},
   "outputs": [
    {
     "name": "stdout",
     "output_type": "stream",
     "text": [
      "Help on function dostilt in module pmagpy.pmag:\n",
      "\n",
      "dostilt(s, bed_az, bed_dip)\n",
      "    Rotates \"s\" tensor to stratigraphic coordinates\n",
      "    \n",
      "    Parameters\n",
      "    __________\n",
      "    s : [x11,x22,x33,x12,x23,x13] - the six tensor elements\n",
      "    bed_az : bedding dip direction\n",
      "    bed_dip :  bedding dip\n",
      "    \n",
      "    Return\n",
      "    s_rot : [x11,x22,x33,x12,x23,x13] - after rotation\n",
      "\n"
     ]
    }
   ],
   "source": [
    "help(pmag.dostilt)"
   ]
  },
  {
   "cell_type": "code",
   "execution_count": null,
   "metadata": {},
   "outputs": [
    {
     "name": "stdout",
     "output_type": "stream",
     "text": [
      "[ 0.3345571   0.33192658  0.3335163  -0.00043562  0.00092779  0.00105006]\n",
      "[ 3.3585501e-01  3.3191565e-01  3.3222935e-01  5.5959972e-04\n",
      " -5.3161417e-05  6.4731773e-04]\n",
      "[3.3586669e-01 3.3084923e-01 3.3328408e-01 1.4226610e-03 1.3233915e-04\n",
      " 9.2028757e-05]\n",
      "[ 3.3488664e-01  3.3138493e-01  3.3372843e-01 -5.6597008e-04\n",
      " -3.9085373e-04  4.8729391e-05]\n",
      "[ 3.3506602e-01  3.3127019e-01  3.3366373e-01 -1.0519302e-03\n",
      " -5.7256600e-04 -2.9959495e-04]\n",
      "[3.3407688e-01 3.3177567e-01 3.3414748e-01 7.0073889e-05 1.8446925e-04\n",
      " 5.0731825e-05]\n",
      "[ 3.3483925e-01  3.3197853e-01  3.3318222e-01 -2.8446535e-04\n",
      "  3.5184901e-05 -2.9261652e-04]\n",
      "[ 3.3513144e-01  3.3175036e-01  3.3311823e-01  7.7914412e-04\n",
      " -6.4021988e-05  4.6115947e-05]\n"
     ]
    }
   ],
   "source": [
    "# note that the data in this example are Ss and strike and dip (not bed_az,bed_pl)\n",
    "Ss=np.loadtxt('data_files/s_tilt/s_tilt_example.dat')\n",
    "for s in Ss:\n",
    "    print(pmag.dostilt(s[0:6],s[6]+90.,s[7])) # make the bedding azimuth dip direction, not strike. "
   ]
  },
  {
   "cell_type": "markdown",
   "metadata": {},
   "source": [
    "## scalc\n",
    "\n",
    "[\\[Essentials Chapter 14\\]](https://earthref.org/MagIC/books/Tauxe/Essentials/WebBook3ch14.html#x15-156000813) [\\[command line version\\]](https://pmagpy.github.io/PmagPy-cli.html#scalc.py)\n",
    "\n",
    "\n",
    "This program reads in data files with vgp_lon, vgp_lat and optional kappa, N, and site latitude.\n",
    "It allows some filtering based on the requirements of the study, such as:\n",
    "- Fisher k cutoff\n",
    "- VGP latitudinal cutoff\n",
    "- Vandamme (1994, doi: 10.1016/0031-9201(94)90012-4) iterative cutoff\n",
    "- flipping the reverse mode to antipodes\n",
    "- rotating principle direction to the spin axis\n",
    "- bootstrap confidence bounds\n",
    "- optionally calculates the scatter (Sp or Sf of McElhinny & McFadden, 1997) of VGPs\n",
    "with  correction for within site scatter.  \n",
    "\n",
    "The filtering is just what **Pandas** was designed for, so we can  calls **pmag.scalc_vgp_df()** which works on a suitably constructed  **Pandas** DataFrame.   \n"
   ]
  },
  {
   "cell_type": "code",
   "execution_count": null,
   "metadata": {},
   "outputs": [
    {
     "name": "stdout",
     "output_type": "stream",
     "text": [
      "Help on function scalc_vgp_df in module pmagpy.pmag:\n",
      "\n",
      "scalc_vgp_df(vgp_df, anti=0, rev=0, cutoff=180.0, kappa=0, n=0, spin=0, v=0, boot=0, mm97=0, nb=1000)\n",
      "    Calculates Sf for a dataframe with VGP Lat., and optional Fisher's k, site latitude and N information can be used to correct for within site scatter (McElhinny & McFadden, 1997)\n",
      "    \n",
      "    Parameters\n",
      "    _________\n",
      "    df : Pandas Dataframe with columns\n",
      "        REQUIRED:\n",
      "        vgp_lat :  VGP latitude\n",
      "        ONLY REQUIRED for MM97 correction:\n",
      "        dir_k : Fisher kappa estimate\n",
      "        dir_n_samples : number of samples per site\n",
      "        lat : latitude of the site\n",
      "        mm97 : if True, will do the correction for within site scatter\n",
      "        OPTIONAL:\n",
      "        boot : if True. do bootstrap\n",
      "        nb : number of bootstraps, default is 1000\n",
      "    \n",
      "    Returns\n",
      "    _____________\n",
      "        N : number of VGPs used in calculation\n",
      "        S : S\n",
      "        low : 95% confidence lower bound [0 if boot=0]\n",
      "        high  95% confidence upper bound [0 if boot=0]\n",
      "        cutoff : cutoff used in calculation of  S\n",
      "\n"
     ]
    }
   ],
   "source": [
    "help(pmag.scalc_vgp_df)"
   ]
  },
  {
   "cell_type": "markdown",
   "metadata": {},
   "source": [
    "To just calculate the value of S (without the within site scatter) we read in a data file and attach the correct headers to it depending on what is in it."
   ]
  },
  {
   "cell_type": "code",
   "execution_count": null,
   "metadata": {},
   "outputs": [
    {
     "name": "stdout",
     "output_type": "stream",
     "text": [
      "100    21.8    180.0 \n"
     ]
    }
   ],
   "source": [
    "vgp_df=pd.read_csv('data_files/scalc/scalc_example.txt',delim_whitespace=True,header=None)\n",
    "if len(list(vgp_df.columns))==2:\n",
    "    vgp_df.columns=['vgp_lon','vgp_lat']\n",
    "    vgp_df['dir_k'],vgp_df['dir_n'],vgp_df['lat']=0,0,0\n",
    "else:\n",
    "    vgp_df.columns=['vgp_lon','vgp_lat','dir_k','dir_n_samples','lat']\n",
    "pmag.scalc_vgp_df\n",
    "N,S_B,low,high,cutoff=pmag.scalc_vgp_df(vgp_df)\n",
    "print(N, '%7.1f  %7.1f ' % (S_B, cutoff))"
   ]
  },
  {
   "cell_type": "markdown",
   "metadata": {},
   "source": [
    "To apply a cutoff for the Fisher k value, we just filter the DataFrame prior to calculating S_b. Let's filter for kappa>50"
   ]
  },
  {
   "cell_type": "code",
   "execution_count": null,
   "metadata": {},
   "outputs": [
    {
     "name": "stdout",
     "output_type": "stream",
     "text": [
      "73    18.5    180.0 \n"
     ]
    }
   ],
   "source": [
    "N,S_B,low,high,cutoff=pmag.scalc_vgp_df(vgp_df,kappa=50)\n",
    "print(N, '%7.1f  %7.1f ' % (S_B, cutoff))"
   ]
  },
  {
   "cell_type": "markdown",
   "metadata": {},
   "source": [
    "To apply the Vandamme (1994) approach, we set v to True"
   ]
  },
  {
   "cell_type": "code",
   "execution_count": null,
   "metadata": {},
   "outputs": [
    {
     "name": "stdout",
     "output_type": "stream",
     "text": [
      "89    15.2     32.3 \n"
     ]
    }
   ],
   "source": [
    "N,S_B,low,high,cutoff=pmag.scalc_vgp_df(vgp_df,v=True)\n",
    "print(N, '%7.1f  %7.1f ' % (S_B, cutoff))"
   ]
  },
  {
   "cell_type": "markdown",
   "metadata": {},
   "source": [
    "To flip the \"reverse\" directions, we set anti to 1"
   ]
  },
  {
   "cell_type": "code",
   "execution_count": null,
   "metadata": {},
   "outputs": [
    {
     "name": "stdout",
     "output_type": "stream",
     "text": [
      "flipping reverse\n",
      "100    21.1    180.0 \n"
     ]
    }
   ],
   "source": [
    "N,S_B,low,high,cutoff=pmag.scalc_vgp_df(vgp_df,anti=True)\n",
    "print(N, '%7.1f  %7.1f ' % (S_B, cutoff))"
   ]
  },
  {
   "cell_type": "markdown",
   "metadata": {},
   "source": [
    "And, to do relative to the spin axis, set spin to True: "
   ]
  },
  {
   "cell_type": "code",
   "execution_count": null,
   "metadata": {},
   "outputs": [
    {
     "name": "stdout",
     "output_type": "stream",
     "text": [
      "100    21.6    180.0 \n"
     ]
    }
   ],
   "source": [
    "N,S_B,low,high,cutoff=pmag.scalc_vgp_df(vgp_df,spin=True)\n",
    "print(N, '%7.1f  %7.1f ' % (S_B, cutoff))"
   ]
  },
  {
   "cell_type": "markdown",
   "metadata": {},
   "source": [
    "## scalc_magic\n",
    "\n",
    "[\\[Essentials Chapter 14\\]](https://earthref.org/MagIC/books/Tauxe/Essentials/WebBook3ch14.html#x15-156000813) [\\[command line version\\]](https://pmagpy.github.io/PmagPy-cli.html#scalc_magic.py)\n",
    "\n",
    "\n",
    "This program does the same thing as [**scalc**](#scalc), but reads in a MagIC formatted file. So, we can do that easy-peasy."
   ]
  },
  {
   "cell_type": "code",
   "execution_count": null,
   "metadata": {},
   "outputs": [
    {
     "name": "stdout",
     "output_type": "stream",
     "text": [
      "flipping reverse\n",
      "21    17.3    180.0 \n"
     ]
    }
   ],
   "source": [
    "vgp_df=pd.read_csv('data_files/scalc_magic/sites.txt',sep='\\t',header=1)\n",
    "N,S_B,low,high,cutoff=pmag.scalc_vgp_df(vgp_df,anti=True)\n",
    "print(N, '%7.1f  %7.1f ' % (S_B, cutoff))"
   ]
  },
  {
   "cell_type": "code",
   "execution_count": null,
   "metadata": {},
   "outputs": [
    {
     "name": "stdout",
     "output_type": "stream",
     "text": [
      "flipping reverse\n",
      "21    16.8    180.0 \n"
     ]
    }
   ],
   "source": [
    "vgp_df=pd.read_csv('data_files/scalc_magic/sites.txt',sep='\\t',header=1)\n",
    "N,S_B,low,high,cutoff=pmag.scalc_vgp_df(vgp_df,anti=True,spin=True)\n",
    "print(N, '%7.1f  %7.1f ' % (S_B, cutoff))"
   ]
  },
  {
   "cell_type": "markdown",
   "metadata": {},
   "source": [
    "## separate_directions\n",
    "\n",
    "Like [pmag.flip( )](#flip), **pmag.separate_directions** divides a directional data set into two modes.  Unlike [pmag.flip( )](#flip), it returns the two separate modes (e.g., normal and reverse)"
   ]
  },
  {
   "cell_type": "code",
   "execution_count": null,
   "metadata": {},
   "outputs": [
    {
     "name": "stdout",
     "output_type": "stream",
     "text": [
      "Help on function separate_directions in module pmagpy.pmag:\n",
      "\n",
      "separate_directions(di_block)\n",
      "    Separates set of directions into two modes based on principal direction\n",
      "    \n",
      "    Parameters\n",
      "    _______________\n",
      "    di_block : block of nested dec,inc pairs\n",
      "    \n",
      "    Return\n",
      "    mode_1_block,mode_2_block :  two lists of nested dec,inc pairs\n",
      "\n"
     ]
    }
   ],
   "source": [
    "help(pmag.separate_directions)"
   ]
  },
  {
   "cell_type": "code",
   "execution_count": null,
   "metadata": {},
   "outputs": [
    {
     "data": {
      "image/png": "[encoded data removed]",
      "text/plain": [
       "<Figure size 432x288 with 1 Axes>"
      ]
     },
     "metadata": {
      "needs_background": "light"
     },
     "output_type": "display_data"
    }
   ],
   "source": [
    "#read in the data into an array\n",
    "vectors=np.loadtxt('data_files/eqarea_ell/tk03.out').transpose()\n",
    "di_block=vectors[0:2].transpose() # decs are di_block[0], incs are di_block[1]\n",
    "# flip the reverse directions to their normal antipodes\n",
    "normal,reverse=pmag.separate_directions(di_block)\n",
    "# and plot them up\n",
    "ipmag.plot_net(1)\n",
    "ipmag.plot_di(di_block=normal,color='red')\n",
    "ipmag.plot_di(di_block=reverse,color='b')"
   ]
  },
  {
   "cell_type": "markdown",
   "metadata": {},
   "source": [
    "## squish\n",
    "\n",
    "[\\[Essentials Chapter 7\\]](https://earthref.org/MagIC/books/Tauxe/Essentials/WebBook3ch7.html#x15-156000813) [\\[command line version\\]](https://pmagpy.github.io/PmagPy-cli.html#squish.py)\n",
    "\n",
    "\n",
    "\n",
    "This program reads in dec/inc data and \"squishes\" the inclinations using the formula from King \n",
    "(1955, doi: 10.1111/j.1365-246X.1955.tb06558.x)  $\\tan(I_o)=flat \\tan(I_f)$.  \\[See also [unsquish](#unsquish)\\]. \n",
    "We can call **pmag.squish()** from within the notebook.  "
   ]
  },
  {
   "cell_type": "code",
   "execution_count": null,
   "metadata": {},
   "outputs": [
    {
     "name": "stdout",
     "output_type": "stream",
     "text": [
      "Help on function squish in module pmagpy.pmag:\n",
      "\n",
      "squish(incs, f)\n",
      "    returns 'flattened' inclination, assuming factor, f and King (1955) formula:\n",
      "    tan (I_o) = f tan (I_f)\n",
      "    \n",
      "    Parameters\n",
      "    __________\n",
      "    incs : array of inclination (I_f)  data to flatten\n",
      "    f : flattening factor\n",
      "    \n",
      "    Returns\n",
      "    _______\n",
      "    I_o :  inclinations after flattening\n",
      "\n"
     ]
    }
   ],
   "source": [
    "help(pmag.squish)"
   ]
  },
  {
   "cell_type": "code",
   "execution_count": null,
   "metadata": {},
   "outputs": [],
   "source": [
    "di_block=np.loadtxt('data_files/squish/squish_example.dat').transpose()\n",
    "decs=di_block[0]\n",
    "incs=di_block[1]\n",
    "flat=0.4\n",
    "fincs=pmag.squish(incs,flat)"
   ]
  },
  {
   "cell_type": "code",
   "execution_count": null,
   "metadata": {},
   "outputs": [
    {
     "data": {
      "image/png": "[encoded data removed]",
      "text/plain": [
       "<Figure size 432x288 with 1 Axes>"
      ]
     },
     "metadata": {
      "needs_background": "light"
     },
     "output_type": "display_data"
    },
    {
     "data": {
      "image/png": "[encoded data removed]",
      "text/plain": [
       "<Figure size 432x288 with 1 Axes>"
      ]
     },
     "metadata": {
      "needs_background": "light"
     },
     "output_type": "display_data"
    }
   ],
   "source": [
    "ipmag.plot_net(1)\n",
    "ipmag.plot_di(dec=decs,inc=incs,title='Original',color='blue')\n",
    "ipmag.plot_net(2)\n",
    "ipmag.plot_di(dec=decs,inc=fincs,title='Squished',color='red')"
   ]
  },
  {
   "cell_type": "markdown",
   "metadata": {},
   "source": [
    "## stats\n",
    "\n",
    "[\\[Essentials Chapter 11\\]](https://earthref.org/MagIC/books/Tauxe/Essentials/WebBook3ch11.html#x15-156000813) [\\[command line version\\]](https://pmagpy.github.io/PmagPy-cli.html#/stats.py)\n",
    "\n",
    "This program just calculates the N, mean, sum, sigma and sigma % for data.  There are numerous ways to do that in **Numpy**, so let's just use those."
   ]
  },
  {
   "cell_type": "code",
   "execution_count": null,
   "metadata": {},
   "outputs": [
    {
     "name": "stdout",
     "output_type": "stream",
     "text": [
      "100 9.949869990000002 994.9869990000001 0.9533644867617789\n"
     ]
    }
   ],
   "source": [
    "data=np.loadtxt('data_files/gaussian/gauss.out')\n",
    "print (data.shape[0],data.mean(),data.sum(),data.std())"
   ]
  },
  {
   "cell_type": "markdown",
   "metadata": {},
   "source": [
    "## strip_magic\n",
    "\n",
    "[\\[Essentials Chapter 15\\]](https://earthref.org/MagIC/books/Tauxe/Essentials/WebBook3ch15.html)\n",
    "[\\[MagIC Database\\]](https://earthref.org/MagIC)\n",
    "[\\[command line version\\]](https://pmagpy.github.io/PmagPy-cli.html#strip_magic.py)\n",
    "\n",
    "We can do this easily using the wonders of **Pandas** and **matplotlib** as demonstrated here.  "
   ]
  },
  {
   "cell_type": "code",
   "execution_count": null,
   "metadata": {},
   "outputs": [
    {
     "data": {
      "text/plain": [
       "Index(['site', 'location', 'age', 'age_unit', 'dir_dec', 'dir_inc',\n",
       "       'core_depth', 'lat', 'lon', 'geologic_classes', 'geologic_types',\n",
       "       'lithologies', 'citations', 'vgp_lat', 'vgp_lon', 'paleolatitude',\n",
       "       'vgp_lat_rev', 'vgp_lon_rev'],\n",
       "      dtype='object')"
      ]
     },
     "execution_count": 115,
     "metadata": {},
     "output_type": "execute_result"
    }
   ],
   "source": [
    "# read in the data\n",
    "data=pd.read_csv('data_files/strip_magic/sites.txt',sep='\\t',header=1)\n",
    "# see what's there\n",
    "data.columns\n",
    "\n",
    "# you might have to use **df.dropna()** to clean off unwanted NaN lines or other data massaging\n",
    "# but not for this example"
   ]
  },
  {
   "cell_type": "code",
   "execution_count": null,
   "metadata": {},
   "outputs": [
    {
     "data": {
      "image/png": "[encoded data removed]",
      "text/plain": [
       "<Figure size 720x288 with 1 Axes>"
      ]
     },
     "metadata": {
      "needs_background": "light"
     },
     "output_type": "display_data"
    }
   ],
   "source": [
    "plt.figure(1,(10,4)) # make the figure\n",
    "plt.plot(data.age,data.vgp_lat,'b-') # plot as blue line\n",
    "plt.plot(data.age,data.vgp_lat,'ro',markeredgecolor=\"black\") # plot as red dots with black rims\n",
    "plt.xlabel('Age (Ma)') # label the time axis\n",
    "plt.ylabel('VGP Lat.$^{\\circ}$')\n",
    "plt.ylim(-90,90) # set the plot limits\n",
    "plt.axhline(color='black'); # put on a zero line"
   ]
  },
  {
   "cell_type": "markdown",
   "metadata": {},
   "source": [
    "## sundec\n",
    "\n",
    "[\\[Essentials Chapter 9\\]](https://earthref.org/MagIC/books/Tauxe/Essentials/WebBook3ch9.html)\n",
    "[\\[command line version\\]](https://pmagpy.github.io/PmagPy-cli.html#sundec.py)\n",
    "\n",
    "Paleomagnetists often use the sun to orient their cores, especially if the sampling site is strongly magnetic and would deflect the magnetic compass.  The information required is: where are you (e.g., latitude and longitude), what day is it, what time is it in Greenwhich Mean Time (a.k.a. Universal Time) and where is the sun (e.g., the antipode of the angle the shadow of a gnomon makes with the desired direction)?\n",
    "\n",
    "This calculation is surprisingly accurate and is implemented in the function \n",
    " **pmag.dosundec()**.  "
   ]
  },
  {
   "cell_type": "code",
   "execution_count": null,
   "metadata": {},
   "outputs": [
    {
     "name": "stdout",
     "output_type": "stream",
     "text": [
      "Help on function dosundec in module pmagpy.pmag:\n",
      "\n",
      "dosundec(sundata)\n",
      "    returns the declination for a given set of suncompass data\n",
      "    Parameters\n",
      "    __________\n",
      "      sundata : dictionary with these keys:\n",
      "          date: time string with the format 'yyyy:mm:dd:hr:min'\n",
      "          delta_u: time to SUBTRACT from local time for Universal time\n",
      "          lat: latitude of location (negative for south)\n",
      "          lon: longitude of location (negative for west)\n",
      "          shadow_angle: shadow angle of the desired direction with respect to the sun.\n",
      "    Returns\n",
      "    ________\n",
      "       sunaz : the declination of the desired direction wrt true north.\n",
      "\n"
     ]
    }
   ],
   "source": [
    "help(pmag.dosundec)"
   ]
  },
  {
   "cell_type": "markdown",
   "metadata": {},
   "source": [
    "\n",
    "Say you (or your elderly colleague) were located at 35$^{\\circ}$ N and 33$^{\\circ}$ E. The local time was three hours ahead of Universal Time. The shadow angle for the drilling direction was 68$^{\\circ}$  measured at 16:09 on May 23, 1994. **pmag.dosundec()** requires a dictionary with the necessary information: "
   ]
  },
  {
   "cell_type": "code",
   "execution_count": null,
   "metadata": {},
   "outputs": [
    {
     "name": "stdout",
     "output_type": "stream",
     "text": [
      "  154.2\n"
     ]
    }
   ],
   "source": [
    "sundata={'delta_u':3,'lat':35,'lon':33,\\\n",
    "         'date':'1994:05:23:16:9','shadow_angle':68}\n",
    "print ('%7.1f'%(pmag.dosundec(sundata)))"
   ]
  },
  {
   "cell_type": "markdown",
   "metadata": {},
   "source": [
    "## tk03\n",
    "\n",
    "[\\[Essentials Chapter 16\\]](https://earthref.org/MagIC/books/Tauxe/Essentials/WebBook3ch16.html)\n",
    "[\\[command line version\\]](https://pmagpy.github.io/PmagPy-cli.html#tk03.py)\n",
    "\n",
    "Sometimes it is useful to generate a distribution of synthetic geomagnetic field vectors that you might expect to find from paleosecular variation of the geomagnetic field. The program **tk03** generates distributions of field vectors from the PSV model of Tauxe and Kent (2004, doi: 10.1029/145GM08).  This program was implemented for notebook use as **ipmag.tk03()**.  \\[See also [**find_ei**](#find_ei)\\]. "
   ]
  },
  {
   "cell_type": "code",
   "execution_count": null,
   "metadata": {},
   "outputs": [
    {
     "name": "stdout",
     "output_type": "stream",
     "text": [
      "Help on function tk03 in module pmagpy.ipmag:\n",
      "\n",
      "tk03(n=100, dec=0, lat=0, rev='no', G2=0, G3=0)\n",
      "    Generates vectors drawn from the TK03.gad model of secular\n",
      "    variation (Tauxe and Kent, 2004) at given latitude and rotated\n",
      "    about a vertical axis by the given declination. Return a nested list of\n",
      "    of [dec,inc,intensity].\n",
      "    \n",
      "    Parameters\n",
      "    ----------\n",
      "    n : number of vectors to determine (default is 100)\n",
      "    dec : mean declination of data set (default is 0)\n",
      "    lat : latitude at which secular variation is simulated (default is 0)\n",
      "    rev : if reversals are to be included this should be 'yes' (default is 'no')\n",
      "    G2 : specify average g_2^0 fraction (default is 0)\n",
      "    G3 : specify average g_3^0 fraction (default is 0)\n",
      "    \n",
      "    Returns\n",
      "    ----------\n",
      "    tk_03_output : a nested list of declination, inclination, and intensity (in nT)\n",
      "    \n",
      "    Examples\n",
      "    --------\n",
      "    >>> ipmag.tk03(n=5, dec=0, lat=0)\n",
      "    [[14.752502674158681, -36.189370642603834, 16584.848620957589],\n",
      "     [9.2859465437113311, -10.064247301056071, 17383.950391596223],\n",
      "     [2.4278460589582913, 4.8079990844938019, 18243.679003572055],\n",
      "     [352.93759572283585, 0.086693343935840397, 18524.551174838372],\n",
      "     [352.48366219759953, 11.579098286352332, 24928.412830772766]]\n",
      "\n"
     ]
    }
   ],
   "source": [
    "help(ipmag.tk03)"
   ]
  },
  {
   "cell_type": "code",
   "execution_count": null,
   "metadata": {},
   "outputs": [
    {
     "data": {
      "image/png": "[encoded data removed]",
      "text/plain": [
       "<Figure size 432x288 with 1 Axes>"
      ]
     },
     "metadata": {
      "needs_background": "light"
     },
     "output_type": "display_data"
    }
   ],
   "source": [
    "di_block=ipmag.tk03(lat=30)\n",
    "ipmag.plot_net(1)\n",
    "ipmag.plot_di(di_block=di_block,color='red',edge='black')"
   ]
  },
  {
   "cell_type": "markdown",
   "metadata": {},
   "source": [
    "## uniform\n",
    "\n",
    "[\\[command line version\\]](https://pmagpy.github.io/PmagPy-cli.html#uniform.py)\n",
    "\n",
    "It is at times handy to be able to generate a uniformly distributed set of directions (or geographic locations). This is done using a technique described by Fisher et al. (Fisher, N. I., Lewis, T., & Embleton, B. J. J. (1987). Statistical Analysis of Spherical Data. Cambridge: Cambridge University Press).   We do this by calling  **pmag.get_unf()**.   "
   ]
  },
  {
   "cell_type": "code",
   "execution_count": null,
   "metadata": {},
   "outputs": [
    {
     "name": "stdout",
     "output_type": "stream",
     "text": [
      "Help on function get_unf in module pmagpy.pmag:\n",
      "\n",
      "get_unf(N=100)\n",
      "    Generates N uniformly distributed directions\n",
      "    using the way described in Fisher et al. (1987).\n",
      "    Parameters\n",
      "    __________\n",
      "    N : number of directions, default is 100\n",
      "    \n",
      "    Returns\n",
      "    ______\n",
      "    array of nested dec,inc pairs\n",
      "\n"
     ]
    }
   ],
   "source": [
    "help(pmag.get_unf)"
   ]
  },
  {
   "cell_type": "code",
   "execution_count": null,
   "metadata": {},
   "outputs": [
    {
     "data": {
      "image/png": "[encoded data removed]",
      "text/plain": [
       "<Figure size 432x288 with 1 Axes>"
      ]
     },
     "metadata": {
      "needs_background": "light"
     },
     "output_type": "display_data"
    }
   ],
   "source": [
    "di_block=pmag.get_unf()\n",
    "ipmag.plot_net(1)\n",
    "ipmag.plot_di(di_block=di_block,color='red',edge='black')"
   ]
  },
  {
   "cell_type": "markdown",
   "metadata": {},
   "source": [
    "## unsquish\n",
    "\n",
    "[\\[Essentials Chapter 7\\]](https://earthref.org/MagIC/books/Tauxe/Essentials/WebBook3ch7.html#x15-156000813) \n",
    "[\\[Essentials Chapter 16\\]](https://earthref.org/MagIC/books/Tauxe/Essentials/WebBook3ch16.html#x15-156000813) \n",
    "[\\[command line version\\]](https://pmagpy.github.io/PmagPy-cli.html#unsquish.py)\n",
    "\n",
    "\n",
    "\n",
    "This program is just the inverse of [**squish**](#squish) in that it takes \"squished\" data and \"unsquishes\" them, assuming a King (1955, doi: 10.1111/j.1365-246X.1955.tb06558.x)  relationship:  $\\tan(I_o)=flat \\tan(I_f)$. So, $\\tan(I_f) = \\tan(I_o)/flat$. \n",
    "\n",
    "It calls **pmag.unquish()**.  "
   ]
  },
  {
   "cell_type": "code",
   "execution_count": null,
   "metadata": {},
   "outputs": [
    {
     "name": "stdout",
     "output_type": "stream",
     "text": [
      "Help on function unsquish in module pmagpy.pmag:\n",
      "\n",
      "unsquish(incs, f)\n",
      "    returns 'unflattened' inclination, assuming factor, f and King (1955) formula:\n",
      "    tan (I_o) = tan (I_f)/f\n",
      "    \n",
      "    Parameters\n",
      "    __________\n",
      "    incs : array of inclination (I_f)  data to unflatten\n",
      "    f : flattening factor\n",
      "    \n",
      "    Returns\n",
      "    _______\n",
      "    I_o :  inclinations after unflattening\n",
      "\n"
     ]
    }
   ],
   "source": [
    "help(pmag.unsquish)"
   ]
  },
  {
   "cell_type": "code",
   "execution_count": null,
   "metadata": {},
   "outputs": [],
   "source": [
    "di_block=np.loadtxt('data_files/unsquish/unsquish_example.dat').transpose()\n",
    "decs=di_block[0]\n",
    "incs=di_block[1]\n",
    "flat=.4\n",
    "fincs=pmag.unsquish(incs,flat)"
   ]
  },
  {
   "cell_type": "code",
   "execution_count": null,
   "metadata": {},
   "outputs": [
    {
     "data": {
      "image/png": "[encoded data removed]",
      "text/plain": [
       "<Figure size 432x288 with 1 Axes>"
      ]
     },
     "metadata": {
      "needs_background": "light"
     },
     "output_type": "display_data"
    },
    {
     "data": {
      "image/png": "[encoded data removed]",
      "text/plain": [
       "<Figure size 432x288 with 1 Axes>"
      ]
     },
     "metadata": {
      "needs_background": "light"
     },
     "output_type": "display_data"
    }
   ],
   "source": [
    "ipmag.plot_net(1)\n",
    "ipmag.plot_di(dec=decs,inc=incs,title='Squished',color='red')\n",
    "ipmag.plot_net(2)\n",
    "ipmag.plot_di(dec=decs,inc=fincs,title='Unsquished',color='blue')"
   ]
  },
  {
   "cell_type": "markdown",
   "metadata": {},
   "source": [
    "## vdm_b\n",
    "\n",
    "[\\[Essentials Chapter 2\\]](https://earthref.org/MagIC/books/Tauxe/Essentials/WebBook3ch2.html#x15-1560002)  [\\[command line version\\]](https://pmagpy.github.io/PmagPy-cli.html#vdm_b.py)\n",
    "\n",
    "\n",
    "\n",
    "**vdm_b** is the inverse of [**b_vdm**](#b_vdm) in that it converts a virtual \\[axial\\] dipole moment (vdm or vadm) to a predicted geomagnetic field intensity observed at the earth's surface at a particular (paleo)latitude. This  program calls **pmag.vdm_b()**."
   ]
  },
  {
   "cell_type": "code",
   "execution_count": null,
   "metadata": {},
   "outputs": [
    {
     "name": "stdout",
     "output_type": "stream",
     "text": [
      "Help on function vdm_b in module pmagpy.pmag:\n",
      "\n",
      "vdm_b(vdm, lat)\n",
      "    Converts a virtual dipole moment (VDM) or a virtual axial dipole moment\n",
      "    (VADM; input in units of Am^2) to a local magnetic field value (output in\n",
      "    units of tesla)\n",
      "    \n",
      "    Parameters\n",
      "    ----------\n",
      "    vdm : V(A)DM in units of Am^2\n",
      "    lat: latitude of site in degrees\n",
      "    \n",
      "    Returns\n",
      "    -------\n",
      "    B: local magnetic field strength in tesla\n",
      "\n"
     ]
    }
   ],
   "source": [
    "help(pmag.vdm_b)"
   ]
  },
  {
   "cell_type": "code",
   "execution_count": null,
   "metadata": {},
   "outputs": [
    {
     "name": "stdout",
     "output_type": "stream",
     "text": [
      "   33.0 microtesla\n"
     ]
    }
   ],
   "source": [
    "print ('%7.1f microtesla'%(pmag.vdm_b(7.159e22,22)*1e6))"
   ]
  },
  {
   "cell_type": "markdown",
   "metadata": {},
   "source": [
    "## vector_mean\n",
    "\n",
    "[\\[Essentials Chapter 2\\]](https://earthref.org/MagIC/books/Tauxe/Essentials/WebBook3ch2.html#x15-1560002)  [\\[command line version\\]](https://pmagpy.github.io/PmagPy-cli.html#vector_mean.py)\n",
    "\n",
    "**vector_mean** calculates the vector mean for a set of vectors in polar coordinates (e.g., declination, inclination, intensity).  This is similar to the Fisher mean ([**gofish**](#gofish)) but uses vector length instead of unit vectors.  It calls\n",
    "calls **pmag.vector_mean()**."
   ]
  },
  {
   "cell_type": "code",
   "execution_count": null,
   "metadata": {},
   "outputs": [
    {
     "name": "stdout",
     "output_type": "stream",
     "text": [
      "Help on function vector_mean in module pmagpy.pmag:\n",
      "\n",
      "vector_mean(data)\n",
      "    calculates the vector mean of a given set of vectors\n",
      "    Parameters\n",
      "    __________\n",
      "    data :  nested array of [dec,inc,intensity]\n",
      "    \n",
      "    Returns\n",
      "    _______\n",
      "    dir : array of [dec, inc, 1]\n",
      "    R : resultant vector length\n",
      "\n"
     ]
    }
   ],
   "source": [
    "help(pmag.vector_mean)"
   ]
  },
  {
   "cell_type": "code",
   "execution_count": null,
   "metadata": {},
   "outputs": [
    {
     "name": "stdout",
     "output_type": "stream",
     "text": [
      "100     1.3    49.6 2289431.981383\n"
     ]
    }
   ],
   "source": [
    "data=np.loadtxt('data_files/vector_mean/vector_mean_example.dat')\n",
    "Dir,R=pmag.vector_mean(data)\n",
    "print (('%i %7.1f %7.1f %f')%(data.shape[0],Dir[0],Dir[1],R))"
   ]
  },
  {
   "cell_type": "markdown",
   "metadata": {},
   "source": [
    "## vgp_di\n",
    "\n",
    "[\\[Essentials Chapter 2\\]](https://earthref.org/MagIC/books/Tauxe/Essentials/WebBook3ch2.html) \n",
    "[\\[command line version\\]](https://pmagpy.github.io/PmagPy-cli.html#vgp_di.py)\n",
    "\n",
    "\n",
    "We use **vgp_di** to convert virtual geomagnetic pole positions to predicted directions at a given location.  \\[See also [**di_vgp**](#di_vgp)\\].\n",
    "\n",
    "This program uses the function **pmag.vgp_di()**.  "
   ]
  },
  {
   "cell_type": "code",
   "execution_count": null,
   "metadata": {},
   "outputs": [
    {
     "name": "stdout",
     "output_type": "stream",
     "text": [
      "Help on function vgp_di in module pmagpy.pmag:\n",
      "\n",
      "vgp_di(plat, plong, slat, slong)\n",
      "    Converts a pole position (pole latitude, pole longitude) to a direction\n",
      "    (declination, inclination) at a given location (slat, slong) assuming a\n",
      "    dipolar field.\n",
      "    \n",
      "    Parameters\n",
      "    ----------\n",
      "    plat : latitude of pole (vgp latitude)\n",
      "    plong : longitude of pole (vgp longitude)\n",
      "    slat : latitude of site\n",
      "    slong : longitude of site\n",
      "    \n",
      "    Returns\n",
      "    ----------\n",
      "    dec,inc : tuple of declination and inclination\n",
      "\n"
     ]
    }
   ],
   "source": [
    "help(pmag.vgp_di)"
   ]
  },
  {
   "cell_type": "code",
   "execution_count": null,
   "metadata": {},
   "outputs": [
    {
     "name": "stdout",
     "output_type": "stream",
     "text": [
      "  335.6    62.9\n"
     ]
    }
   ],
   "source": [
    "d,i=pmag.vgp_di(68,191,33,243)\n",
    "print ('%7.1f %7.1f'%(d,i))"
   ]
  },
  {
   "cell_type": "markdown",
   "metadata": {},
   "source": [
    "## watsons_f\n",
    "\n",
    "[\\[Essentials Chapter 11\\]](https://earthref.org/MagIC/books/Tauxe/Essentials/WebBook3ch11.html) \n",
    "[\\[command line version\\]](https://pmagpy.github.io/PmagPy-cli.html#watsons_f.py)\n",
    "\n",
    "There are several different ways of testing whether two sets of directional data share a common mean.  One popular (although perhaps not the best) way is to use Watson's F test (Watson, 1956, doi: 10.1111/j.1365-246X.1956.tb05560.x).   \\[See also [**watsons_v**](#watsons_v) or  Lisa Tauxe's bootstrap way: [**common_mean**](#common_mean)\\].  \n",
    "\n",
    "If you still want to use Waston's F, then try \n",
    " **pmag.watsons_f()** for this."
   ]
  },
  {
   "cell_type": "code",
   "execution_count": null,
   "metadata": {},
   "outputs": [
    {
     "name": "stdout",
     "output_type": "stream",
     "text": [
      "Help on function watsons_f in module pmagpy.pmag:\n",
      "\n",
      "watsons_f(DI1, DI2)\n",
      "    calculates Watson's F statistic (equation 11.16 in Essentials text book).\n",
      "    \n",
      "    Parameters\n",
      "    _________\n",
      "    DI1 : nested array of [Dec,Inc] pairs\n",
      "    DI2 : nested array of [Dec,Inc] pairs\n",
      "    \n",
      "    Returns\n",
      "    _______\n",
      "    F : Watson's F\n",
      "    Fcrit : critical value from F table\n",
      "\n"
     ]
    }
   ],
   "source": [
    "help(pmag.watsons_f)"
   ]
  },
  {
   "cell_type": "code",
   "execution_count": null,
   "metadata": {},
   "outputs": [
    {
     "name": "stdout",
     "output_type": "stream",
     "text": [
      "   5.23    3.26\n"
     ]
    }
   ],
   "source": [
    "DI1=np.loadtxt('data_files/watsons_f/watsons_f_example_file1.dat')\n",
    "DI2=np.loadtxt('data_files/watsons_f/watsons_f_example_file2.dat')\n",
    "F,Fcrit=pmag.watsons_f(DI1,DI2)\n",
    "print ('%7.2f %7.2f'%(F,Fcrit))"
   ]
  },
  {
   "cell_type": "code",
   "execution_count": null,
   "metadata": {},
   "outputs": [],
   "source": []
  }
 ],
 "metadata": {
  "kernelspec": {
   "display_name": "base",
   "language": "python",
   "name": "python3"
  },
  "language_info": {
   "codemirror_mode": {
    "name": "ipython",
    "version": 3
   },
   "file_extension": ".py",
   "mimetype": "text/x-python",
   "name": "python",
   "nbconvert_exporter": "python",
   "pygments_lexer": "ipython3",
   "version": "3.9.12"
  }
 },
 "nbformat": 4,
 "nbformat_minor": 4
}
